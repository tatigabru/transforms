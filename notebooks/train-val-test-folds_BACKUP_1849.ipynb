{
 "cells": [
  {
   "cell_type": "code",
<<<<<<< HEAD
   "execution_count": 5,
=======
   "execution_count": 7,
>>>>>>> tanya
   "metadata": {},
   "outputs": [],
   "source": [
    "!conda activate ctg"
   ]
  },
  {
   "cell_type": "code",
<<<<<<< HEAD
   "execution_count": 6,
=======
   "execution_count": 8,
>>>>>>> tanya
   "metadata": {},
   "outputs": [],
   "source": [
    "import os\n",
    "import sys\n",
    "import numpy as np\n",
    "import pandas as pd\n",
    "from sklearn.model_selection import StratifiedKFold, train_test_split, StratifiedShuffleSplit\n",
    "import matplotlib.pyplot as plt\n",
    "from typing import Tuple, List, Optional, Dict\n",
    "import seaborn as sns\n",
    "import warnings\n",
    "from tqdm.auto import tqdm\n",
    "from collections import defaultdict, Counter\n",
    "\n",
    "warnings.simplefilter('ignore')\n",
    "%matplotlib inline"
   ]
  },
  {
   "cell_type": "code",
<<<<<<< HEAD
   "execution_count": 7,
=======
   "execution_count": 9,
>>>>>>> tanya
   "metadata": {},
   "outputs": [],
   "source": [
    "import sys\n",
    "sys.path.append('..')"
   ]
  },
  {
   "cell_type": "code",
<<<<<<< HEAD
   "execution_count": 9,
=======
   "execution_count": 11,
>>>>>>> tanya
   "metadata": {},
   "outputs": [],
   "source": [
    "from src.helpers.helpers import argar1_labels, argar5_labels, pH_labels"
   ]
  },
  {
   "cell_type": "code",
<<<<<<< HEAD
   "execution_count": 62,
=======
   "execution_count": 12,
>>>>>>> tanya
   "metadata": {},
   "outputs": [],
   "source": [
    "DATA_DIR = '../../data/folds'\n",
    "META_FILE = '../meta.csv'"
   ]
  },
  {
   "cell_type": "code",
<<<<<<< HEAD
   "execution_count": 63,
=======
   "execution_count": 13,
>>>>>>> tanya
   "metadata": {},
   "outputs": [
    {
     "data": {
      "text/html": [
       "<div>\n",
       "<style scoped>\n",
       "    .dataframe tbody tr th:only-of-type {\n",
       "        vertical-align: middle;\n",
       "    }\n",
       "\n",
       "    .dataframe tbody tr th {\n",
       "        vertical-align: top;\n",
       "    }\n",
       "\n",
       "    .dataframe thead th {\n",
       "        text-align: right;\n",
       "    }\n",
       "</style>\n",
       "<table border=\"1\" class=\"dataframe\">\n",
       "  <thead>\n",
       "    <tr style=\"text-align: right;\">\n",
       "      <th></th>\n",
       "      <th>patient</th>\n",
       "      <th>pH</th>\n",
       "      <th>BDecf</th>\n",
       "      <th>pCO2</th>\n",
       "      <th>BE</th>\n",
       "      <th>Apgar1</th>\n",
       "      <th>Apgar5</th>\n",
       "      <th>Gest. weeks</th>\n",
       "      <th>Weight(g)</th>\n",
       "      <th>Sex</th>\n",
       "      <th>...</th>\n",
       "      <th>Induced</th>\n",
       "      <th>I.stage</th>\n",
       "      <th>NoProgress</th>\n",
       "      <th>CK/KP</th>\n",
       "      <th>II.stage</th>\n",
       "      <th>Deliv. type</th>\n",
       "      <th>dbID</th>\n",
       "      <th>Rec. type</th>\n",
       "      <th>Pos. II.st.</th>\n",
       "      <th>target</th>\n",
       "    </tr>\n",
       "  </thead>\n",
       "  <tbody>\n",
       "    <tr>\n",
       "      <th>0</th>\n",
       "      <td>1220</td>\n",
       "      <td>7.30</td>\n",
       "      <td>3.52</td>\n",
       "      <td>6.0</td>\n",
       "      <td>-4.7</td>\n",
       "      <td>9.0</td>\n",
       "      <td>10.0</td>\n",
       "      <td>42.0</td>\n",
       "      <td>3100.0</td>\n",
       "      <td>2.0</td>\n",
       "      <td>...</td>\n",
       "      <td>1.0</td>\n",
       "      <td>165.0</td>\n",
       "      <td>0.0</td>\n",
       "      <td>0.0</td>\n",
       "      <td>15.0</td>\n",
       "      <td>1.0</td>\n",
       "      <td>1051632.0</td>\n",
       "      <td>2.0</td>\n",
       "      <td>14400.0</td>\n",
       "      <td>0</td>\n",
       "    </tr>\n",
       "    <tr>\n",
       "      <th>1</th>\n",
       "      <td>1234</td>\n",
       "      <td>7.29</td>\n",
       "      <td>2.50</td>\n",
       "      <td>6.5</td>\n",
       "      <td>-4.2</td>\n",
       "      <td>8.0</td>\n",
       "      <td>9.0</td>\n",
       "      <td>41.0</td>\n",
       "      <td>3200.0</td>\n",
       "      <td>1.0</td>\n",
       "      <td>...</td>\n",
       "      <td>0.0</td>\n",
       "      <td>135.0</td>\n",
       "      <td>0.0</td>\n",
       "      <td>0.0</td>\n",
       "      <td>10.0</td>\n",
       "      <td>1.0</td>\n",
       "      <td>1054195.0</td>\n",
       "      <td>1.0</td>\n",
       "      <td>14400.0</td>\n",
       "      <td>0</td>\n",
       "    </tr>\n",
       "    <tr>\n",
       "      <th>2</th>\n",
       "      <td>1208</td>\n",
       "      <td>7.23</td>\n",
       "      <td>5.84</td>\n",
       "      <td>6.6</td>\n",
       "      <td>-7.4</td>\n",
       "      <td>9.0</td>\n",
       "      <td>9.0</td>\n",
       "      <td>40.0</td>\n",
       "      <td>3900.0</td>\n",
       "      <td>2.0</td>\n",
       "      <td>...</td>\n",
       "      <td>0.0</td>\n",
       "      <td>260.0</td>\n",
       "      <td>0.0</td>\n",
       "      <td>0.0</td>\n",
       "      <td>30.0</td>\n",
       "      <td>1.0</td>\n",
       "      <td>1049536.0</td>\n",
       "      <td>12.0</td>\n",
       "      <td>14400.0</td>\n",
       "      <td>0</td>\n",
       "    </tr>\n",
       "    <tr>\n",
       "      <th>3</th>\n",
       "      <td>1038</td>\n",
       "      <td>7.33</td>\n",
       "      <td>2.72</td>\n",
       "      <td>5.7</td>\n",
       "      <td>-4.0</td>\n",
       "      <td>10.0</td>\n",
       "      <td>10.0</td>\n",
       "      <td>39.0</td>\n",
       "      <td>2740.0</td>\n",
       "      <td>1.0</td>\n",
       "      <td>...</td>\n",
       "      <td>0.0</td>\n",
       "      <td>15.0</td>\n",
       "      <td>0.0</td>\n",
       "      <td>0.0</td>\n",
       "      <td>10.0</td>\n",
       "      <td>1.0</td>\n",
       "      <td>1002508.0</td>\n",
       "      <td>1.0</td>\n",
       "      <td>14400.0</td>\n",
       "      <td>0</td>\n",
       "    </tr>\n",
       "    <tr>\n",
       "      <th>4</th>\n",
       "      <td>1004</td>\n",
       "      <td>7.30</td>\n",
       "      <td>5.19</td>\n",
       "      <td>5.5</td>\n",
       "      <td>-6.4</td>\n",
       "      <td>8.0</td>\n",
       "      <td>9.0</td>\n",
       "      <td>41.0</td>\n",
       "      <td>3370.0</td>\n",
       "      <td>1.0</td>\n",
       "      <td>...</td>\n",
       "      <td>1.0</td>\n",
       "      <td>55.0</td>\n",
       "      <td>0.0</td>\n",
       "      <td>0.0</td>\n",
       "      <td>10.0</td>\n",
       "      <td>1.0</td>\n",
       "      <td>983277.0</td>\n",
       "      <td>12.0</td>\n",
       "      <td>14400.0</td>\n",
       "      <td>0</td>\n",
       "    </tr>\n",
       "  </tbody>\n",
       "</table>\n",
       "<p>5 rows × 30 columns</p>\n",
       "</div>"
      ],
      "text/plain": [
       "   patient    pH  BDecf  pCO2   BE  Apgar1  Apgar5  Gest. weeks  Weight(g)  \\\n",
       "0     1220  7.30   3.52   6.0 -4.7     9.0    10.0         42.0     3100.0   \n",
       "1     1234  7.29   2.50   6.5 -4.2     8.0     9.0         41.0     3200.0   \n",
       "2     1208  7.23   5.84   6.6 -7.4     9.0     9.0         40.0     3900.0   \n",
       "3     1038  7.33   2.72   5.7 -4.0    10.0    10.0         39.0     2740.0   \n",
       "4     1004  7.30   5.19   5.5 -6.4     8.0     9.0         41.0     3370.0   \n",
       "\n",
       "   Sex  ...  Induced  I.stage  NoProgress  CK/KP  II.stage  Deliv. type  \\\n",
       "0  2.0  ...      1.0    165.0         0.0    0.0      15.0          1.0   \n",
       "1  1.0  ...      0.0    135.0         0.0    0.0      10.0          1.0   \n",
       "2  2.0  ...      0.0    260.0         0.0    0.0      30.0          1.0   \n",
       "3  1.0  ...      0.0     15.0         0.0    0.0      10.0          1.0   \n",
       "4  1.0  ...      1.0     55.0         0.0    0.0      10.0          1.0   \n",
       "\n",
       "        dbID  Rec. type  Pos. II.st.  target  \n",
       "0  1051632.0        2.0      14400.0       0  \n",
       "1  1054195.0        1.0      14400.0       0  \n",
       "2  1049536.0       12.0      14400.0       0  \n",
       "3  1002508.0        1.0      14400.0       0  \n",
       "4   983277.0       12.0      14400.0       0  \n",
       "\n",
       "[5 rows x 30 columns]"
      ]
     },
<<<<<<< HEAD
     "execution_count": 63,
=======
     "execution_count": 13,
>>>>>>> tanya
     "metadata": {},
     "output_type": "execute_result"
    }
   ],
   "source": [
    "df_train = pd.read_csv(META_FILE)\n",
    "patients = df_train['patient'].values\n",
    "df_train = df_train.drop(['Unnamed: 0'], axis = 1)\n",
    "# normal\n",
    "norm = df_train['patient'][df_train['pH'] >= 7.15].values\n",
    "inter = df_train['patient'][(df_train['pH'] < 7.15) & (df_train['pH'] >= 7.05)].values\n",
    "pathol = df_train['patient'][df_train['pH'] < 7.05].values\n",
    "df = df_train.copy()\n",
    "df.head()"
   ]
  },
  {
   "cell_type": "markdown",
   "metadata": {},
   "source": [
    "## See Targets"
   ]
  },
  {
   "cell_type": "code",
<<<<<<< HEAD
   "execution_count": 64,
=======
   "execution_count": 33,
>>>>>>> tanya
   "metadata": {},
   "outputs": [
    {
     "data": {
      "text/plain": [
<<<<<<< HEAD
       "<matplotlib.axes._subplots.AxesSubplot at 0x1e258350808>"
      ]
     },
     "execution_count": 64,
=======
       "<matplotlib.axes._subplots.AxesSubplot at 0x1b92d50a948>"
      ]
     },
     "execution_count": 33,
>>>>>>> tanya
     "metadata": {},
     "output_type": "execute_result"
    },
    {
     "data": {
      "image/png": "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\n",
      "text/plain": [
       "<Figure size 576x360 with 1 Axes>"
      ]
     },
     "metadata": {
      "needs_background": "light"
     },
     "output_type": "display_data"
    }
   ],
   "source": [
    "#histogram\n",
    "plt.figure(figsize=(8,5))\n",
    "df['Apgar5'].hist(bins=30)"
   ]
  },
  {
   "cell_type": "code",
<<<<<<< HEAD
   "execution_count": 65,
=======
   "execution_count": 34,
>>>>>>> tanya
   "metadata": {},
   "outputs": [
    {
     "data": {
      "text/plain": [
<<<<<<< HEAD
       "<matplotlib.axes._subplots.AxesSubplot at 0x1e2583dd088>"
      ]
     },
     "execution_count": 65,
=======
       "<matplotlib.axes._subplots.AxesSubplot at 0x1b92d4be108>"
      ]
     },
     "execution_count": 34,
>>>>>>> tanya
     "metadata": {},
     "output_type": "execute_result"
    },
    {
     "data": {
      "image/png": "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\n",
      "text/plain": [
       "<Figure size 576x360 with 1 Axes>"
      ]
     },
     "metadata": {
      "needs_background": "light"
     },
     "output_type": "display_data"
    }
   ],
   "source": [
    "#histogram\n",
    "plt.figure(figsize=(8,5))\n",
    "df['Apgar1'].hist(bins=30)"
   ]
  },
  {
   "cell_type": "code",
<<<<<<< HEAD
   "execution_count": 66,
=======
   "execution_count": 16,
>>>>>>> tanya
   "metadata": {},
   "outputs": [
    {
     "data": {
      "text/plain": [
<<<<<<< HEAD
       "<matplotlib.axes._subplots.AxesSubplot at 0x1e258486108>"
      ]
     },
     "execution_count": 66,
=======
       "<matplotlib.axes._subplots.AxesSubplot at 0x1b92cfe2548>"
      ]
     },
     "execution_count": 16,
>>>>>>> tanya
     "metadata": {},
     "output_type": "execute_result"
    },
    {
     "data": {
      "image/png": "iVBORw0KGgoAAAANSUhEUgAAAecAAAEvCAYAAAB/tgmNAAAABHNCSVQICAgIfAhkiAAAAAlwSFlzAAALEgAACxIB0t1+/AAAADh0RVh0U29mdHdhcmUAbWF0cGxvdGxpYiB2ZXJzaW9uMy4xLjMsIGh0dHA6Ly9tYXRwbG90bGliLm9yZy+AADFEAAAUbElEQVR4nO3de5BkdXnG8ecJK5WVUS61brtZiYORWkOYANJBjKlUj8SESyoLiVakKATFGnNhy1TGlFv+YbCMVZuKl1w0sQgg6x9hYohEasEYinIklorO4sqAK0HJGnfdQIjL4hCiGXzzR59JZmdn+t593un+fqqmdvqc3zn9zrs9/czpPufXjggBAIA8fqzsAgAAwLEIZwAAkiGcAQBIhnAGACAZwhkAgGQIZwAAktkwyDvbtGlTjI+PD/Iu++6ZZ57RSSedVHYZpaIHdfSBHiyhD/Rgyd69e5+MiBe1u91Aw3l8fFxzc3ODvMu+m52dVa1WK7uMUtGDOvpAD5bQB3qwxPa3O9mOl7UBAEiGcAYAIBnCGQCAZAhnAACSIZwBAEiGcAYAIBnCGQCAZJqGs+0ft/1l21+z/bDt9xTLz7B9v+1Hbf+t7RP7Xy4AAMOvlSPnH0h6bUScI+lcSRfbvlDSH0v6UEScKemIpOv6VyYAAKOjaThH3UJx83nFV0h6raTbi+W7JV3elwoBABgxLb3nbPsE2/skPSHpHknfkvRURCwWQw5K2tqfEgEAGC2OiNYH26dIukPSuyV9LCJeXiw/XdLdETGxyjZTkqYkqVKpnD8zM9OLutNYWFjQ2NhY2WWUih7U0Qd6sKTVPswfOnrM7YmtJ/erpIHjsVA3OTm5NyKq7W7X1gdfRMRTtmclXSjpFNsbiqPnl0j67hrb3CjpRkmqVqsxbBOhM7k7PVhCH+jBklb7cO3Ou465feCq5tusFzwWutPK2dovKo6YZXujpF+StF/SZyW9vhh2jaRP9atIAABGSStHzlsk7bZ9guph/omI2GP765JmbP+RpK9KurmPdQIAMDKahnNEPCjpvFWWPybpgn4UBQDAKGOGMAAAkiGcAQBIhnAGACAZwhkAgGQIZwAAkiGcAQBIhnAGACAZwhkAgGQIZwAAkiGcAQBIhnAGACAZwhkAgGQIZwAAkiGcAQBIhnAGACAZwhkAgGQIZwAAkiGcAQBIhnAGACAZwhkAgGQIZwAAkiGcAQBIhnAGACAZwhkAgGQIZwAAkiGcAQBIhnAGACAZwhkAgGQIZwAAktlQdgEAMAjjO+9quP7Arsva2r7ZeKAbHDkDAJAM4QwAQDKEMwAAyRDOAAAk0zScbZ9u+7O299t+2Pbbi+U32D5ke1/xdWn/ywUAYPi1crb2oqTpiHjA9gsk7bV9T7HuQxHx/v6VBwDA6GkazhFxWNLh4vvv294vaWu/CwMAYFS19Z6z7XFJ50m6v1h0ve0Hbd9i+9Qe1wYAwEhyRLQ20B6T9DlJ74uIT9quSHpSUkh6r6QtEfGWVbabkjQlSZVK5fyZmZle1Z7CwsKCxsbGyi6jVPSgjj7k7sH8oaMN109sPbmt7RuNb7UP7exzvcn8WBikycnJvRFRbXe7lsLZ9vMk7ZH0mYj44CrrxyXtiYizG+2nWq3G3NxcuzWmNjs7q1qtVnYZpaIHdfQhdw8GOUNYq30Y5lnHMj8WBsl2R+HcytnalnSzpP3Lg9n2lmXDrpD0ULt3DgAAjtfK2dqvkXS1pHnb+4pl75J0pe1zVX9Z+4Ckt/WlQgAARkwrZ2t/XpJXWXV378sBAADMEAYAQDKEMwAAyRDOAAAkQzgDAJBMK2drA0DphvmaYGAljpwBAEiGcAYAIBnCGQCAZAhnAACSIZwBAEiGcAYAIBnCGQCAZLjOGQBW0ezznxuNn55YVK3H9WC0cOQMAEAyhDMAAMkQzgAAJEM4AwCQDOEMAEAyhDMAAMkQzgAAJEM4AwCQDJOQACNg5YQaB3ZdVlIlAFrBkTMAAMkQzgAAJEM4AwCQDOEMAEAyhDMAAMkQzgAAJEM4AwCQDOEMAEAyTEIC4DjrcdKS9VgzsBaOnAEASIZwBgAgGcIZAIBkmoaz7dNtf9b2ftsP2357sfw02/fYfrT499T+lwsAwPBr5ch5UdJ0RPy0pAsl/a7tsyTtlHRvRJwp6d7iNgAA6FLTcI6IwxHxQPH99yXtl7RV0nZJu4thuyVd3q8iAQAYJW2952x7XNJ5ku6XVImIw1I9wCVt7nVxAACMIkdEawPtMUmfk/S+iPik7aci4pRl649ExHHvO9uekjQlSZVK5fyZmZneVJ7EwsKCxsbGyi6jVPSgLnMf5g8dPeb2xNaTezp+ST970Kymdtev1MvxlY3S5tOa96zTPq8HmX8fBmlycnJvRFTb3a6lcLb9PEl7JH0mIj5YLHtEUi0iDtveImk2IrY12k+1Wo25ubl2a0xtdnZWtVqt7DJKRQ/qMveh3Qk6Op3Qo589aFZTu+tX6uX46YlF7bhqe8PtV7uPYZo4JfPvwyDZ7iicWzlb25JulrR/KZgLd0q6pvj+GkmfavfOAQDA8VqZvvM1kq6WNG97X7HsXZJ2SfqE7esk/ZukN/SnRAAARkvTcI6Iz0vyGqsv6m05AACAGcIAAEiGcAYAIBnCGQCAZAhnAACSaeVsbQAYuGbXGQPDjCNnAACSIZwBAEiGcAYAIBnCGQCAZAhnAACSIZwBAEiGcAYAIBmucwZQimH+LGOgWxw5AwCQDOEMAEAyhDMAAMkQzgAAJEM4AwCQDOEMAEAyhDMAAMkQzgAAJMMkJAC6tjShyPTEoq4tvmdSEaBzHDkDAJAM4QwAQDKEMwAAyRDOAAAkQzgDAJAM4QwAQDKEMwAAyRDOAAAkwyQkQEJLk3qsZT1O8NHsZxoFve7BMD5OUMeRMwAAyRDOAAAkQzgDAJAM4QwAQDJNw9n2LbafsP3QsmU32D5ke1/xdWl/ywQAYHS0cuR8q6SLV1n+oYg4t/i6u7dlAQAwupqGc0TcJ+l7A6gFAABIckQ0H2SPS9oTEWcXt2+QdK2kpyXNSZqOiCNrbDslaUqSKpXK+TMzMz0oO4+FhQWNjY2VXUap6EFdL/swf+how/UTW0/uan/Ntu90fGWj9Pizq2/T7s/U7fgy77+yUdp82vE96/f/a7f76yWeF+omJyf3RkS13e06DeeKpCclhaT3StoSEW9ptp9qtRpzc3Pt1pja7OysarVa2WWUih7U9bIPvZ5cYuX+mm3f6fjpiUV9YH7Dqtu0+zN1O77M+5+eWNSOq7Yft02//1+73V8v8bxQZ7ujcO7obO2IeDwinouIH0n6a0kXdLIfAABwvI7C2faWZTevkPTQWmMBAEB7ms6tbfs2STVJm2wflPSHkmq2z1X9Ze0Dkt7WxxoBABgpTcM5Iq5cZfHNfagFAACIGcIAAEiHcAYAIBnCGQCAZJq+5wwAKEe715tjeHDkDABAMoQzAADJEM4AACRDOAMAkAzhDABAMoQzAADJEM4AACRDOAMAkAyTkABoiskwgMHiyBkAgGQIZwAAkiGcAQBIhnAGACAZwhkAgGQIZwAAkiGcAQBIhuucAWBEcL36+sGRMwAAyRDOAAAkQzgDAJAM4QwAQDKEMwAAyRDOAAAkQzgDAJAM4QwAQDKEMwAAyRDOAAAkQzgDAJAM4QwAQDKEMwAAyTQNZ9u32H7C9kPLlp1m+x7bjxb/ntrfMgEAGB2tHDnfKuniFct2Sro3Is6UdG9xGwAA9EDTcI6I+yR9b8Xi7ZJ2F9/vlnR5j+sCAGBkdfqecyUiDktS8e/m3pUEAMBoc0Q0H2SPS9oTEWcXt5+KiFOWrT8SEau+72x7StKUJFUqlfNnZmZ6UHYeCwsLGhsbK7uMUtGDul72Yf7Q0YbrJ7ae3NX+mm3f7v0vja9slB5/tvGYdvfZ6fgy77+yUdp82vE9Xm8/Uzd4XqibnJzcGxHVdrfrNJwfkVSLiMO2t0iajYhtzfZTrVZjbm6u3RpTm52dVa1WK7uMUtGDul72YXznXQ3XH9h1WVf7a7Z9u/e/NH56YlEfmN/QcEy7++x0fJn3Pz2xqB1XbT9um/X2M3WD54U62x2Fc6cva98p6Zri+2skfarD/QAAgBVauZTqNklflLTN9kHb10naJel1th+V9LriNgAA6IENzQZExJVrrLqox7UAAAAxQxgAAOkQzgAAJEM4AwCQDOEMAEAyhDMAAMkQzgAAJEM4AwCQDOEMAEAyhDMAAMkQzgAAJEM4AwCQDOEMAEAyTT/4Ahi0dj97GN1/XjM9BnLhyBkAgGQIZwAAkiGcAQBIhnAGACAZwhkAgGQIZwAAkiGcAQBIhuucgRJwnTGGAY/j/uHIGQCAZAhnAACSIZwBAEiGcAYAIBnCGQCAZAhnAACSIZwBAEiGcAYAIBnCGQCAZAhnAACSIZwBAEiGcAYAIBnCGQCAZLr6VCrbByR9X9JzkhYjotqLogAAGGW9+MjIyYh4sgf7AQAA4mVtAADS6TacQ9I/2d5re6oXBQEAMOocEZ1vbP9ERHzX9mZJ90jaERH3rRgzJWlKkiqVyvkzMzPd1JvOwsKCxsbGyi6jY/OHjh5ze2LryW3vo90eNLvPXtQ0aPOHjqqyUXr82dXXt/szrlxf9v5aHb+8B2XV0K/9tTO+slHafNrxj9v19jM106i+9f7c2CuTk5N7Ozkfq6twPmZH9g2SFiLi/WuNqVarMTc315P7y2J2dla1Wq3sMjo2vvOuY24f2HVZ2/totwfN7rMXNQ3a+M67ND2xqA/Mr34aR7s/48r1Ze+v1fHLe1BWDf3aXzvjpycWteOq7cdts95+pmYa1bfenxt7xXZH4dzxy9q2T7L9gqXvJf2ypIc63R8AAKjr5mztiqQ7bC/t528i4h97UhUAACOs43COiMckndPDWgAAgLiUCgCAdAhnAACSIZwBAEimF9N3AqXq9aVXzS436cV9AOvBeryscVhw5AwAQDKEMwAAyRDOAAAkQzgDAJAM4QwAQDKEMwAAyRDOAAAkQzgDAJAMk5AM2Chc1J/9Z8xeHzCsVpvgh9+/1XHkDABAMoQzAADJEM4AACRDOAMAkAzhDABAMoQzAADJEM4AACRDOAMAkAyTkJSs2wkxVruov5v9tXIfK/c5f+iorm1SRz/vH0AOy39XpycWVevxPqXe//5nfX7hyBkAgGQIZwAAkiGcAQBIhnAGACAZwhkAgGQIZwAAkiGcAQBIZl1f59zu9Wn9uJ5t5TW+Wa6RW0uz66KHQdbrFgEcr9dzPQzL7ztHzgAAJEM4AwCQDOEMAEAyhDMAAMl0Fc62L7b9iO1v2t7Zq6IAABhlHYez7RMkfUTSJZLOknSl7bN6VRgAAKOqmyPnCyR9MyIei4gfSpqRtL03ZQEAMLq6Ceetkr6z7PbBYhkAAOiCI6KzDe03SPqViHhrcftqSRdExI4V46YkTRU3t0l6pPNyU9ok6cmyiygZPaijD/RgCX2gB0u2RcQL2t2omxnCDko6fdntl0j67spBEXGjpBu7uJ/UbM9FRLXsOspED+roAz1YQh/owRLbc51s183L2l+RdKbtM2yfKOmNku7sYn8AAEBdHDlHxKLt6yV9RtIJkm6JiId7VhkAACOqqw++iIi7Jd3do1rWq6F9yb4N9KCOPtCDJfSBHizpqA8dnxAGAAD6g+k7AQBIhnBuke1TbN9u+xu299t+9Yr1p9q+w/aDtr9s++yyau0H29ts71v29bTt31sxxrb/vJjO9UHbryyr3n5psQ+vsP1F2z+w/Y6yau2XFntwVfEYeND2F2yfU1a9/dJiH7YXPdhne872L5RVbz+00oNlY3/O9nO2Xz/oOvutxcdCzfbRZWPe3XCfvKzdGtu7Jf1zRNxUnJ3+/Ih4atn6P5G0EBHvsf0KSR+JiIvKqrefiqlbD0l6VUR8e9nySyXtkHSppFdJ+rOIeFU5VfZfgz5slvRSSZdLOhIR7y+pxL5r0IOfl7Q/Io7YvkTSDSP6WBiT9ExEhO2flfSJiHhFWXX201o9WLbuHkn/rfrJw7eXUOJANHgs1CS9IyJ+tZX9cOTcAtsvlPSLkm6WpIj44fJgLpwl6d5i/TckjduuDLTQwblI0rdW/gKqPn3rx6PuS5JOsb1l8OUNzKp9iIgnIuIrkv6nnLIGaq0efCEijhQ3v6T6PAjDbK0+LMT/HwGdJGmYj4bWel6Q6n+0/72kJwZbUika9aFlhHNrXibpPyR9zPZXbd9k+6QVY74m6dclyfYFqh85DesT0hsl3bbK8lGb0nWtPoySVnpwnaRPD6CWMq3ZB9tX2P6GpLskvWWgVQ3Wqj2wvVXSFZI+OvCKytHod+LVtr9m+9O2f6bRTgjn1myQ9EpJfxUR50l6RtLKj8jcJelU2/tU/yvxq5IWB1rlABQv6f+apL9bbfUqy4bySKFJH0ZCKz2wPal6OL9zUHUNWrM+RMQdxUvZl0t67yBrG5QmPfhTSe+MiOcGW9XgNenDA5JeGhHnSPoLSf/QaF9dXec8Qg5KOhgR9xe3b9eKcI6IpyW9WaqfGCXpX4uvYXOJpAci4vFV1rU0peuQaNSHUdGwB8V7rDdJuiQi/nOglQ1WS4+FiLjP9k/Z3hQRwzbndKMeVCXN1J8WtUnSpbYXI6JhOK1Ta/ahyIil7++2/ZeNHgscObcgIv5d0ndsbysWXSTp68vHFGdzn1jcfKuk+5b/ZwyRK7X2SzZ3SnpTcdb2hZKORsThwZU2UI36MCrW7IHtn5T0SUlXR8S/DLSqwWvUh5cXf6yruHrhREnD+IfKmj2IiDMiYjwixlU/sPmdIQ1mqfFj4cXLHgsXqJ6/az4WOFu7RbbPVf0o4ERJj6l+lPybkhQRH3X90qqPS3pO9eC+btkJMUPB9vNVf0/5ZRFxtFj2W9L/9cCSPizpYkn/JenNEdHRpO+ZtdCHF0uak/RCST+StCDprGH6Y62FHtwk6TckLZ0UsziMH4LQQh/eKelNqp8c+KykP4iIz5dVbz8068GKsbdK2jOMZ2u38Fi4XtJvq/5257OSfj8ivrDm/ghnAABy4WVtAACSIZwBAEiGcAYAIBnCGQCAZAhnAACSIZwBAEiGcAYAIBnCGQCAZP4XX5A2sr3dXBoAAAAASUVORK5CYII=\n",
      "text/plain": [
       "<Figure size 576x360 with 1 Axes>"
      ]
     },
     "metadata": {
      "needs_background": "light"
     },
     "output_type": "display_data"
    }
   ],
   "source": [
    "#histogram\n",
    "plt.figure(figsize=(8,5))\n",
    "df['pH'].hist(bins=100)"
   ]
  },
  {
   "cell_type": "code",
<<<<<<< HEAD
   "execution_count": 67,
=======
   "execution_count": 35,
>>>>>>> tanya
   "metadata": {},
   "outputs": [
    {
     "data": {
      "text/plain": [
       "5"
      ]
     },
<<<<<<< HEAD
     "execution_count": 67,
=======
     "execution_count": 35,
>>>>>>> tanya
     "metadata": {},
     "output_type": "execute_result"
    }
   ],
   "source": [
    "apgar5 = df[df['Apgar5'] <= 5]\n",
    "len(apgar5)"
   ]
  },
  {
   "cell_type": "code",
<<<<<<< HEAD
   "execution_count": 68,
=======
   "execution_count": 36,
>>>>>>> tanya
   "metadata": {},
   "outputs": [
    {
     "data": {
      "text/plain": [
       "27"
      ]
     },
<<<<<<< HEAD
     "execution_count": 68,
=======
     "execution_count": 36,
>>>>>>> tanya
     "metadata": {},
     "output_type": "execute_result"
    }
   ],
   "source": [
    "apgar1 = df[df['Apgar1'] < 5]\n",
    "len(apgar1)"
   ]
  },
  {
   "cell_type": "code",
<<<<<<< HEAD
   "execution_count": 69,
=======
   "execution_count": 37,
>>>>>>> tanya
   "metadata": {},
   "outputs": [
    {
     "data": {
      "text/plain": [
       "277"
      ]
     },
<<<<<<< HEAD
     "execution_count": 69,
=======
     "execution_count": 37,
>>>>>>> tanya
     "metadata": {},
     "output_type": "execute_result"
    }
   ],
   "source": [
    "apgar1 = df[df['Apgar1'] == 9]\n",
    "len(apgar1)"
   ]
  },
  {
   "cell_type": "code",
<<<<<<< HEAD
   "execution_count": 70,
=======
   "execution_count": 38,
>>>>>>> tanya
   "metadata": {},
   "outputs": [
    {
     "data": {
      "text/plain": [
       "20"
      ]
     },
<<<<<<< HEAD
     "execution_count": 70,
=======
     "execution_count": 38,
>>>>>>> tanya
     "metadata": {},
     "output_type": "execute_result"
    }
   ],
   "source": [
    "len(df[df['pH'] < 7.0])"
   ]
  },
  {
   "cell_type": "code",
<<<<<<< HEAD
   "execution_count": 71,
=======
   "execution_count": 39,
>>>>>>> tanya
   "metadata": {},
   "outputs": [
    {
     "data": {
      "text/plain": [
       "375"
      ]
     },
<<<<<<< HEAD
     "execution_count": 71,
=======
     "execution_count": 39,
>>>>>>> tanya
     "metadata": {},
     "output_type": "execute_result"
    }
   ],
   "source": [
    "len(df[df['pH'] >= 7.2])"
   ]
  },
  {
   "cell_type": "code",
<<<<<<< HEAD
   "execution_count": 72,
=======
   "execution_count": 40,
>>>>>>> tanya
   "metadata": {},
   "outputs": [
    {
     "data": {
      "text/plain": [
       "36"
      ]
     },
<<<<<<< HEAD
     "execution_count": 72,
=======
     "execution_count": 40,
>>>>>>> tanya
     "metadata": {},
     "output_type": "execute_result"
    }
   ],
   "source": [
    "len(df[(df_train['pH'] < 7.1)&(df_train['pH'] >= 7.0)])"
   ]
  },
  {
   "cell_type": "code",
<<<<<<< HEAD
   "execution_count": 73,
=======
   "execution_count": 41,
>>>>>>> tanya
   "metadata": {},
   "outputs": [
    {
     "data": {
      "text/plain": [
       "72"
      ]
     },
<<<<<<< HEAD
     "execution_count": 73,
=======
     "execution_count": 41,
>>>>>>> tanya
     "metadata": {},
     "output_type": "execute_result"
    }
   ],
   "source": [
    "len(df[(df_train['pH'] < 7.2)&(df_train['pH'] >= 7.15)])"
   ]
  },
  {
   "cell_type": "code",
<<<<<<< HEAD
   "execution_count": 74,
=======
   "execution_count": 42,
>>>>>>> tanya
   "metadata": {},
   "outputs": [
    {
     "data": {
      "text/plain": [
       "49"
      ]
     },
<<<<<<< HEAD
     "execution_count": 74,
=======
     "execution_count": 42,
>>>>>>> tanya
     "metadata": {},
     "output_type": "execute_result"
    }
   ],
   "source": [
    "len(df[(df_train['pH'] < 7.15)&(df_train['pH'] >= 7.1)])"
   ]
  },
  {
   "cell_type": "code",
<<<<<<< HEAD
   "execution_count": 75,
=======
   "execution_count": 25,
>>>>>>> tanya
   "metadata": {},
   "outputs": [],
   "source": [
    "def pH_labels(df_train: pd.DataFrame, target_col: str = 'target') -> pd.DataFrame:\n",
    "    \"\"\"\n",
    "    Generate label for each signal based on pH values:    \n",
    "        pH >= 7.15 - normal, label = 0\n",
    "        pH >= 7.05 and  < 7.15 - intermediate, label = 2\n",
    "        pH < 7.05 - pathological, label = 1 \n",
    "\n",
    "    Args: \n",
    "        df_train: (pd.DataFrame) patients meta data    \n",
    "\n",
    "    Output: patient df with labels\n",
    "    \n",
    "    We only consider first stage of labour \n",
    "    \"\"\"\n",
    "    # create target column\n",
    "    df_train[target_col] = -1   \n",
    "    df_train[target_col][df_train['pH'] >= 7.2] = 0 # 375       \n",
    "    df_train[target_col][(df_train['pH'] < 7.2)&(df_train['pH'] >= 7.15)] = 1  # 72  \n",
    "    df_train[target_col][(df_train['pH'] < 7.15)&(df_train['pH'] >= 7.1)] = 2 # 49\n",
    "    df_train[target_col][(df_train['pH'] < 7.1)&(df_train['pH'] >= 7.0)] = 3  # 36   \n",
    "    df_train[target_col][df_train['pH'] < 7.0] = 4 # 20\n",
    "    \n",
    "    return df_train"
   ]
  },
  {
   "cell_type": "code",
<<<<<<< HEAD
   "execution_count": 76,
=======
   "execution_count": 65,
>>>>>>> tanya
   "metadata": {},
   "outputs": [],
   "source": [
    "def argar1_labels(df_train: pd.DataFrame, target_col: str = 'target') -> pd.DataFrame:\n",
    "    \"\"\"\n",
    "    Generate label for each signal based on pH values:    \n",
    "        Apgar1 > 8 - normal, label = 0\n",
    "        Apgar1 == 5-7 - intermediate, label = 2\n",
    "        Apgar1 < 5- pathological, label = 1 \n",
    "\n",
    "    Args: \n",
    "        df_train: (pd.DataFrame) patients meta data    \n",
    "\n",
    "    Output: patient df with labels\n",
    "    \n",
    "    We only consider first stage of labour \n",
    "    \"\"\"\n",
    "    # create target column\n",
    "    df_train[target_col] = -1  \n",
    "    df_train[target_col][(df_train['Apgar1'] > 8)] = 0          \n",
    "    df_train[target_col][(df_train['Apgar1'] == 7)|(df_train['Apgar1'] == 8)] = 1  \n",
    "    df_train[target_col][(df_train['Apgar1'] == 5)|(df_train['Apgar1'] == 6)] = 2\n",
    "    df_train[target_col][df_train['Apgar1'] < 5] = 3  # 27\n",
    "\n",
    "    return df_train"
   ]
  },
  {
   "cell_type": "code",
<<<<<<< HEAD
   "execution_count": 77,
=======
   "execution_count": 66,
>>>>>>> tanya
   "metadata": {},
   "outputs": [],
   "source": [
    "def argar5_labels(df_train: pd.DataFrame, target_col: str = 'target') -> pd.DataFrame:\n",
    "    \"\"\"\n",
    "    Generate label for each signal based on pH values:    \n",
    "        Apgar5 > 7 - normal, label = 0\n",
    "        Apgar1 == 7 - intermediate, label = 2\n",
    "        Apgar1 < 7 - pathological, label = 1 \n",
    "\n",
    "    Args: \n",
    "        df_train: (pd.DataFrame) patients meta data    \n",
    "\n",
    "    Output: patient df with labels\n",
    "    \n",
    "    We only consider first stage of labour \n",
    "    \"\"\"\n",
    "    # create target column\n",
    "    df_train[target_col] = -1  \n",
    "    df_train[target_col][(df_train['Apgar5'] > 8)] = 0  \n",
    "    df_train[target_col][(df_train['Apgar5'] == 8)] = 1        \n",
    "    df_train[target_col][(df_train['Apgar5'] == 6)|(df_train['Apgar5'] == 7)] = 2\n",
    "    df_train[target_col][(df_train['Apgar5'] <= 5)] = 3    \n",
    "\n",
    "    return df_train"
   ]
  },
  {
   "cell_type": "code",
<<<<<<< HEAD
   "execution_count": 78,
=======
   "execution_count": 67,
>>>>>>> tanya
   "metadata": {},
   "outputs": [],
   "source": [
    "df = pH_labels(df, 'target')"
   ]
  },
  {
   "cell_type": "code",
<<<<<<< HEAD
   "execution_count": 79,
=======
   "execution_count": 68,
>>>>>>> tanya
   "metadata": {},
   "outputs": [
    {
     "data": {
      "text/plain": [
<<<<<<< HEAD
       "<matplotlib.axes._subplots.AxesSubplot at 0x1e2586163c8>"
      ]
     },
     "execution_count": 79,
=======
       "<matplotlib.axes._subplots.AxesSubplot at 0x1b92f14aa48>"
      ]
     },
     "execution_count": 68,
>>>>>>> tanya
     "metadata": {},
     "output_type": "execute_result"
    },
    {
     "data": {
      "image/png": "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\n",
      "text/plain": [
       "<Figure size 576x360 with 1 Axes>"
      ]
     },
     "metadata": {
      "needs_background": "light"
     },
     "output_type": "display_data"
    }
   ],
   "source": [
    "#histogram\n",
    "plt.figure(figsize=(8,5))\n",
    "df['target'].hist(bins=100)"
   ]
  },
  {
   "cell_type": "code",
   "execution_count": 69,
   "metadata": {},
   "outputs": [],
   "source": [
    "df = argar1_labels(df, 'target_apgar1')"
   ]
  },
  {
   "cell_type": "code",
   "execution_count": 70,
   "metadata": {},
   "outputs": [
    {
     "data": {
      "text/plain": [
       "<matplotlib.axes._subplots.AxesSubplot at 0x1b92f2d6f48>"
      ]
     },
     "execution_count": 70,
     "metadata": {},
     "output_type": "execute_result"
    },
    {
     "data": {
      "image/png": "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\n",
      "text/plain": [
       "<Figure size 576x360 with 1 Axes>"
      ]
     },
     "metadata": {
      "needs_background": "light"
     },
     "output_type": "display_data"
    }
   ],
   "source": [
    "#histogram\n",
    "plt.figure(figsize=(8,5))\n",
    "df['target_apgar1'].hist(bins=100)"
   ]
  },
  {
   "cell_type": "code",
   "execution_count": 72,
   "metadata": {},
   "outputs": [],
   "source": [
    "df = argar5_labels(df, 'target_apgar5')"
   ]
  },
  {
   "cell_type": "code",
   "execution_count": 73,
   "metadata": {},
   "outputs": [
    {
     "data": {
      "text/plain": [
       "<matplotlib.axes._subplots.AxesSubplot at 0x1b92f45e448>"
      ]
     },
     "execution_count": 73,
     "metadata": {},
     "output_type": "execute_result"
    },
    {
     "data": {
      "image/png": "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\n",
      "text/plain": [
       "<Figure size 576x360 with 1 Axes>"
      ]
     },
     "metadata": {
      "needs_background": "light"
     },
     "output_type": "display_data"
    }
   ],
   "source": [
    "#histogram\n",
    "plt.figure(figsize=(8,5))\n",
    "df['target_apgar5'].hist(bins=100)"
   ]
  },
  {
   "cell_type": "markdown",
   "metadata": {},
   "source": [
    "## Multilable stratification, pH and Apgar\n",
    "http://scikit.ml/stratification.html\n",
    "\n",
    "https://github.com/trent-b/iterative-stratification"
   ]
  },
  {
   "cell_type": "code",
   "execution_count": 80,
   "metadata": {},
   "outputs": [],
   "source": [
    "#!pip install scikit-multilearn"
   ]
  },
  {
   "cell_type": "code",
   "execution_count": 81,
   "metadata": {},
   "outputs": [],
   "source": [
    "from skmultilearn.cluster import LabelCooccurrenceGraphBuilder\n"
   ]
  },
  {
   "cell_type": "code",
   "execution_count": 82,
   "metadata": {},
   "outputs": [],
   "source": [
    "#!pip install iterative-stratification"
   ]
  },
  {
   "cell_type": "code",
   "execution_count": 83,
   "metadata": {},
   "outputs": [],
   "source": [
    "#MultilabelStratifiedKFold\n",
    "from iterstrat.ml_stratifiers import MultilabelStratifiedKFold"
   ]
  },
  {
   "cell_type": "code",
   "execution_count": 84,
   "metadata": {},
   "outputs": [],
   "source": [
    "def multilable_train_test_split(df: pd.DataFrame, X: np.array, y: np.array, nb_folds: int = 10, column_name: str = 'fold', save_name: Optional[str] = None) -> pd.DataFrame:\n",
    "    \"\"\"\n",
    "    Create folds using iterative stratification of multi label data\n",
    "    Source: https://github.com/trent-b/iterative-stratification\n",
    "    Args: \n",
    "        df       : train meta dataframe\n",
    "        X        : X Series to split\n",
    "        y        : y list of tuples to use for stratification\n",
    "        nb_folds : number of folds\n",
    "        column_name: name of the folds column\n",
    "        save_name: if not None, save folds to the save_name.csv file\n",
    "\n",
    "    Output: \n",
    "        df: train meta with splitted folds\n",
    "    \"\"\"\n",
    "    df[column_name] = -1  # set all folds to -1 initially    \n",
    "    mskf = MultilabelStratifiedKFold(n_splits=nb_folds, random_state=1234)\n",
    "    \n",
    "    # split folds\n",
    "    for fold, (train_index, test_index) in enumerate(mskf.split(X, y)):\n",
    "        df.loc[test_index, column_name] = fold\n",
    "    # save dataframe with folds (optionally)\n",
    "    if save_name:\n",
    "        df.to_csv(os.path.join(DATA_DIR, f\"{save_name}.csv\"), index=False)\n",
    "\n",
    "    return df"
   ]
  },
  {
   "cell_type": "code",
   "execution_count": 415,
   "metadata": {},
   "outputs": [
    {
     "data": {
      "text/plain": [
       "(array([1012, 1043, 1058, 1060, 1064, 1071, 1072, 1073, 1076, 1080, 1082,\n",
       "        1087, 1096, 1105, 1108, 1119, 1121, 1130, 1131, 1134, 1137, 1144,\n",
       "        1151, 1160, 1164, 1171, 1173, 1184, 1186, 1190, 1196, 1198, 1199,\n",
       "        1210, 1215, 1216, 1218, 1228, 1235, 1238, 1241, 1244, 1251, 1252,\n",
       "        1268, 1278, 1280, 1285, 1288, 1318, 1328, 1338, 1345, 1356, 1357,\n",
       "        1358, 1361, 1367, 1372, 1380, 1386, 1408, 1415, 1422, 1425, 1430,\n",
       "        1431, 1432, 1436, 1447, 1448, 1474, 1481, 1501, 2001, 2003, 2004,\n",
       "        2005, 2006, 2007, 2008, 2013, 2014, 2015, 2017, 2018, 2019, 2020,\n",
       "        2021, 2022, 2025, 2026, 2027, 2028, 2030, 2034, 2035, 2036, 2039,\n",
       "        2040, 2041, 2046], dtype=int64),\n",
       " 102)"
      ]
     },
     "execution_count": 415,
     "metadata": {},
     "output_type": "execute_result"
    }
   ],
   "source": [
    "SAVE_PATH = '../../data/preprocessed/npy450_3_ph/'\n",
    "dropped_patients = np.load(SAVE_PATH+'dropped_patients.npy')\n",
    "dropped_patients = np.unique(dropped_patients)\n",
    "dropped_patients, len(dropped_patients)"
   ]
  },
  {
   "cell_type": "code",
   "execution_count": 416,
   "metadata": {},
   "outputs": [
    {
     "data": {
      "text/plain": [
       "450"
      ]
     },
     "execution_count": 416,
     "metadata": {},
     "output_type": "execute_result"
    }
   ],
   "source": [
    "saved_patients = np.load(SAVE_PATH+'saved_patients.npy')\n",
    "saved_patients = np.unique(saved_patients)\n",
    "len(saved_patients)"
   ]
  },
  {
   "cell_type": "code",
   "execution_count": 1,
   "metadata": {},
   "outputs": [
    {
     "ename": "NameError",
     "evalue": "name 'df' is not defined",
     "output_type": "error",
     "traceback": [
      "\u001b[1;31m---------------------------------------------------------------------------\u001b[0m",
      "\u001b[1;31mNameError\u001b[0m                                 Traceback (most recent call last)",
      "\u001b[1;32m<ipython-input-1-08c52c998370>\u001b[0m in \u001b[0;36m<module>\u001b[1;34m\u001b[0m\n\u001b[1;32m----> 1\u001b[1;33m \u001b[0mdf_s\u001b[0m \u001b[1;33m=\u001b[0m \u001b[0mdf\u001b[0m\u001b[1;33m[\u001b[0m\u001b[1;33m(\u001b[0m\u001b[0mdf\u001b[0m\u001b[1;33m[\u001b[0m\u001b[1;34m\"patient\"\u001b[0m\u001b[1;33m]\u001b[0m\u001b[1;33m.\u001b[0m\u001b[0misin\u001b[0m\u001b[1;33m(\u001b[0m\u001b[0msaved_patients\u001b[0m\u001b[1;33m)\u001b[0m\u001b[1;33m)\u001b[0m\u001b[1;33m&\u001b[0m\u001b[1;33m(\u001b[0m\u001b[0mdf\u001b[0m\u001b[1;33m[\u001b[0m\u001b[1;34m\"Deliv. type\"\u001b[0m\u001b[1;33m]\u001b[0m\u001b[1;33m==\u001b[0m\u001b[1;36m1\u001b[0m\u001b[1;33m)\u001b[0m\u001b[1;33m]\u001b[0m\u001b[1;33m\u001b[0m\u001b[1;33m\u001b[0m\u001b[0m\n\u001b[0m\u001b[0;32m      2\u001b[0m \u001b[0mdf_s\u001b[0m\u001b[1;33m[\u001b[0m\u001b[1;34m\"Deliv. type\"\u001b[0m\u001b[1;33m]\u001b[0m\u001b[1;33m.\u001b[0m\u001b[0mdescribe\u001b[0m\u001b[1;33m(\u001b[0m\u001b[1;33m)\u001b[0m\u001b[1;33m\u001b[0m\u001b[1;33m\u001b[0m\u001b[0m\n",
      "\u001b[1;31mNameError\u001b[0m: name 'df' is not defined"
     ]
    }
   ],
   "source": [
    "df_s = df[(df[\"patient\"].isin(saved_patients))&(df[\"Deliv. type\"]==1)]\n",
    "df_s[\"Deliv. type\"].describe()\n"
   ]
  },
  {
   "cell_type": "code",
   "execution_count": 418,
   "metadata": {},
   "outputs": [],
   "source": [
    "#df_s.to_csv(os.path.join(DATA_DIR, \"df_filtered.csv\"), index=False)"
   ]
  },
  {
   "cell_type": "code",
   "execution_count": 85,
   "metadata": {},
   "outputs": [],
   "source": [
    "df= pd.read_csv(os.path.join(DATA_DIR, \"df_filtered.csv\"))"
   ]
  },
  {
   "cell_type": "code",
   "execution_count": 86,
   "metadata": {},
   "outputs": [
    {
     "data": {
      "text/plain": [
       "432"
      ]
     },
     "execution_count": 86,
     "metadata": {},
     "output_type": "execute_result"
    }
   ],
   "source": [
    "patients = df['patient'].values\n",
    "len(patients)"
   ]
  },
  {
   "cell_type": "code",
   "execution_count": 87,
   "metadata": {},
   "outputs": [
    {
     "data": {
      "text/plain": [
       "432"
      ]
     },
     "execution_count": 87,
     "metadata": {},
     "output_type": "execute_result"
    }
   ],
   "source": [
    "target = df['target'].values\n",
    "len(target)"
   ]
  },
  {
   "cell_type": "code",
   "execution_count": 88,
   "metadata": {},
   "outputs": [
    {
     "data": {
      "text/plain": [
       "array([[ 0.,  9.],\n",
       "       [ 0.,  8.],\n",
       "       [ 0.,  9.],\n",
       "       [ 0., 10.],\n",
       "       [ 0.,  8.],\n",
       "       [ 0.,  8.],\n",
       "       [ 0., 10.],\n",
       "       [ 3.,  8.],\n",
       "       [ 0.,  9.],\n",
       "       [ 0.,  9.],\n",
       "       [ 3.,  6.],\n",
       "       [ 0.,  9.],\n",
       "       [ 0.,  3.],\n",
       "       [ 0.,  9.],\n",
       "       [ 0.,  9.],\n",
       "       [ 0.,  9.],\n",
       "       [ 0.,  9.],\n",
       "       [ 0.,  9.],\n",
       "       [ 2.,  9.],\n",
       "       [ 0., 10.],\n",
       "       [ 2.,  9.],\n",
       "       [ 0.,  9.],\n",
       "       [ 0.,  8.],\n",
       "       [ 0.,  9.],\n",
       "       [ 4.,  3.],\n",
       "       [ 0., 10.],\n",
       "       [ 0.,  7.],\n",
       "       [ 0.,  8.],\n",
       "       [ 2.,  8.],\n",
       "       [ 0.,  7.],\n",
       "       [ 0.,  9.],\n",
       "       [ 0., 10.],\n",
       "       [ 0.,  9.],\n",
       "       [ 2.,  9.],\n",
       "       [ 0.,  9.],\n",
       "       [ 0.,  8.],\n",
       "       [ 1.,  8.],\n",
       "       [ 3.,  9.],\n",
       "       [ 3.,  8.],\n",
       "       [ 0.,  7.],\n",
       "       [ 0.,  9.],\n",
       "       [ 2.,  6.],\n",
       "       [ 0.,  9.],\n",
       "       [ 2.,  7.],\n",
       "       [ 1.,  3.],\n",
       "       [ 0., 10.],\n",
       "       [ 2.,  5.],\n",
       "       [ 0.,  9.],\n",
       "       [ 0.,  8.],\n",
       "       [ 0.,  9.],\n",
       "       [ 2.,  8.],\n",
       "       [ 0.,  9.],\n",
       "       [ 0.,  9.],\n",
       "       [ 0.,  9.],\n",
       "       [ 0., 10.],\n",
       "       [ 0.,  5.],\n",
       "       [ 1.,  9.],\n",
       "       [ 0.,  5.],\n",
       "       [ 0.,  5.],\n",
       "       [ 1.,  8.],\n",
       "       [ 2.,  8.],\n",
       "       [ 4.,  6.],\n",
       "       [ 0.,  9.],\n",
       "       [ 0.,  9.],\n",
       "       [ 0.,  9.],\n",
       "       [ 0., 10.],\n",
       "       [ 4.,  3.],\n",
       "       [ 0.,  9.],\n",
       "       [ 0.,  9.],\n",
       "       [ 0.,  9.],\n",
       "       [ 1.,  3.],\n",
       "       [ 0.,  9.],\n",
       "       [ 0.,  9.],\n",
       "       [ 3.,  8.],\n",
       "       [ 0.,  5.],\n",
       "       [ 0.,  9.],\n",
       "       [ 2.,  4.],\n",
       "       [ 0.,  8.],\n",
       "       [ 0., 10.],\n",
       "       [ 0.,  9.],\n",
       "       [ 4.,  8.],\n",
       "       [ 0.,  4.],\n",
       "       [ 1.,  9.],\n",
       "       [ 3.,  5.],\n",
       "       [ 1.,  8.],\n",
       "       [ 0.,  9.],\n",
       "       [ 0., 10.],\n",
       "       [ 2.,  5.],\n",
       "       [ 0.,  9.],\n",
       "       [ 0., 10.],\n",
       "       [ 1.,  3.],\n",
       "       [ 1.,  5.],\n",
       "       [ 0.,  9.],\n",
       "       [ 0.,  8.],\n",
       "       [ 0.,  8.],\n",
       "       [ 0.,  8.],\n",
       "       [ 0.,  8.],\n",
       "       [ 0.,  9.],\n",
       "       [ 0.,  9.],\n",
       "       [ 0.,  8.],\n",
       "       [ 0.,  9.],\n",
       "       [ 0.,  9.],\n",
       "       [ 3.,  8.],\n",
       "       [ 3.,  8.],\n",
       "       [ 1.,  7.],\n",
       "       [ 0.,  9.],\n",
       "       [ 0.,  9.],\n",
       "       [ 0.,  7.],\n",
       "       [ 0.,  9.],\n",
       "       [ 0.,  9.],\n",
       "       [ 1.,  5.],\n",
       "       [ 3.,  4.],\n",
       "       [ 0.,  4.],\n",
       "       [ 1.,  8.],\n",
       "       [ 3.,  9.],\n",
       "       [ 2.,  8.],\n",
       "       [ 0.,  9.],\n",
       "       [ 0.,  9.],\n",
       "       [ 0., 10.],\n",
       "       [ 1.,  8.],\n",
       "       [ 0., 10.],\n",
       "       [ 0.,  9.],\n",
       "       [ 0., 10.],\n",
       "       [ 0.,  8.],\n",
       "       [ 0.,  9.],\n",
       "       [ 0.,  8.],\n",
       "       [ 0.,  8.],\n",
       "       [ 0.,  9.],\n",
       "       [ 0.,  9.],\n",
       "       [ 0.,  9.],\n",
       "       [ 1.,  9.],\n",
       "       [ 0.,  9.],\n",
       "       [ 1.,  9.],\n",
       "       [ 0.,  9.],\n",
       "       [ 2., 10.],\n",
       "       [ 0.,  3.],\n",
       "       [ 0.,  9.],\n",
       "       [ 0.,  9.],\n",
       "       [ 0.,  9.],\n",
       "       [ 0., 10.],\n",
       "       [ 0.,  8.],\n",
       "       [ 0.,  9.],\n",
       "       [ 0.,  9.],\n",
       "       [ 2.,  9.],\n",
       "       [ 0.,  7.],\n",
       "       [ 0.,  9.],\n",
       "       [ 0.,  9.],\n",
       "       [ 1.,  9.],\n",
       "       [ 0.,  7.],\n",
       "       [ 3.,  6.],\n",
       "       [ 0.,  9.],\n",
       "       [ 0., 10.],\n",
       "       [ 1.,  8.],\n",
       "       [ 0.,  9.],\n",
       "       [ 0.,  8.],\n",
       "       [ 2.,  6.],\n",
       "       [ 0.,  9.],\n",
       "       [ 4.,  8.],\n",
       "       [ 0.,  9.],\n",
       "       [ 0.,  9.],\n",
       "       [ 0.,  9.],\n",
       "       [ 1.,  7.],\n",
       "       [ 0.,  9.],\n",
       "       [ 0.,  9.],\n",
       "       [ 2.,  7.],\n",
       "       [ 0.,  9.],\n",
       "       [ 0.,  9.],\n",
       "       [ 0.,  7.],\n",
       "       [ 0.,  7.],\n",
       "       [ 0.,  9.],\n",
       "       [ 0.,  9.],\n",
       "       [ 1.,  9.],\n",
       "       [ 1.,  9.],\n",
       "       [ 0.,  9.],\n",
       "       [ 0.,  9.],\n",
       "       [ 2., 10.],\n",
       "       [ 0.,  9.],\n",
       "       [ 0.,  3.],\n",
       "       [ 0.,  9.],\n",
       "       [ 0.,  9.],\n",
       "       [ 0.,  9.],\n",
       "       [ 0.,  9.],\n",
       "       [ 0.,  9.],\n",
       "       [ 1.,  9.],\n",
       "       [ 0., 10.],\n",
       "       [ 2.,  9.],\n",
       "       [ 2.,  9.],\n",
       "       [ 0.,  8.],\n",
       "       [ 1.,  3.],\n",
       "       [ 0.,  9.],\n",
       "       [ 1.,  8.],\n",
       "       [ 2.,  9.],\n",
       "       [ 0.,  7.],\n",
       "       [ 0.,  9.],\n",
       "       [ 0.,  8.],\n",
       "       [ 2.,  8.],\n",
       "       [ 0.,  9.],\n",
       "       [ 0.,  5.],\n",
       "       [ 0.,  9.],\n",
       "       [ 2.,  9.],\n",
       "       [ 0., 10.],\n",
       "       [ 0.,  9.],\n",
       "       [ 0., 10.],\n",
       "       [ 0.,  9.],\n",
       "       [ 0.,  9.],\n",
       "       [ 0.,  9.],\n",
       "       [ 1.,  7.],\n",
       "       [ 2.,  8.],\n",
       "       [ 0.,  9.],\n",
       "       [ 0.,  9.],\n",
       "       [ 0.,  9.],\n",
       "       [ 0.,  9.],\n",
       "       [ 0.,  9.],\n",
       "       [ 0., 10.],\n",
       "       [ 1., 10.],\n",
       "       [ 2.,  8.],\n",
       "       [ 0.,  8.],\n",
       "       [ 0.,  9.],\n",
       "       [ 0.,  9.],\n",
       "       [ 1.,  9.],\n",
       "       [ 0.,  9.],\n",
       "       [ 2.,  6.],\n",
       "       [ 3.,  7.],\n",
       "       [ 0.,  9.],\n",
       "       [ 0.,  9.],\n",
       "       [ 0., 10.],\n",
       "       [ 0.,  8.],\n",
       "       [ 0.,  9.],\n",
       "       [ 1.,  8.],\n",
       "       [ 0., 10.],\n",
       "       [ 0., 10.],\n",
       "       [ 0.,  9.],\n",
       "       [ 1.,  9.],\n",
       "       [ 2.,  4.],\n",
       "       [ 0.,  9.],\n",
       "       [ 0.,  9.],\n",
       "       [ 0.,  9.],\n",
       "       [ 0.,  9.],\n",
       "       [ 0.,  6.],\n",
       "       [ 0.,  9.],\n",
       "       [ 0.,  9.],\n",
       "       [ 0.,  9.],\n",
       "       [ 1.,  8.],\n",
       "       [ 0.,  8.],\n",
       "       [ 0.,  9.],\n",
       "       [ 0.,  9.],\n",
       "       [ 1.,  9.],\n",
       "       [ 0.,  9.],\n",
       "       [ 0.,  9.],\n",
       "       [ 1.,  9.],\n",
       "       [ 0.,  9.],\n",
       "       [ 1.,  8.],\n",
       "       [ 0.,  9.],\n",
       "       [ 1.,  9.],\n",
       "       [ 1.,  8.],\n",
       "       [ 0.,  9.],\n",
       "       [ 0.,  9.],\n",
       "       [ 0.,  9.],\n",
       "       [ 0.,  9.],\n",
       "       [ 2.,  4.],\n",
       "       [ 0.,  8.],\n",
       "       [ 0.,  6.],\n",
       "       [ 0.,  9.],\n",
       "       [ 0.,  9.],\n",
       "       [ 0.,  9.],\n",
       "       [ 4.,  8.],\n",
       "       [ 0., 10.],\n",
       "       [ 2.,  8.],\n",
       "       [ 0.,  8.],\n",
       "       [ 0.,  9.],\n",
       "       [ 0.,  9.],\n",
       "       [ 0.,  9.],\n",
       "       [ 0.,  9.],\n",
       "       [ 0.,  8.],\n",
       "       [ 0.,  9.],\n",
       "       [ 1.,  9.],\n",
       "       [ 0., 10.],\n",
       "       [ 0.,  9.],\n",
       "       [ 0., 10.],\n",
       "       [ 0.,  9.],\n",
       "       [ 0., 10.],\n",
       "       [ 0.,  9.],\n",
       "       [ 2.,  8.],\n",
       "       [ 1.,  9.],\n",
       "       [ 1.,  7.],\n",
       "       [ 1.,  9.],\n",
       "       [ 1.,  9.],\n",
       "       [ 4.,  8.],\n",
       "       [ 0.,  8.],\n",
       "       [ 0.,  9.],\n",
       "       [ 4.,  5.],\n",
       "       [ 0.,  7.],\n",
       "       [ 0.,  9.],\n",
       "       [ 0.,  9.],\n",
       "       [ 0., 10.],\n",
       "       [ 0.,  9.],\n",
       "       [ 0., 10.],\n",
       "       [ 1., 10.],\n",
       "       [ 0.,  9.],\n",
       "       [ 0.,  9.],\n",
       "       [ 0.,  9.],\n",
       "       [ 0.,  9.],\n",
       "       [ 0.,  9.],\n",
       "       [ 1.,  9.],\n",
       "       [ 0.,  9.],\n",
       "       [ 0.,  9.],\n",
       "       [ 0.,  8.],\n",
       "       [ 0.,  9.],\n",
       "       [ 2.,  1.],\n",
       "       [ 0.,  8.],\n",
       "       [ 1.,  8.],\n",
       "       [ 0.,  9.],\n",
       "       [ 0., 10.],\n",
       "       [ 0.,  9.],\n",
       "       [ 0.,  9.],\n",
       "       [ 2.,  6.],\n",
       "       [ 2.,  8.],\n",
       "       [ 0.,  9.],\n",
       "       [ 0.,  8.],\n",
       "       [ 0.,  9.],\n",
       "       [ 2., 10.],\n",
       "       [ 0.,  9.],\n",
       "       [ 1.,  7.],\n",
       "       [ 0.,  9.],\n",
       "       [ 0.,  9.],\n",
       "       [ 0.,  9.],\n",
       "       [ 1.,  9.],\n",
       "       [ 0.,  3.],\n",
       "       [ 0.,  9.],\n",
       "       [ 2.,  9.],\n",
       "       [ 0.,  9.],\n",
       "       [ 2.,  8.],\n",
       "       [ 0., 10.],\n",
       "       [ 1.,  9.],\n",
       "       [ 0., 10.],\n",
       "       [ 0.,  7.],\n",
       "       [ 3.,  7.],\n",
       "       [ 1.,  8.],\n",
       "       [ 1.,  8.],\n",
       "       [ 0.,  9.],\n",
       "       [ 1.,  6.],\n",
       "       [ 2.,  7.],\n",
       "       [ 2.,  7.],\n",
       "       [ 2.,  9.],\n",
       "       [ 0.,  9.],\n",
       "       [ 3.,  4.],\n",
       "       [ 1.,  8.],\n",
       "       [ 0.,  9.],\n",
       "       [ 1.,  4.],\n",
       "       [ 0.,  9.],\n",
       "       [ 1.,  9.],\n",
       "       [ 0.,  9.],\n",
       "       [ 0.,  9.],\n",
       "       [ 0.,  9.],\n",
       "       [ 0.,  8.],\n",
       "       [ 3.,  8.],\n",
       "       [ 0.,  8.],\n",
       "       [ 0.,  8.],\n",
       "       [ 0.,  9.],\n",
       "       [ 1.,  7.],\n",
       "       [ 2.,  6.],\n",
       "       [ 0.,  8.],\n",
       "       [ 0.,  9.],\n",
       "       [ 0.,  9.],\n",
       "       [ 0.,  9.],\n",
       "       [ 0.,  9.],\n",
       "       [ 0.,  9.],\n",
       "       [ 1.,  7.],\n",
       "       [ 1.,  9.],\n",
       "       [ 0., 10.],\n",
       "       [ 0.,  9.],\n",
       "       [ 0.,  6.],\n",
       "       [ 0.,  9.],\n",
       "       [ 0.,  9.],\n",
       "       [ 0.,  8.],\n",
       "       [ 2.,  4.],\n",
       "       [ 4.,  6.],\n",
       "       [ 0.,  8.],\n",
       "       [ 4.,  8.],\n",
       "       [ 0.,  7.],\n",
       "       [ 2.,  5.],\n",
       "       [ 0.,  9.],\n",
       "       [ 1.,  9.],\n",
       "       [ 0.,  9.],\n",
       "       [ 0.,  9.],\n",
       "       [ 3.,  8.],\n",
       "       [ 0.,  8.],\n",
       "       [ 0.,  9.],\n",
       "       [ 2.,  8.],\n",
       "       [ 0., 10.],\n",
       "       [ 0.,  9.],\n",
       "       [ 2.,  9.],\n",
       "       [ 2.,  9.],\n",
       "       [ 0.,  8.],\n",
       "       [ 0.,  9.],\n",
       "       [ 0.,  9.],\n",
       "       [ 0.,  9.],\n",
       "       [ 0.,  9.],\n",
       "       [ 0.,  9.],\n",
       "       [ 0., 10.],\n",
       "       [ 0.,  7.],\n",
       "       [ 0.,  9.],\n",
       "       [ 0.,  8.],\n",
       "       [ 0., 10.],\n",
       "       [ 1.,  8.],\n",
       "       [ 0.,  9.],\n",
       "       [ 0.,  9.],\n",
       "       [ 0.,  8.],\n",
       "       [ 3.,  7.],\n",
       "       [ 0., 10.],\n",
       "       [ 3.,  6.],\n",
       "       [ 0.,  9.],\n",
       "       [ 1.,  9.],\n",
       "       [ 0.,  8.],\n",
       "       [ 1.,  9.],\n",
       "       [ 0.,  9.],\n",
       "       [ 0.,  9.],\n",
       "       [ 0.,  9.],\n",
       "       [ 1.,  7.],\n",
       "       [ 0.,  9.],\n",
       "       [ 0., 10.],\n",
       "       [ 0.,  9.],\n",
       "       [ 0., 10.],\n",
       "       [ 0.,  8.],\n",
       "       [ 1.,  8.],\n",
       "       [ 0.,  9.],\n",
       "       [ 1., 10.],\n",
       "       [ 0.,  6.],\n",
       "       [ 1.,  9.],\n",
       "       [ 0.,  8.],\n",
       "       [ 0.,  8.],\n",
       "       [ 0.,  9.]])"
      ]
     },
     "execution_count": 88,
     "metadata": {},
     "output_type": "execute_result"
    }
   ],
   "source": [
    "labels = df[['target', 'Apgar1']].values\n",
    "labels"
   ]
  },
  {
   "cell_type": "code",
   "execution_count": 89,
   "metadata": {},
   "outputs": [],
   "source": [
    "df = multilable_train_test_split(df=df, X=patients, y=labels,  nb_folds = 10, column_name = 'test_fold', save_name = None)"
   ]
  },
  {
   "cell_type": "code",
   "execution_count": 90,
   "metadata": {},
   "outputs": [
    {
     "name": "stdout",
     "output_type": "stream",
     "text": [
      "3 labels, 1 edges\n",
      "{(0, 1): 134.0}\n"
     ]
    }
   ],
   "source": [
    "graph_builder = LabelCooccurrenceGraphBuilder(weighted=True, include_self_edges=False)\n",
    "label_names = ['target', 'Apgar1', 'Deliv. type']\n",
    "edge_map = graph_builder.transform(labels)\n",
    "print(\"{} labels, {} edges\".format(len(label_names), len(edge_map)))\n",
    "print(edge_map)"
   ]
  },
  {
   "cell_type": "code",
   "execution_count": 91,
   "metadata": {},
   "outputs": [],
   "source": [
    "def test_folds(folds_df: pd.DataFrame, nb_folds: int = 5, column_name: str = 'test_fold') -> None:    \n",
    "    \"\"\"\n",
    "    Test classes distribution in folds\n",
    "    Args: \n",
    "        folds_df : train meta dataframe with folds\n",
    "        nb_folds : number of folds\n",
    "        column_name: (str) name of the fold column\n",
    "    \"\"\"\n",
    "    for fold in range(nb_folds):  \n",
    "        train_fold = folds_df[folds_df[column_name] != fold]\n",
    "        valid_fold = folds_df[folds_df[column_name] == fold] \n",
    "        \n",
    "        cls_counts = Counter(cls for classes in train_fold[['target', 'Apgar1']].values\n",
    "                                 for cls in classes)   \n",
    "        print('train_fold counts :', cls_counts)\n",
    "        cls_counts = Counter(cls for classes in valid_fold[['target', 'Apgar1']].values\n",
    "                                 for cls in classes) \n",
    "        print('valid_fold counts :', cls_counts)    "
   ]
  },
  {
   "cell_type": "code",
   "execution_count": 92,
   "metadata": {},
   "outputs": [
    {
     "name": "stdout",
     "output_type": "stream",
     "text": [
      "train_fold counts : Counter({0.0: 267, 9.0: 207, 8.0: 75, 1.0: 58, 2.0: 40, 10.0: 37, 7.0: 26, 3.0: 24, 4.0: 16, 6.0: 15, 5.0: 11})\n",
      "valid_fold counts : Counter({0.0: 31, 9.0: 20, 8.0: 10, 10.0: 8, 1.0: 5, 2.0: 4, 3.0: 4, 4.0: 3, 7.0: 2, 5.0: 1})\n",
      "train_fold counts : Counter({0.0: 269, 9.0: 199, 8.0: 81, 1.0: 57, 10.0: 39, 2.0: 39, 7.0: 27, 3.0: 25, 4.0: 17, 6.0: 15, 5.0: 10})\n",
      "valid_fold counts : Counter({0.0: 29, 9.0: 28, 1.0: 6, 10.0: 6, 2.0: 5, 8.0: 4, 3.0: 3, 5.0: 2, 4.0: 2, 7.0: 1})\n",
      "train_fold counts : Counter({0.0: 269, 9.0: 204, 8.0: 76, 1.0: 56, 10.0: 42, 2.0: 38, 3.0: 26, 7.0: 22, 4.0: 18, 6.0: 15, 5.0: 12})\n",
      "valid_fold counts : Counter({0.0: 29, 9.0: 23, 8.0: 9, 1.0: 7, 7.0: 6, 2.0: 6, 10.0: 3, 3.0: 2, 4.0: 1})\n",
      "train_fold counts : Counter({0.0: 268, 9.0: 205, 8.0: 73, 1.0: 57, 10.0: 39, 2.0: 38, 7.0: 28, 3.0: 24, 4.0: 18, 6.0: 14, 5.0: 12})\n",
      "valid_fold counts : Counter({0.0: 30, 9.0: 22, 8.0: 12, 10.0: 6, 2.0: 6, 1.0: 6, 3.0: 4, 6.0: 1, 4.0: 1})\n",
      "train_fold counts : Counter({0.0: 268, 9.0: 204, 8.0: 77, 1.0: 52, 2.0: 44, 10.0: 42, 3.0: 26, 7.0: 25, 4.0: 18, 6.0: 13, 5.0: 9})\n",
      "valid_fold counts : Counter({0.0: 30, 9.0: 23, 1.0: 11, 8.0: 8, 7.0: 3, 5.0: 3, 10.0: 3, 3.0: 2, 6.0: 2, 4.0: 1})\n"
     ]
    }
   ],
   "source": [
    "test_folds(df)    "
   ]
  },
  {
   "cell_type": "code",
   "execution_count": 93,
   "metadata": {},
   "outputs": [
    {
     "data": {
      "text/html": [
       "<div>\n",
       "<style scoped>\n",
       "    .dataframe tbody tr th:only-of-type {\n",
       "        vertical-align: middle;\n",
       "    }\n",
       "\n",
       "    .dataframe tbody tr th {\n",
       "        vertical-align: top;\n",
       "    }\n",
       "\n",
       "    .dataframe thead th {\n",
       "        text-align: right;\n",
       "    }\n",
       "</style>\n",
       "<table border=\"1\" class=\"dataframe\">\n",
       "  <thead>\n",
       "    <tr style=\"text-align: right;\">\n",
       "      <th></th>\n",
       "      <th>patient</th>\n",
       "      <th>pH</th>\n",
       "      <th>BDecf</th>\n",
       "      <th>pCO2</th>\n",
       "      <th>BE</th>\n",
       "      <th>Apgar1</th>\n",
       "      <th>Apgar5</th>\n",
       "      <th>Gest. weeks</th>\n",
       "      <th>Weight(g)</th>\n",
       "      <th>Sex</th>\n",
       "      <th>...</th>\n",
       "      <th>I.stage</th>\n",
       "      <th>NoProgress</th>\n",
       "      <th>CK/KP</th>\n",
       "      <th>II.stage</th>\n",
       "      <th>Deliv. type</th>\n",
       "      <th>dbID</th>\n",
       "      <th>Rec. type</th>\n",
       "      <th>Pos. II.st.</th>\n",
       "      <th>target</th>\n",
       "      <th>test_fold</th>\n",
       "    </tr>\n",
       "  </thead>\n",
       "  <tbody>\n",
       "    <tr>\n",
       "      <th>0</th>\n",
       "      <td>1220</td>\n",
       "      <td>7.30</td>\n",
       "      <td>3.52</td>\n",
       "      <td>6.0</td>\n",
       "      <td>-4.7</td>\n",
       "      <td>9.0</td>\n",
       "      <td>10.0</td>\n",
       "      <td>42.0</td>\n",
       "      <td>3100.0</td>\n",
       "      <td>2.0</td>\n",
       "      <td>...</td>\n",
       "      <td>165.0</td>\n",
       "      <td>0.0</td>\n",
       "      <td>0.0</td>\n",
       "      <td>15.0</td>\n",
       "      <td>1.0</td>\n",
       "      <td>1051632.0</td>\n",
       "      <td>2.0</td>\n",
       "      <td>14400.0</td>\n",
       "      <td>0</td>\n",
       "      <td>6</td>\n",
       "    </tr>\n",
       "    <tr>\n",
       "      <th>1</th>\n",
       "      <td>1234</td>\n",
       "      <td>7.29</td>\n",
       "      <td>2.50</td>\n",
       "      <td>6.5</td>\n",
       "      <td>-4.2</td>\n",
       "      <td>8.0</td>\n",
       "      <td>9.0</td>\n",
       "      <td>41.0</td>\n",
       "      <td>3200.0</td>\n",
       "      <td>1.0</td>\n",
       "      <td>...</td>\n",
       "      <td>135.0</td>\n",
       "      <td>0.0</td>\n",
       "      <td>0.0</td>\n",
       "      <td>10.0</td>\n",
       "      <td>1.0</td>\n",
       "      <td>1054195.0</td>\n",
       "      <td>1.0</td>\n",
       "      <td>14400.0</td>\n",
       "      <td>0</td>\n",
       "      <td>8</td>\n",
       "    </tr>\n",
       "    <tr>\n",
       "      <th>2</th>\n",
       "      <td>1208</td>\n",
       "      <td>7.23</td>\n",
       "      <td>5.84</td>\n",
       "      <td>6.6</td>\n",
       "      <td>-7.4</td>\n",
       "      <td>9.0</td>\n",
       "      <td>9.0</td>\n",
       "      <td>40.0</td>\n",
       "      <td>3900.0</td>\n",
       "      <td>2.0</td>\n",
       "      <td>...</td>\n",
       "      <td>260.0</td>\n",
       "      <td>0.0</td>\n",
       "      <td>0.0</td>\n",
       "      <td>30.0</td>\n",
       "      <td>1.0</td>\n",
       "      <td>1049536.0</td>\n",
       "      <td>12.0</td>\n",
       "      <td>14400.0</td>\n",
       "      <td>0</td>\n",
       "      <td>4</td>\n",
       "    </tr>\n",
       "    <tr>\n",
       "      <th>3</th>\n",
       "      <td>1038</td>\n",
       "      <td>7.33</td>\n",
       "      <td>2.72</td>\n",
       "      <td>5.7</td>\n",
       "      <td>-4.0</td>\n",
       "      <td>10.0</td>\n",
       "      <td>10.0</td>\n",
       "      <td>39.0</td>\n",
       "      <td>2740.0</td>\n",
       "      <td>1.0</td>\n",
       "      <td>...</td>\n",
       "      <td>15.0</td>\n",
       "      <td>0.0</td>\n",
       "      <td>0.0</td>\n",
       "      <td>10.0</td>\n",
       "      <td>1.0</td>\n",
       "      <td>1002508.0</td>\n",
       "      <td>1.0</td>\n",
       "      <td>14400.0</td>\n",
       "      <td>0</td>\n",
       "      <td>5</td>\n",
       "    </tr>\n",
       "    <tr>\n",
       "      <th>4</th>\n",
       "      <td>1004</td>\n",
       "      <td>7.30</td>\n",
       "      <td>5.19</td>\n",
       "      <td>5.5</td>\n",
       "      <td>-6.4</td>\n",
       "      <td>8.0</td>\n",
       "      <td>9.0</td>\n",
       "      <td>41.0</td>\n",
       "      <td>3370.0</td>\n",
       "      <td>1.0</td>\n",
       "      <td>...</td>\n",
       "      <td>55.0</td>\n",
       "      <td>0.0</td>\n",
       "      <td>0.0</td>\n",
       "      <td>10.0</td>\n",
       "      <td>1.0</td>\n",
       "      <td>983277.0</td>\n",
       "      <td>12.0</td>\n",
       "      <td>14400.0</td>\n",
       "      <td>0</td>\n",
       "      <td>7</td>\n",
       "    </tr>\n",
       "  </tbody>\n",
       "</table>\n",
       "<p>5 rows × 31 columns</p>\n",
       "</div>"
      ],
      "text/plain": [
       "   patient    pH  BDecf  pCO2   BE  Apgar1  Apgar5  Gest. weeks  Weight(g)  \\\n",
       "0     1220  7.30   3.52   6.0 -4.7     9.0    10.0         42.0     3100.0   \n",
       "1     1234  7.29   2.50   6.5 -4.2     8.0     9.0         41.0     3200.0   \n",
       "2     1208  7.23   5.84   6.6 -7.4     9.0     9.0         40.0     3900.0   \n",
       "3     1038  7.33   2.72   5.7 -4.0    10.0    10.0         39.0     2740.0   \n",
       "4     1004  7.30   5.19   5.5 -6.4     8.0     9.0         41.0     3370.0   \n",
       "\n",
       "   Sex  ...  I.stage  NoProgress  CK/KP  II.stage  Deliv. type       dbID  \\\n",
       "0  2.0  ...    165.0         0.0    0.0      15.0          1.0  1051632.0   \n",
       "1  1.0  ...    135.0         0.0    0.0      10.0          1.0  1054195.0   \n",
       "2  2.0  ...    260.0         0.0    0.0      30.0          1.0  1049536.0   \n",
       "3  1.0  ...     15.0         0.0    0.0      10.0          1.0  1002508.0   \n",
       "4  1.0  ...     55.0         0.0    0.0      10.0          1.0   983277.0   \n",
       "\n",
       "   Rec. type  Pos. II.st.  target  test_fold  \n",
       "0        2.0      14400.0       0          6  \n",
       "1        1.0      14400.0       0          8  \n",
       "2       12.0      14400.0       0          4  \n",
       "3        1.0      14400.0       0          5  \n",
       "4       12.0      14400.0       0          7  \n",
       "\n",
       "[5 rows x 31 columns]"
      ]
     },
     "execution_count": 93,
     "metadata": {},
     "output_type": "execute_result"
    }
   ],
   "source": [
    "df.head()"
   ]
  },
  {
   "cell_type": "code",
   "execution_count": 94,
   "metadata": {},
   "outputs": [],
   "source": [
    "def create_folds(df: pd.DataFrame, X: np.array, y: np.array, nb_folds: int, column_name: str = 'fold', save_name: Optional[str] = None) -> pd.DataFrame:\n",
    "    \"\"\"\n",
    "    Create folds\n",
    "    Args: \n",
    "        df       : train meta dataframe\n",
    "        X        : X Series to split\n",
    "        y        : y Series to use for stratification\n",
    "        nb_folds : number of folds\n",
    "        column_name: name of the folds column\n",
    "        save_name: if not None, save folds to the save_name.csv file\n",
    "\n",
    "    Output: \n",
    "        df: train meta with splitted folds\n",
    "    \"\"\"\n",
    "    df[column_name] = -1  # set all folds to -1 initially\n",
    "    skf = StratifiedKFold(n_splits=nb_folds, shuffle=True, random_state=1234)\n",
    "    # split folds\n",
    "    for fold, (train_index, test_index) in enumerate(skf.split(X, y)):\n",
    "        df.loc[test_index, column_name] = fold\n",
    "    # save dataframe with folds (optionally)\n",
    "    if save_name:\n",
    "        df.to_csv(os.path.join(DATA_DIR, f\"{save_name}.csv\"), index=False)\n",
    "        \n",
    "    return df"
   ]
  },
  {
   "cell_type": "code",
   "execution_count": 95,
   "metadata": {},
   "outputs": [],
   "source": [
    "df = create_folds(df=df, X=patients, y=target, nb_folds=10, column_name='test_fold_ph', save_name=None)"
   ]
  },
  {
   "cell_type": "code",
   "execution_count": 96,
   "metadata": {},
   "outputs": [
    {
     "data": {
      "text/html": [
       "<div>\n",
       "<style scoped>\n",
       "    .dataframe tbody tr th:only-of-type {\n",
       "        vertical-align: middle;\n",
       "    }\n",
       "\n",
       "    .dataframe tbody tr th {\n",
       "        vertical-align: top;\n",
       "    }\n",
       "\n",
       "    .dataframe thead th {\n",
       "        text-align: right;\n",
       "    }\n",
       "</style>\n",
       "<table border=\"1\" class=\"dataframe\">\n",
       "  <thead>\n",
       "    <tr style=\"text-align: right;\">\n",
       "      <th></th>\n",
       "      <th>patient</th>\n",
       "      <th>pH</th>\n",
       "      <th>BDecf</th>\n",
       "      <th>pCO2</th>\n",
       "      <th>BE</th>\n",
       "      <th>Apgar1</th>\n",
       "      <th>Apgar5</th>\n",
       "      <th>Gest. weeks</th>\n",
       "      <th>Weight(g)</th>\n",
       "      <th>Sex</th>\n",
       "      <th>...</th>\n",
       "      <th>NoProgress</th>\n",
       "      <th>CK/KP</th>\n",
       "      <th>II.stage</th>\n",
       "      <th>Deliv. type</th>\n",
       "      <th>dbID</th>\n",
       "      <th>Rec. type</th>\n",
       "      <th>Pos. II.st.</th>\n",
       "      <th>target</th>\n",
       "      <th>test_fold</th>\n",
       "      <th>test_fold_ph</th>\n",
       "    </tr>\n",
       "  </thead>\n",
       "  <tbody>\n",
       "    <tr>\n",
       "      <th>0</th>\n",
       "      <td>1220</td>\n",
       "      <td>7.30</td>\n",
       "      <td>3.52</td>\n",
       "      <td>6.0</td>\n",
       "      <td>-4.7</td>\n",
       "      <td>9.0</td>\n",
       "      <td>10.0</td>\n",
       "      <td>42.0</td>\n",
       "      <td>3100.0</td>\n",
       "      <td>2.0</td>\n",
       "      <td>...</td>\n",
       "      <td>0.0</td>\n",
       "      <td>0.0</td>\n",
       "      <td>15.0</td>\n",
       "      <td>1.0</td>\n",
       "      <td>1051632.0</td>\n",
       "      <td>2.0</td>\n",
       "      <td>14400.0</td>\n",
       "      <td>0</td>\n",
       "      <td>6</td>\n",
       "      <td>2</td>\n",
       "    </tr>\n",
       "    <tr>\n",
       "      <th>1</th>\n",
       "      <td>1234</td>\n",
       "      <td>7.29</td>\n",
       "      <td>2.50</td>\n",
       "      <td>6.5</td>\n",
       "      <td>-4.2</td>\n",
       "      <td>8.0</td>\n",
       "      <td>9.0</td>\n",
       "      <td>41.0</td>\n",
       "      <td>3200.0</td>\n",
       "      <td>1.0</td>\n",
       "      <td>...</td>\n",
       "      <td>0.0</td>\n",
       "      <td>0.0</td>\n",
       "      <td>10.0</td>\n",
       "      <td>1.0</td>\n",
       "      <td>1054195.0</td>\n",
       "      <td>1.0</td>\n",
       "      <td>14400.0</td>\n",
       "      <td>0</td>\n",
       "      <td>8</td>\n",
       "      <td>3</td>\n",
       "    </tr>\n",
       "    <tr>\n",
       "      <th>2</th>\n",
       "      <td>1208</td>\n",
       "      <td>7.23</td>\n",
       "      <td>5.84</td>\n",
       "      <td>6.6</td>\n",
       "      <td>-7.4</td>\n",
       "      <td>9.0</td>\n",
       "      <td>9.0</td>\n",
       "      <td>40.0</td>\n",
       "      <td>3900.0</td>\n",
       "      <td>2.0</td>\n",
       "      <td>...</td>\n",
       "      <td>0.0</td>\n",
       "      <td>0.0</td>\n",
       "      <td>30.0</td>\n",
       "      <td>1.0</td>\n",
       "      <td>1049536.0</td>\n",
       "      <td>12.0</td>\n",
       "      <td>14400.0</td>\n",
       "      <td>0</td>\n",
       "      <td>4</td>\n",
       "      <td>8</td>\n",
       "    </tr>\n",
       "    <tr>\n",
       "      <th>3</th>\n",
       "      <td>1038</td>\n",
       "      <td>7.33</td>\n",
       "      <td>2.72</td>\n",
       "      <td>5.7</td>\n",
       "      <td>-4.0</td>\n",
       "      <td>10.0</td>\n",
       "      <td>10.0</td>\n",
       "      <td>39.0</td>\n",
       "      <td>2740.0</td>\n",
       "      <td>1.0</td>\n",
       "      <td>...</td>\n",
       "      <td>0.0</td>\n",
       "      <td>0.0</td>\n",
       "      <td>10.0</td>\n",
       "      <td>1.0</td>\n",
       "      <td>1002508.0</td>\n",
       "      <td>1.0</td>\n",
       "      <td>14400.0</td>\n",
       "      <td>0</td>\n",
       "      <td>5</td>\n",
       "      <td>5</td>\n",
       "    </tr>\n",
       "    <tr>\n",
       "      <th>4</th>\n",
       "      <td>1004</td>\n",
       "      <td>7.30</td>\n",
       "      <td>5.19</td>\n",
       "      <td>5.5</td>\n",
       "      <td>-6.4</td>\n",
       "      <td>8.0</td>\n",
       "      <td>9.0</td>\n",
       "      <td>41.0</td>\n",
       "      <td>3370.0</td>\n",
       "      <td>1.0</td>\n",
       "      <td>...</td>\n",
       "      <td>0.0</td>\n",
       "      <td>0.0</td>\n",
       "      <td>10.0</td>\n",
       "      <td>1.0</td>\n",
       "      <td>983277.0</td>\n",
       "      <td>12.0</td>\n",
       "      <td>14400.0</td>\n",
       "      <td>0</td>\n",
       "      <td>7</td>\n",
       "      <td>9</td>\n",
       "    </tr>\n",
       "  </tbody>\n",
       "</table>\n",
       "<p>5 rows × 32 columns</p>\n",
       "</div>"
      ],
      "text/plain": [
       "   patient    pH  BDecf  pCO2   BE  Apgar1  Apgar5  Gest. weeks  Weight(g)  \\\n",
       "0     1220  7.30   3.52   6.0 -4.7     9.0    10.0         42.0     3100.0   \n",
       "1     1234  7.29   2.50   6.5 -4.2     8.0     9.0         41.0     3200.0   \n",
       "2     1208  7.23   5.84   6.6 -7.4     9.0     9.0         40.0     3900.0   \n",
       "3     1038  7.33   2.72   5.7 -4.0    10.0    10.0         39.0     2740.0   \n",
       "4     1004  7.30   5.19   5.5 -6.4     8.0     9.0         41.0     3370.0   \n",
       "\n",
       "   Sex  ...  NoProgress  CK/KP  II.stage  Deliv. type       dbID  Rec. type  \\\n",
       "0  2.0  ...         0.0    0.0      15.0          1.0  1051632.0        2.0   \n",
       "1  1.0  ...         0.0    0.0      10.0          1.0  1054195.0        1.0   \n",
       "2  2.0  ...         0.0    0.0      30.0          1.0  1049536.0       12.0   \n",
       "3  1.0  ...         0.0    0.0      10.0          1.0  1002508.0        1.0   \n",
       "4  1.0  ...         0.0    0.0      10.0          1.0   983277.0       12.0   \n",
       "\n",
       "   Pos. II.st.  target  test_fold  test_fold_ph  \n",
       "0      14400.0       0          6             2  \n",
       "1      14400.0       0          8             3  \n",
       "2      14400.0       0          4             8  \n",
       "3      14400.0       0          5             5  \n",
       "4      14400.0       0          7             9  \n",
       "\n",
       "[5 rows x 32 columns]"
      ]
     },
     "execution_count": 96,
     "metadata": {},
     "output_type": "execute_result"
    }
   ],
   "source": [
    "df.head()"
   ]
  },
  {
   "cell_type": "code",
   "execution_count": 97,
   "metadata": {},
   "outputs": [
    {
     "name": "stdout",
     "output_type": "stream",
     "text": [
      "train_fold counts : Counter({0.0: 268, 9.0: 207, 8.0: 76, 1.0: 56, 10.0: 41, 2.0: 40, 3.0: 25, 7.0: 23, 4.0: 15, 6.0: 13, 5.0: 12})\n",
      "valid_fold counts : Counter({0.0: 30, 9.0: 20, 8.0: 9, 1.0: 7, 7.0: 5, 4.0: 4, 2.0: 4, 10.0: 4, 3.0: 3, 6.0: 2})\n",
      "train_fold counts : Counter({0.0: 268, 9.0: 204, 8.0: 76, 1.0: 56, 10.0: 41, 2.0: 40, 3.0: 25, 7.0: 25, 4.0: 18, 6.0: 13, 5.0: 10})\n",
      "valid_fold counts : Counter({0.0: 30, 9.0: 23, 8.0: 9, 1.0: 7, 2.0: 4, 10.0: 4, 3.0: 3, 7.0: 3, 6.0: 2, 5.0: 2, 4.0: 1})\n",
      "train_fold counts : Counter({0.0: 268, 9.0: 202, 8.0: 78, 1.0: 57, 2.0: 40, 10.0: 39, 7.0: 28, 3.0: 26, 4.0: 16, 6.0: 14, 5.0: 10})\n",
      "valid_fold counts : Counter({0.0: 30, 9.0: 25, 8.0: 7, 10.0: 6, 1.0: 6, 2.0: 4, 4.0: 3, 5.0: 2, 3.0: 2, 6.0: 1})\n",
      "train_fold counts : Counter({0.0: 268, 9.0: 206, 8.0: 72, 1.0: 56, 10.0: 45, 2.0: 40, 7.0: 25, 3.0: 23, 4.0: 18, 6.0: 14, 5.0: 11})\n",
      "valid_fold counts : Counter({0.0: 30, 9.0: 21, 8.0: 13, 1.0: 7, 3.0: 5, 2.0: 4, 7.0: 3, 6.0: 1, 4.0: 1, 5.0: 1})\n",
      "train_fold counts : Counter({0.0: 268, 9.0: 203, 8.0: 80, 1.0: 57, 10.0: 42, 2.0: 40, 7.0: 25, 3.0: 24, 4.0: 16, 6.0: 13, 5.0: 10})\n",
      "valid_fold counts : Counter({0.0: 30, 9.0: 24, 1.0: 6, 8.0: 5, 3.0: 4, 2.0: 4, 7.0: 3, 4.0: 3, 10.0: 3, 5.0: 2, 6.0: 2})\n"
     ]
    }
   ],
   "source": [
    "test_folds(df, 5, \"test_fold_ph\")  "
   ]
  },
  {
   "cell_type": "markdown",
   "metadata": {},
   "source": [
    "## Train/validation split for some test fold"
   ]
  },
  {
   "cell_type": "code",
   "execution_count": 432,
   "metadata": {},
   "outputs": [],
   "source": [
    "test_fold = 0\n",
    "df_tv = df[df[\"test_fold_ph\"] != test_fold]\n",
    "df_tv.to_csv(os.path.join(DATA_DIR, \"dftrain_test0.csv\"), index=False)"
   ]
  },
  {
   "cell_type": "code",
   "execution_count": 98,
   "metadata": {},
   "outputs": [],
   "source": [
    "df0= pd.read_csv(os.path.join(DATA_DIR, \"dftrain_test0.csv\"))"
   ]
  },
  {
   "cell_type": "code",
   "execution_count": 99,
   "metadata": {},
   "outputs": [
    {
     "data": {
      "text/plain": [
       "count    388.000000\n",
       "mean       4.989691\n",
       "std        2.589962\n",
       "min        1.000000\n",
       "25%        3.000000\n",
       "50%        5.000000\n",
       "75%        7.000000\n",
       "max        9.000000\n",
       "Name: test_fold_ph, dtype: float64"
      ]
     },
     "execution_count": 99,
     "metadata": {},
     "output_type": "execute_result"
    }
   ],
   "source": [
    "df0[\"test_fold_ph\"].describe()"
   ]
  },
  {
   "cell_type": "code",
   "execution_count": 54,
   "metadata": {},
   "outputs": [
    {
     "data": {
      "text/html": [
       "<div>\n",
       "<style scoped>\n",
       "    .dataframe tbody tr th:only-of-type {\n",
       "        vertical-align: middle;\n",
       "    }\n",
       "\n",
       "    .dataframe tbody tr th {\n",
       "        vertical-align: top;\n",
       "    }\n",
       "\n",
       "    .dataframe thead th {\n",
       "        text-align: right;\n",
       "    }\n",
       "</style>\n",
       "<table border=\"1\" class=\"dataframe\">\n",
       "  <thead>\n",
       "    <tr style=\"text-align: right;\">\n",
       "      <th></th>\n",
       "      <th>patient</th>\n",
       "      <th>pH</th>\n",
       "      <th>BDecf</th>\n",
       "      <th>pCO2</th>\n",
       "      <th>BE</th>\n",
       "      <th>Apgar1</th>\n",
       "      <th>Apgar5</th>\n",
       "      <th>Gest. weeks</th>\n",
       "      <th>Weight(g)</th>\n",
       "      <th>Sex</th>\n",
       "      <th>...</th>\n",
       "      <th>NoProgress</th>\n",
       "      <th>CK/KP</th>\n",
       "      <th>II.stage</th>\n",
       "      <th>Deliv. type</th>\n",
       "      <th>dbID</th>\n",
       "      <th>Rec. type</th>\n",
       "      <th>Pos. II.st.</th>\n",
       "      <th>target</th>\n",
       "      <th>test_fold</th>\n",
       "      <th>test_fold_ph</th>\n",
       "    </tr>\n",
       "  </thead>\n",
       "  <tbody>\n",
       "    <tr>\n",
       "      <th>0</th>\n",
       "      <td>1220</td>\n",
       "      <td>7.30</td>\n",
       "      <td>3.52</td>\n",
       "      <td>6.0</td>\n",
       "      <td>-4.7</td>\n",
       "      <td>9.0</td>\n",
       "      <td>10.0</td>\n",
       "      <td>42.0</td>\n",
       "      <td>3100.0</td>\n",
       "      <td>2.0</td>\n",
       "      <td>...</td>\n",
       "      <td>0.0</td>\n",
       "      <td>0.0</td>\n",
       "      <td>15.0</td>\n",
       "      <td>1.0</td>\n",
       "      <td>1051632.0</td>\n",
       "      <td>2.0</td>\n",
       "      <td>14400.0</td>\n",
       "      <td>0</td>\n",
       "      <td>6</td>\n",
       "      <td>7</td>\n",
       "    </tr>\n",
       "    <tr>\n",
       "      <th>1</th>\n",
       "      <td>1234</td>\n",
       "      <td>7.29</td>\n",
       "      <td>2.50</td>\n",
       "      <td>6.5</td>\n",
       "      <td>-4.2</td>\n",
       "      <td>8.0</td>\n",
       "      <td>9.0</td>\n",
       "      <td>41.0</td>\n",
       "      <td>3200.0</td>\n",
       "      <td>1.0</td>\n",
       "      <td>...</td>\n",
       "      <td>0.0</td>\n",
       "      <td>0.0</td>\n",
       "      <td>10.0</td>\n",
       "      <td>1.0</td>\n",
       "      <td>1054195.0</td>\n",
       "      <td>1.0</td>\n",
       "      <td>14400.0</td>\n",
       "      <td>0</td>\n",
       "      <td>8</td>\n",
       "      <td>4</td>\n",
       "    </tr>\n",
       "    <tr>\n",
       "      <th>2</th>\n",
       "      <td>1208</td>\n",
       "      <td>7.23</td>\n",
       "      <td>5.84</td>\n",
       "      <td>6.6</td>\n",
       "      <td>-7.4</td>\n",
       "      <td>9.0</td>\n",
       "      <td>9.0</td>\n",
       "      <td>40.0</td>\n",
       "      <td>3900.0</td>\n",
       "      <td>2.0</td>\n",
       "      <td>...</td>\n",
       "      <td>0.0</td>\n",
       "      <td>0.0</td>\n",
       "      <td>30.0</td>\n",
       "      <td>1.0</td>\n",
       "      <td>1049536.0</td>\n",
       "      <td>12.0</td>\n",
       "      <td>14400.0</td>\n",
       "      <td>0</td>\n",
       "      <td>4</td>\n",
       "      <td>2</td>\n",
       "    </tr>\n",
       "    <tr>\n",
       "      <th>3</th>\n",
       "      <td>1038</td>\n",
       "      <td>7.33</td>\n",
       "      <td>2.72</td>\n",
       "      <td>5.7</td>\n",
       "      <td>-4.0</td>\n",
       "      <td>10.0</td>\n",
       "      <td>10.0</td>\n",
       "      <td>39.0</td>\n",
       "      <td>2740.0</td>\n",
       "      <td>1.0</td>\n",
       "      <td>...</td>\n",
       "      <td>0.0</td>\n",
       "      <td>0.0</td>\n",
       "      <td>10.0</td>\n",
       "      <td>1.0</td>\n",
       "      <td>1002508.0</td>\n",
       "      <td>1.0</td>\n",
       "      <td>14400.0</td>\n",
       "      <td>0</td>\n",
       "      <td>5</td>\n",
       "      <td>5</td>\n",
       "    </tr>\n",
       "    <tr>\n",
       "      <th>4</th>\n",
       "      <td>1004</td>\n",
       "      <td>7.30</td>\n",
       "      <td>5.19</td>\n",
       "      <td>5.5</td>\n",
       "      <td>-6.4</td>\n",
       "      <td>8.0</td>\n",
       "      <td>9.0</td>\n",
       "      <td>41.0</td>\n",
       "      <td>3370.0</td>\n",
       "      <td>1.0</td>\n",
       "      <td>...</td>\n",
       "      <td>0.0</td>\n",
       "      <td>0.0</td>\n",
       "      <td>10.0</td>\n",
       "      <td>1.0</td>\n",
       "      <td>983277.0</td>\n",
       "      <td>12.0</td>\n",
       "      <td>14400.0</td>\n",
       "      <td>0</td>\n",
       "      <td>7</td>\n",
       "      <td>7</td>\n",
       "    </tr>\n",
       "  </tbody>\n",
       "</table>\n",
       "<p>5 rows × 32 columns</p>\n",
       "</div>"
      ],
      "text/plain": [
       "   patient    pH  BDecf  pCO2   BE  Apgar1  Apgar5  Gest. weeks  Weight(g)  \\\n",
       "0     1220  7.30   3.52   6.0 -4.7     9.0    10.0         42.0     3100.0   \n",
       "1     1234  7.29   2.50   6.5 -4.2     8.0     9.0         41.0     3200.0   \n",
       "2     1208  7.23   5.84   6.6 -7.4     9.0     9.0         40.0     3900.0   \n",
       "3     1038  7.33   2.72   5.7 -4.0    10.0    10.0         39.0     2740.0   \n",
       "4     1004  7.30   5.19   5.5 -6.4     8.0     9.0         41.0     3370.0   \n",
       "\n",
       "   Sex  ...  NoProgress  CK/KP  II.stage  Deliv. type       dbID  Rec. type  \\\n",
       "0  2.0  ...         0.0    0.0      15.0          1.0  1051632.0        2.0   \n",
       "1  1.0  ...         0.0    0.0      10.0          1.0  1054195.0        1.0   \n",
       "2  2.0  ...         0.0    0.0      30.0          1.0  1049536.0       12.0   \n",
       "3  1.0  ...         0.0    0.0      10.0          1.0  1002508.0        1.0   \n",
       "4  1.0  ...         0.0    0.0      10.0          1.0   983277.0       12.0   \n",
       "\n",
       "   Pos. II.st.  target  test_fold  test_fold_ph  \n",
       "0      14400.0       0          6             7  \n",
       "1      14400.0       0          8             4  \n",
       "2      14400.0       0          4             2  \n",
       "3      14400.0       0          5             5  \n",
       "4      14400.0       0          7             7  \n",
       "\n",
       "[5 rows x 32 columns]"
      ]
     },
     "execution_count": 54,
     "metadata": {},
     "output_type": "execute_result"
    }
   ],
   "source": [
    "df0.head()"
   ]
  },
  {
   "cell_type": "code",
   "execution_count": 55,
   "metadata": {},
   "outputs": [
    {
     "data": {
      "text/plain": [
       "(388, 388)"
      ]
     },
     "execution_count": 55,
     "metadata": {},
     "output_type": "execute_result"
    }
   ],
   "source": [
    "patients = df0['patient'].values\n",
    "targets = df0['target'].values\n",
    "len(patients), len(targets)"
   ]
  },
  {
   "cell_type": "code",
   "execution_count": 59,
   "metadata": {},
   "outputs": [],
   "source": [
    "df0 = create_folds(df=df0, X=patients, y=targets, nb_folds=5, column_name='fold', save_name=None)"
   ]
  },
  {
   "cell_type": "code",
   "execution_count": 439,
   "metadata": {},
   "outputs": [],
   "source": [
    "df0['fold'] = -1  # set all folds to -1 initially\n",
    "skf = StratifiedKFold(n_splits=5, shuffle=True, random_state=1234)\n",
    "# split folds\n",
    "for fold, (train_ind, test_ind) in enumerate(skf.split(patients, targets)):\n",
    "    df0.loc[test_ind, 'fold'] = fold"
   ]
  },
  {
   "cell_type": "code",
   "execution_count": 60,
   "metadata": {},
   "outputs": [
    {
     "data": {
      "text/html": [
       "<div>\n",
       "<style scoped>\n",
       "    .dataframe tbody tr th:only-of-type {\n",
       "        vertical-align: middle;\n",
       "    }\n",
       "\n",
       "    .dataframe tbody tr th {\n",
       "        vertical-align: top;\n",
       "    }\n",
       "\n",
       "    .dataframe thead th {\n",
       "        text-align: right;\n",
       "    }\n",
       "</style>\n",
       "<table border=\"1\" class=\"dataframe\">\n",
       "  <thead>\n",
       "    <tr style=\"text-align: right;\">\n",
       "      <th></th>\n",
       "      <th>patient</th>\n",
       "      <th>pH</th>\n",
       "      <th>BDecf</th>\n",
       "      <th>pCO2</th>\n",
       "      <th>BE</th>\n",
       "      <th>Apgar1</th>\n",
       "      <th>Apgar5</th>\n",
       "      <th>Gest. weeks</th>\n",
       "      <th>Weight(g)</th>\n",
       "      <th>Sex</th>\n",
       "      <th>...</th>\n",
       "      <th>CK/KP</th>\n",
       "      <th>II.stage</th>\n",
       "      <th>Deliv. type</th>\n",
       "      <th>dbID</th>\n",
       "      <th>Rec. type</th>\n",
       "      <th>Pos. II.st.</th>\n",
       "      <th>target</th>\n",
       "      <th>test_fold</th>\n",
       "      <th>test_fold_ph</th>\n",
       "      <th>fold</th>\n",
       "    </tr>\n",
       "  </thead>\n",
       "  <tbody>\n",
       "    <tr>\n",
       "      <th>0</th>\n",
       "      <td>1220</td>\n",
       "      <td>7.30</td>\n",
       "      <td>3.52</td>\n",
       "      <td>6.0</td>\n",
       "      <td>-4.7</td>\n",
       "      <td>9.0</td>\n",
       "      <td>10.0</td>\n",
       "      <td>42.0</td>\n",
       "      <td>3100.0</td>\n",
       "      <td>2.0</td>\n",
       "      <td>...</td>\n",
       "      <td>0.0</td>\n",
       "      <td>15.0</td>\n",
       "      <td>1.0</td>\n",
       "      <td>1051632.0</td>\n",
       "      <td>2.0</td>\n",
       "      <td>14400.0</td>\n",
       "      <td>0</td>\n",
       "      <td>6</td>\n",
       "      <td>7</td>\n",
       "      <td>0</td>\n",
       "    </tr>\n",
       "    <tr>\n",
       "      <th>1</th>\n",
       "      <td>1234</td>\n",
       "      <td>7.29</td>\n",
       "      <td>2.50</td>\n",
       "      <td>6.5</td>\n",
       "      <td>-4.2</td>\n",
       "      <td>8.0</td>\n",
       "      <td>9.0</td>\n",
       "      <td>41.0</td>\n",
       "      <td>3200.0</td>\n",
       "      <td>1.0</td>\n",
       "      <td>...</td>\n",
       "      <td>0.0</td>\n",
       "      <td>10.0</td>\n",
       "      <td>1.0</td>\n",
       "      <td>1054195.0</td>\n",
       "      <td>1.0</td>\n",
       "      <td>14400.0</td>\n",
       "      <td>0</td>\n",
       "      <td>8</td>\n",
       "      <td>4</td>\n",
       "      <td>3</td>\n",
       "    </tr>\n",
       "    <tr>\n",
       "      <th>2</th>\n",
       "      <td>1208</td>\n",
       "      <td>7.23</td>\n",
       "      <td>5.84</td>\n",
       "      <td>6.6</td>\n",
       "      <td>-7.4</td>\n",
       "      <td>9.0</td>\n",
       "      <td>9.0</td>\n",
       "      <td>40.0</td>\n",
       "      <td>3900.0</td>\n",
       "      <td>2.0</td>\n",
       "      <td>...</td>\n",
       "      <td>0.0</td>\n",
       "      <td>30.0</td>\n",
       "      <td>1.0</td>\n",
       "      <td>1049536.0</td>\n",
       "      <td>12.0</td>\n",
       "      <td>14400.0</td>\n",
       "      <td>0</td>\n",
       "      <td>4</td>\n",
       "      <td>2</td>\n",
       "      <td>1</td>\n",
       "    </tr>\n",
       "    <tr>\n",
       "      <th>3</th>\n",
       "      <td>1038</td>\n",
       "      <td>7.33</td>\n",
       "      <td>2.72</td>\n",
       "      <td>5.7</td>\n",
       "      <td>-4.0</td>\n",
       "      <td>10.0</td>\n",
       "      <td>10.0</td>\n",
       "      <td>39.0</td>\n",
       "      <td>2740.0</td>\n",
       "      <td>1.0</td>\n",
       "      <td>...</td>\n",
       "      <td>0.0</td>\n",
       "      <td>10.0</td>\n",
       "      <td>1.0</td>\n",
       "      <td>1002508.0</td>\n",
       "      <td>1.0</td>\n",
       "      <td>14400.0</td>\n",
       "      <td>0</td>\n",
       "      <td>5</td>\n",
       "      <td>5</td>\n",
       "      <td>4</td>\n",
       "    </tr>\n",
       "    <tr>\n",
       "      <th>4</th>\n",
       "      <td>1004</td>\n",
       "      <td>7.30</td>\n",
       "      <td>5.19</td>\n",
       "      <td>5.5</td>\n",
       "      <td>-6.4</td>\n",
       "      <td>8.0</td>\n",
       "      <td>9.0</td>\n",
       "      <td>41.0</td>\n",
       "      <td>3370.0</td>\n",
       "      <td>1.0</td>\n",
       "      <td>...</td>\n",
       "      <td>0.0</td>\n",
       "      <td>10.0</td>\n",
       "      <td>1.0</td>\n",
       "      <td>983277.0</td>\n",
       "      <td>12.0</td>\n",
       "      <td>14400.0</td>\n",
       "      <td>0</td>\n",
       "      <td>7</td>\n",
       "      <td>7</td>\n",
       "      <td>3</td>\n",
       "    </tr>\n",
       "  </tbody>\n",
       "</table>\n",
       "<p>5 rows × 33 columns</p>\n",
       "</div>"
      ],
      "text/plain": [
       "   patient    pH  BDecf  pCO2   BE  Apgar1  Apgar5  Gest. weeks  Weight(g)  \\\n",
       "0     1220  7.30   3.52   6.0 -4.7     9.0    10.0         42.0     3100.0   \n",
       "1     1234  7.29   2.50   6.5 -4.2     8.0     9.0         41.0     3200.0   \n",
       "2     1208  7.23   5.84   6.6 -7.4     9.0     9.0         40.0     3900.0   \n",
       "3     1038  7.33   2.72   5.7 -4.0    10.0    10.0         39.0     2740.0   \n",
       "4     1004  7.30   5.19   5.5 -6.4     8.0     9.0         41.0     3370.0   \n",
       "\n",
       "   Sex  ...  CK/KP  II.stage  Deliv. type       dbID  Rec. type  Pos. II.st.  \\\n",
       "0  2.0  ...    0.0      15.0          1.0  1051632.0        2.0      14400.0   \n",
       "1  1.0  ...    0.0      10.0          1.0  1054195.0        1.0      14400.0   \n",
       "2  2.0  ...    0.0      30.0          1.0  1049536.0       12.0      14400.0   \n",
       "3  1.0  ...    0.0      10.0          1.0  1002508.0        1.0      14400.0   \n",
       "4  1.0  ...    0.0      10.0          1.0   983277.0       12.0      14400.0   \n",
       "\n",
       "   target  test_fold  test_fold_ph  fold  \n",
       "0       0          6             7     0  \n",
       "1       0          8             4     3  \n",
       "2       0          4             2     1  \n",
       "3       0          5             5     4  \n",
       "4       0          7             7     3  \n",
       "\n",
       "[5 rows x 33 columns]"
      ]
     },
     "execution_count": 60,
     "metadata": {},
     "output_type": "execute_result"
    }
   ],
   "source": [
    "df0.head()"
   ]
  },
  {
   "cell_type": "code",
   "execution_count": 61,
   "metadata": {},
   "outputs": [
    {
     "name": "stdout",
     "output_type": "stream",
     "text": [
      "train_fold counts : Counter({0.0: 214, 9.0: 158, 8.0: 64, 1.0: 45, 10.0: 34, 2.0: 32, 3.0: 21, 7.0: 20, 4.0: 12, 6.0: 11, 5.0: 9})\n",
      "valid_fold counts : Counter({0.0: 54, 9.0: 44, 8.0: 13, 1.0: 11, 2.0: 8, 10.0: 8, 3.0: 5, 7.0: 5, 4.0: 4, 6.0: 3, 5.0: 1})\n",
      "train_fold counts : Counter({0.0: 214, 9.0: 170, 8.0: 55, 1.0: 44, 10.0: 34, 2.0: 32, 3.0: 21, 7.0: 20, 4.0: 13, 6.0: 11, 5.0: 6})\n",
      "valid_fold counts : Counter({0.0: 54, 9.0: 32, 8.0: 22, 1.0: 12, 10.0: 8, 2.0: 8, 3.0: 5, 7.0: 5, 5.0: 4, 6.0: 3, 4.0: 3})\n",
      "train_fold counts : Counter({0.0: 214, 9.0: 155, 8.0: 66, 1.0: 45, 10.0: 38, 2.0: 32, 3.0: 21, 7.0: 19, 4.0: 13, 6.0: 10, 5.0: 7})\n",
      "valid_fold counts : Counter({0.0: 54, 9.0: 47, 8.0: 11, 1.0: 11, 2.0: 8, 7.0: 6, 3.0: 5, 10.0: 4, 6.0: 4, 4.0: 3, 5.0: 3})\n",
      "train_fold counts : Counter({0.0: 215, 9.0: 169, 8.0: 57, 1.0: 45, 2.0: 32, 10.0: 31, 3.0: 20, 7.0: 19, 4.0: 14, 6.0: 11, 5.0: 9})\n",
      "valid_fold counts : Counter({0.0: 53, 9.0: 33, 8.0: 20, 10.0: 11, 1.0: 11, 2.0: 8, 7.0: 6, 3.0: 6, 6.0: 3, 4.0: 2, 5.0: 1})\n",
      "train_fold counts : Counter({0.0: 215, 9.0: 156, 8.0: 66, 1.0: 45, 2.0: 32, 10.0: 31, 7.0: 22, 3.0: 21, 6.0: 13, 4.0: 12, 5.0: 9})\n",
      "valid_fold counts : Counter({0.0: 53, 9.0: 46, 10.0: 11, 1.0: 11, 8.0: 11, 2.0: 8, 3.0: 5, 4.0: 4, 7.0: 3, 5.0: 1, 6.0: 1})\n"
     ]
    }
   ],
   "source": [
    "test_folds(df0, 5, \"fold\")  "
   ]
  },
  {
   "cell_type": "code",
   "execution_count": 442,
   "metadata": {},
   "outputs": [],
   "source": [
    "df0.to_csv(os.path.join(DATA_DIR, \"df_test0_folds.csv\"), index=False)"
   ]
  },
  {
   "cell_type": "code",
   "execution_count": null,
   "metadata": {},
   "outputs": [],
   "source": []
  }
 ],
 "metadata": {
  "kernelspec": {
   "display_name": "Python 3",
   "language": "python",
   "name": "python3"
  },
  "language_info": {
   "codemirror_mode": {
    "name": "ipython",
    "version": 3
   },
   "file_extension": ".py",
   "mimetype": "text/x-python",
   "name": "python",
   "nbconvert_exporter": "python",
   "pygments_lexer": "ipython3",
   "version": "3.7.6"
  }
 },
 "nbformat": 4,
 "nbformat_minor": 4
}
