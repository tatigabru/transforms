{
 "cells": [
  {
   "cell_type": "code",
<<<<<<< HEAD
   "execution_count": 1,
=======
   "execution_count": 7,
>>>>>>> tanya
   "metadata": {},
   "outputs": [],
   "source": [
    "!conda activate ctg"
   ]
  },
  {
   "cell_type": "code",
<<<<<<< HEAD
   "execution_count": 2,
=======
   "execution_count": 8,
>>>>>>> tanya
   "metadata": {},
   "outputs": [],
   "source": [
    "import os\n",
    "import sys\n",
    "import numpy as np\n",
    "import pandas as pd\n",
    "from sklearn.model_selection import StratifiedKFold, train_test_split, StratifiedShuffleSplit\n",
    "import matplotlib.pyplot as plt\n",
    "from typing import Tuple, List, Optional, Dict, Union\n",
    "import seaborn as sns\n",
    "import warnings\n",
    "from tqdm.auto import tqdm\n",
    "from collections import defaultdict, Counter\n",
    "warnings.simplefilter('ignore')\n",
    "%matplotlib inline"
   ]
  },
  {
   "cell_type": "code",
<<<<<<< HEAD
   "execution_count": 3,
=======
   "execution_count": 9,
>>>>>>> tanya
   "metadata": {},
   "outputs": [],
   "source": [
    "import sys\n",
    "sys.path.append('..')"
   ]
  },
  {
   "cell_type": "code",
<<<<<<< HEAD
   "execution_count": 4,
   "metadata": {},
   "outputs": [],
   "source": [
    "from src.helpers.helpers import load_patient_data, plot_ctg, plot_fhr, load_ctg_npy, load_fhr_npy, combine_fhr_data, combine_ctg_data"
=======
   "execution_count": 34,
   "metadata": {},
   "outputs": [],
   "source": [
    "from src.helpers.helpers import load_patient_data, plot_ctg, plot_fhr\n",
    "from src.training.prepare_inputs import (load_ctg_npy,\n",
    "    combine_ctg_data, combine_ctg_targets, get_one_hot, reshape_ctg, normalize_signal)"
>>>>>>> tanya
   ]
  },
  {
   "cell_type": "code",
<<<<<<< HEAD
   "execution_count": 5,
   "metadata": {},
   "outputs": [
    {
     "ename": "ModuleNotFoundError",
     "evalue": "No module named 'keras'",
     "output_type": "error",
     "traceback": [
      "\u001b[1;31m---------------------------------------------------------------------------\u001b[0m",
      "\u001b[1;31mModuleNotFoundError\u001b[0m                       Traceback (most recent call last)",
      "\u001b[1;32m<ipython-input-5-1a4ce812b43d>\u001b[0m in \u001b[0;36m<module>\u001b[1;34m\u001b[0m\n\u001b[1;32m----> 1\u001b[1;33m \u001b[1;32mfrom\u001b[0m \u001b[0msrc\u001b[0m\u001b[1;33m.\u001b[0m\u001b[0mmodels\u001b[0m\u001b[1;33m.\u001b[0m\u001b[0mtf_models\u001b[0m \u001b[1;32mimport\u001b[0m \u001b[0mFCN_10_model\u001b[0m\u001b[1;33m\u001b[0m\u001b[1;33m\u001b[0m\u001b[0m\n\u001b[0m",
      "\u001b[1;32m~\\Documents\\ctg\\repo\\src\\models\\tf_models.py\u001b[0m in \u001b[0;36m<module>\u001b[1;34m\u001b[0m\n\u001b[0;32m      9\u001b[0m \u001b[1;32mimport\u001b[0m \u001b[0mos\u001b[0m\u001b[1;33m\u001b[0m\u001b[1;33m\u001b[0m\u001b[0m\n\u001b[0;32m     10\u001b[0m \u001b[1;32mimport\u001b[0m \u001b[0mmatplotlib\u001b[0m\u001b[1;33m.\u001b[0m\u001b[0mpyplot\u001b[0m \u001b[1;32mas\u001b[0m \u001b[0mplt\u001b[0m\u001b[1;33m\u001b[0m\u001b[1;33m\u001b[0m\u001b[0m\n\u001b[1;32m---> 11\u001b[1;33m \u001b[1;32mimport\u001b[0m \u001b[0mkeras\u001b[0m\u001b[1;33m\u001b[0m\u001b[1;33m\u001b[0m\u001b[0m\n\u001b[0m\u001b[0;32m     12\u001b[0m \u001b[1;32mfrom\u001b[0m \u001b[0mkeras\u001b[0m\u001b[1;33m.\u001b[0m\u001b[0mlayers\u001b[0m \u001b[1;32mimport\u001b[0m \u001b[0mInput\u001b[0m\u001b[1;33m,\u001b[0m \u001b[0mDense\u001b[0m\u001b[1;33m,\u001b[0m \u001b[0mconcatenate\u001b[0m\u001b[1;33m,\u001b[0m \u001b[0mConv1D\u001b[0m\u001b[1;33m,\u001b[0m \u001b[0mBatchNormalization\u001b[0m\u001b[1;33m,\u001b[0m \u001b[0mActivation\u001b[0m\u001b[1;33m,\u001b[0m \u001b[0mMaxPooling1D\u001b[0m\u001b[1;33m,\u001b[0m \u001b[0mDropout\u001b[0m\u001b[1;33m,\u001b[0m\u001b[0;31m \u001b[0m\u001b[0;31m\\\u001b[0m\u001b[1;33m\u001b[0m\u001b[1;33m\u001b[0m\u001b[0m\n\u001b[0;32m     13\u001b[0m     \u001b[0mGlobalMaxPool1D\u001b[0m\u001b[1;33m,\u001b[0m \u001b[0mFlatten\u001b[0m\u001b[1;33m,\u001b[0m \u001b[0mGlobalAveragePooling1D\u001b[0m\u001b[1;33m,\u001b[0m \u001b[0mAveragePooling1D\u001b[0m\u001b[1;33m,\u001b[0m \u001b[0mLambda\u001b[0m\u001b[1;33m,\u001b[0m \u001b[0mLSTM\u001b[0m\u001b[1;33m\u001b[0m\u001b[1;33m\u001b[0m\u001b[0m\n",
      "\u001b[1;31mModuleNotFoundError\u001b[0m: No module named 'keras'"
=======
   "execution_count": 16,
   "metadata": {},
   "outputs": [
    {
     "ename": "NameError",
     "evalue": "name 'torch' is not defined",
     "output_type": "error",
     "traceback": [
      "\u001b[1;31m---------------------------------------------------------------------------\u001b[0m",
      "\u001b[1;31mNameError\u001b[0m                                 Traceback (most recent call last)",
      "\u001b[1;32m<ipython-input-16-a8d95b7ae9d9>\u001b[0m in \u001b[0;36m<module>\u001b[1;34m\u001b[0m\n\u001b[1;32m----> 1\u001b[1;33m \u001b[1;32mfrom\u001b[0m \u001b[0msrc\u001b[0m\u001b[1;33m.\u001b[0m\u001b[0mhelpers\u001b[0m\u001b[1;33m.\u001b[0m\u001b[0mmodel_helpers\u001b[0m \u001b[1;32mimport\u001b[0m \u001b[0mfix_seeds\u001b[0m\u001b[1;33m,\u001b[0m \u001b[0mfix_seeds_tf\u001b[0m\u001b[1;33m\u001b[0m\u001b[1;33m\u001b[0m\u001b[0m\n\u001b[0m",
      "\u001b[1;32m~\\Documents\\ctg\\repo\\src\\helpers\\model_helpers.py\u001b[0m in \u001b[0;36m<module>\u001b[1;34m\u001b[0m\n\u001b[0;32m     39\u001b[0m \u001b[1;33m\u001b[0m\u001b[0m\n\u001b[0;32m     40\u001b[0m \u001b[1;33m\u001b[0m\u001b[0m\n\u001b[1;32m---> 41\u001b[1;33m \u001b[1;32mdef\u001b[0m \u001b[0mload_optim\u001b[0m\u001b[1;33m(\u001b[0m\u001b[0moptimizer\u001b[0m\u001b[1;33m:\u001b[0m \u001b[0mtorch\u001b[0m\u001b[1;33m.\u001b[0m\u001b[0moptim\u001b[0m\u001b[1;33m,\u001b[0m \u001b[0mcheckpoint_path\u001b[0m\u001b[1;33m:\u001b[0m \u001b[0mstr\u001b[0m\u001b[1;33m,\u001b[0m \u001b[0mdevice\u001b[0m\u001b[1;33m:\u001b[0m \u001b[0mtorch\u001b[0m\u001b[1;33m.\u001b[0m\u001b[0mdevice\u001b[0m\u001b[1;33m)\u001b[0m \u001b[1;33m->\u001b[0m \u001b[0mtorch\u001b[0m\u001b[1;33m.\u001b[0m\u001b[0moptim\u001b[0m\u001b[1;33m:\u001b[0m\u001b[1;33m\u001b[0m\u001b[1;33m\u001b[0m\u001b[0m\n\u001b[0m\u001b[0;32m     42\u001b[0m     \"\"\"\n\u001b[0;32m     43\u001b[0m     \u001b[0mLoad\u001b[0m \u001b[0moptimizer\u001b[0m \u001b[0mto\u001b[0m \u001b[0mcontinuer\u001b[0m \u001b[0mtraining\u001b[0m\u001b[1;33m\u001b[0m\u001b[1;33m\u001b[0m\u001b[0m\n",
      "\u001b[1;31mNameError\u001b[0m: name 'torch' is not defined"
>>>>>>> tanya
     ]
    }
   ],
   "source": [
<<<<<<< HEAD
    "from src.models.tf_models import FCN_10_model "
=======
    "#from src.helpers.model_helpers import fix_seeds, fix_seeds_tf"
   ]
  },
  {
   "cell_type": "code",
   "execution_count": 17,
   "metadata": {},
   "outputs": [],
   "source": [
    "from src.models.tf_models import FCN_10_model, FullyConvNet"
>>>>>>> tanya
   ]
  },
  {
   "cell_type": "code",
   "execution_count": 18,
   "metadata": {},
   "outputs": [],
   "source": [
    "#!pip install tensorflow"
   ]
  },
  {
   "cell_type": "code",
   "execution_count": 19,
   "metadata": {},
   "outputs": [],
   "source": [
    "DATA_PATH = '../../data/preprocessed/npy300_all/'\n",
    "#DATA_PATH = '../../data/preprocessed/npy300_3_ph/'\n",
    "#DATA_PATH = '../../data/preprocessed/npy900_3_ph/'\n",
    "META_FILE = '../../data/folds/df_test0_folds.csv'\n",
    "RESULTS_DIR = '../output/pics'"
   ]
  },
  {
   "cell_type": "code",
   "execution_count": 20,
   "metadata": {},
   "outputs": [
    {
     "data": {
      "text/html": [
       "<div>\n",
       "<style scoped>\n",
       "    .dataframe tbody tr th:only-of-type {\n",
       "        vertical-align: middle;\n",
       "    }\n",
       "\n",
       "    .dataframe tbody tr th {\n",
       "        vertical-align: top;\n",
       "    }\n",
       "\n",
       "    .dataframe thead th {\n",
       "        text-align: right;\n",
       "    }\n",
       "</style>\n",
       "<table border=\"1\" class=\"dataframe\">\n",
       "  <thead>\n",
       "    <tr style=\"text-align: right;\">\n",
       "      <th></th>\n",
       "      <th>patient</th>\n",
       "      <th>pH</th>\n",
       "      <th>BDecf</th>\n",
       "      <th>pCO2</th>\n",
       "      <th>BE</th>\n",
       "      <th>Apgar1</th>\n",
       "      <th>Apgar5</th>\n",
       "      <th>Gest. weeks</th>\n",
       "      <th>Weight(g)</th>\n",
       "      <th>Sex</th>\n",
       "      <th>...</th>\n",
       "      <th>CK/KP</th>\n",
       "      <th>II.stage</th>\n",
       "      <th>Deliv. type</th>\n",
       "      <th>dbID</th>\n",
       "      <th>Rec. type</th>\n",
       "      <th>Pos. II.st.</th>\n",
       "      <th>target</th>\n",
       "      <th>test_fold</th>\n",
       "      <th>test_fold_ph</th>\n",
       "      <th>fold</th>\n",
       "    </tr>\n",
       "  </thead>\n",
       "  <tbody>\n",
       "    <tr>\n",
       "      <th>0</th>\n",
       "      <td>1220</td>\n",
       "      <td>7.30</td>\n",
       "      <td>3.52</td>\n",
       "      <td>6.0</td>\n",
       "      <td>-4.7</td>\n",
       "      <td>9.0</td>\n",
       "      <td>10.0</td>\n",
       "      <td>42.0</td>\n",
       "      <td>3100.0</td>\n",
       "      <td>2.0</td>\n",
       "      <td>...</td>\n",
       "      <td>0.0</td>\n",
       "      <td>15.0</td>\n",
       "      <td>1.0</td>\n",
       "      <td>1051632.0</td>\n",
       "      <td>2.0</td>\n",
       "      <td>14400.0</td>\n",
       "      <td>0</td>\n",
       "      <td>6</td>\n",
       "      <td>7</td>\n",
       "      <td>0</td>\n",
       "    </tr>\n",
       "    <tr>\n",
       "      <th>1</th>\n",
       "      <td>1234</td>\n",
       "      <td>7.29</td>\n",
       "      <td>2.50</td>\n",
       "      <td>6.5</td>\n",
       "      <td>-4.2</td>\n",
       "      <td>8.0</td>\n",
       "      <td>9.0</td>\n",
       "      <td>41.0</td>\n",
       "      <td>3200.0</td>\n",
       "      <td>1.0</td>\n",
       "      <td>...</td>\n",
       "      <td>0.0</td>\n",
       "      <td>10.0</td>\n",
       "      <td>1.0</td>\n",
       "      <td>1054195.0</td>\n",
       "      <td>1.0</td>\n",
       "      <td>14400.0</td>\n",
       "      <td>0</td>\n",
       "      <td>8</td>\n",
       "      <td>4</td>\n",
       "      <td>3</td>\n",
       "    </tr>\n",
       "    <tr>\n",
       "      <th>2</th>\n",
       "      <td>1208</td>\n",
       "      <td>7.23</td>\n",
       "      <td>5.84</td>\n",
       "      <td>6.6</td>\n",
       "      <td>-7.4</td>\n",
       "      <td>9.0</td>\n",
       "      <td>9.0</td>\n",
       "      <td>40.0</td>\n",
       "      <td>3900.0</td>\n",
       "      <td>2.0</td>\n",
       "      <td>...</td>\n",
       "      <td>0.0</td>\n",
       "      <td>30.0</td>\n",
       "      <td>1.0</td>\n",
       "      <td>1049536.0</td>\n",
       "      <td>12.0</td>\n",
       "      <td>14400.0</td>\n",
       "      <td>0</td>\n",
       "      <td>4</td>\n",
       "      <td>2</td>\n",
       "      <td>1</td>\n",
       "    </tr>\n",
       "    <tr>\n",
       "      <th>3</th>\n",
       "      <td>1038</td>\n",
       "      <td>7.33</td>\n",
       "      <td>2.72</td>\n",
       "      <td>5.7</td>\n",
       "      <td>-4.0</td>\n",
       "      <td>10.0</td>\n",
       "      <td>10.0</td>\n",
       "      <td>39.0</td>\n",
       "      <td>2740.0</td>\n",
       "      <td>1.0</td>\n",
       "      <td>...</td>\n",
       "      <td>0.0</td>\n",
       "      <td>10.0</td>\n",
       "      <td>1.0</td>\n",
       "      <td>1002508.0</td>\n",
       "      <td>1.0</td>\n",
       "      <td>14400.0</td>\n",
       "      <td>0</td>\n",
       "      <td>5</td>\n",
       "      <td>5</td>\n",
       "      <td>4</td>\n",
       "    </tr>\n",
       "    <tr>\n",
       "      <th>4</th>\n",
       "      <td>1004</td>\n",
       "      <td>7.30</td>\n",
       "      <td>5.19</td>\n",
       "      <td>5.5</td>\n",
       "      <td>-6.4</td>\n",
       "      <td>8.0</td>\n",
       "      <td>9.0</td>\n",
       "      <td>41.0</td>\n",
       "      <td>3370.0</td>\n",
       "      <td>1.0</td>\n",
       "      <td>...</td>\n",
       "      <td>0.0</td>\n",
       "      <td>10.0</td>\n",
       "      <td>1.0</td>\n",
       "      <td>983277.0</td>\n",
       "      <td>12.0</td>\n",
       "      <td>14400.0</td>\n",
       "      <td>0</td>\n",
       "      <td>7</td>\n",
       "      <td>7</td>\n",
       "      <td>3</td>\n",
       "    </tr>\n",
       "  </tbody>\n",
       "</table>\n",
       "<p>5 rows × 33 columns</p>\n",
       "</div>"
      ],
      "text/plain": [
       "   patient    pH  BDecf  pCO2   BE  Apgar1  Apgar5  Gest. weeks  Weight(g)  \\\n",
       "0     1220  7.30   3.52   6.0 -4.7     9.0    10.0         42.0     3100.0   \n",
       "1     1234  7.29   2.50   6.5 -4.2     8.0     9.0         41.0     3200.0   \n",
       "2     1208  7.23   5.84   6.6 -7.4     9.0     9.0         40.0     3900.0   \n",
       "3     1038  7.33   2.72   5.7 -4.0    10.0    10.0         39.0     2740.0   \n",
       "4     1004  7.30   5.19   5.5 -6.4     8.0     9.0         41.0     3370.0   \n",
       "\n",
       "   Sex  ...  CK/KP  II.stage  Deliv. type       dbID  Rec. type  Pos. II.st.  \\\n",
       "0  2.0  ...    0.0      15.0          1.0  1051632.0        2.0      14400.0   \n",
       "1  1.0  ...    0.0      10.0          1.0  1054195.0        1.0      14400.0   \n",
       "2  2.0  ...    0.0      30.0          1.0  1049536.0       12.0      14400.0   \n",
       "3  1.0  ...    0.0      10.0          1.0  1002508.0        1.0      14400.0   \n",
       "4  1.0  ...    0.0      10.0          1.0   983277.0       12.0      14400.0   \n",
       "\n",
       "   target  test_fold  test_fold_ph  fold  \n",
       "0       0          6             7     0  \n",
       "1       0          8             4     3  \n",
       "2       0          4             2     1  \n",
       "3       0          5             5     4  \n",
       "4       0          7             7     3  \n",
       "\n",
       "[5 rows x 33 columns]"
      ]
     },
     "execution_count": 20,
     "metadata": {},
     "output_type": "execute_result"
    }
   ],
   "source": [
    "df_train = pd.read_csv(META_FILE)\n",
    "df_train.head()"
   ]
  },
  {
   "cell_type": "code",
   "execution_count": 21,
   "metadata": {},
   "outputs": [
    {
     "data": {
      "text/html": [
       "<div>\n",
       "<style scoped>\n",
       "    .dataframe tbody tr th:only-of-type {\n",
       "        vertical-align: middle;\n",
       "    }\n",
       "\n",
       "    .dataframe tbody tr th {\n",
       "        vertical-align: top;\n",
       "    }\n",
       "\n",
       "    .dataframe thead th {\n",
       "        text-align: right;\n",
       "    }\n",
       "</style>\n",
       "<table border=\"1\" class=\"dataframe\">\n",
       "  <thead>\n",
       "    <tr style=\"text-align: right;\">\n",
       "      <th></th>\n",
       "      <th>patient</th>\n",
       "      <th>missing_part</th>\n",
       "    </tr>\n",
       "  </thead>\n",
       "  <tbody>\n",
       "    <tr>\n",
       "      <th>0</th>\n",
       "      <td>1220</td>\n",
       "      <td>0.258112</td>\n",
       "    </tr>\n",
       "    <tr>\n",
       "      <th>1</th>\n",
       "      <td>1234</td>\n",
       "      <td>0.131540</td>\n",
       "    </tr>\n",
       "    <tr>\n",
       "      <th>2</th>\n",
       "      <td>1208</td>\n",
       "      <td>0.063370</td>\n",
       "    </tr>\n",
       "    <tr>\n",
       "      <th>3</th>\n",
       "      <td>1038</td>\n",
       "      <td>0.196434</td>\n",
       "    </tr>\n",
       "    <tr>\n",
       "      <th>4</th>\n",
       "      <td>1004</td>\n",
       "      <td>0.011654</td>\n",
       "    </tr>\n",
       "  </tbody>\n",
       "</table>\n",
       "</div>"
      ],
      "text/plain": [
       "   patient  missing_part\n",
       "0     1220      0.258112\n",
       "1     1234      0.131540\n",
       "2     1208      0.063370\n",
       "3     1038      0.196434\n",
       "4     1004      0.011654"
      ]
     },
     "execution_count": 21,
     "metadata": {},
     "output_type": "execute_result"
    }
   ],
   "source": [
    "df_miss = pd.read_csv(os.path.join(DATA_PATH, \"df_missing_parts.csv\"))\n",
    "df_miss.head()"
   ]
  },
  {
   "cell_type": "code",
   "execution_count": 22,
   "metadata": {},
   "outputs": [],
   "source": [
    "df = pd.merge(df_train, df_miss, how='inner', on='patient', left_on=None, right_on=None,\n",
    "         left_index=False, right_index=False, sort=True,\n",
    "         suffixes=('_x', '_y'), copy=True, indicator=False,\n",
    "         validate=None)"
   ]
  },
  {
   "cell_type": "code",
   "execution_count": 23,
   "metadata": {},
   "outputs": [
    {
     "data": {
      "text/html": [
       "<div>\n",
       "<style scoped>\n",
       "    .dataframe tbody tr th:only-of-type {\n",
       "        vertical-align: middle;\n",
       "    }\n",
       "\n",
       "    .dataframe tbody tr th {\n",
       "        vertical-align: top;\n",
       "    }\n",
       "\n",
       "    .dataframe thead th {\n",
       "        text-align: right;\n",
       "    }\n",
       "</style>\n",
       "<table border=\"1\" class=\"dataframe\">\n",
       "  <thead>\n",
       "    <tr style=\"text-align: right;\">\n",
       "      <th></th>\n",
       "      <th>patient</th>\n",
       "      <th>pH</th>\n",
       "      <th>BDecf</th>\n",
       "      <th>pCO2</th>\n",
       "      <th>BE</th>\n",
       "      <th>Apgar1</th>\n",
       "      <th>Apgar5</th>\n",
       "      <th>Gest. weeks</th>\n",
       "      <th>Weight(g)</th>\n",
       "      <th>Sex</th>\n",
       "      <th>...</th>\n",
       "      <th>II.stage</th>\n",
       "      <th>Deliv. type</th>\n",
       "      <th>dbID</th>\n",
       "      <th>Rec. type</th>\n",
       "      <th>Pos. II.st.</th>\n",
       "      <th>target</th>\n",
       "      <th>test_fold</th>\n",
       "      <th>test_fold_ph</th>\n",
       "      <th>fold</th>\n",
       "      <th>missing_part</th>\n",
       "    </tr>\n",
       "  </thead>\n",
       "  <tbody>\n",
       "    <tr>\n",
       "      <th>0</th>\n",
       "      <td>1001</td>\n",
       "      <td>7.14</td>\n",
       "      <td>8.14</td>\n",
       "      <td>7.7</td>\n",
       "      <td>-10.5</td>\n",
       "      <td>6.0</td>\n",
       "      <td>8.0</td>\n",
       "      <td>37.0</td>\n",
       "      <td>2660.0</td>\n",
       "      <td>2.0</td>\n",
       "      <td>...</td>\n",
       "      <td>20.0</td>\n",
       "      <td>1.0</td>\n",
       "      <td>974204.0</td>\n",
       "      <td>1.0</td>\n",
       "      <td>14400.0</td>\n",
       "      <td>2</td>\n",
       "      <td>9</td>\n",
       "      <td>6</td>\n",
       "      <td>0</td>\n",
       "      <td>0.145265</td>\n",
       "    </tr>\n",
       "    <tr>\n",
       "      <th>1</th>\n",
       "      <td>1002</td>\n",
       "      <td>7.00</td>\n",
       "      <td>7.92</td>\n",
       "      <td>12.0</td>\n",
       "      <td>-12.0</td>\n",
       "      <td>8.0</td>\n",
       "      <td>8.0</td>\n",
       "      <td>41.0</td>\n",
       "      <td>2900.0</td>\n",
       "      <td>2.0</td>\n",
       "      <td>...</td>\n",
       "      <td>20.0</td>\n",
       "      <td>1.0</td>\n",
       "      <td>975666.0</td>\n",
       "      <td>1.0</td>\n",
       "      <td>14400.0</td>\n",
       "      <td>3</td>\n",
       "      <td>7</td>\n",
       "      <td>8</td>\n",
       "      <td>4</td>\n",
       "      <td>0.097337</td>\n",
       "    </tr>\n",
       "    <tr>\n",
       "      <th>2</th>\n",
       "      <td>1003</td>\n",
       "      <td>7.20</td>\n",
       "      <td>3.03</td>\n",
       "      <td>8.3</td>\n",
       "      <td>-5.6</td>\n",
       "      <td>7.0</td>\n",
       "      <td>9.0</td>\n",
       "      <td>40.0</td>\n",
       "      <td>3770.0</td>\n",
       "      <td>1.0</td>\n",
       "      <td>...</td>\n",
       "      <td>15.0</td>\n",
       "      <td>1.0</td>\n",
       "      <td>982315.0</td>\n",
       "      <td>1.0</td>\n",
       "      <td>14400.0</td>\n",
       "      <td>0</td>\n",
       "      <td>5</td>\n",
       "      <td>2</td>\n",
       "      <td>0</td>\n",
       "      <td>0.183472</td>\n",
       "    </tr>\n",
       "    <tr>\n",
       "      <th>3</th>\n",
       "      <td>1004</td>\n",
       "      <td>7.30</td>\n",
       "      <td>5.19</td>\n",
       "      <td>5.5</td>\n",
       "      <td>-6.4</td>\n",
       "      <td>8.0</td>\n",
       "      <td>9.0</td>\n",
       "      <td>41.0</td>\n",
       "      <td>3370.0</td>\n",
       "      <td>1.0</td>\n",
       "      <td>...</td>\n",
       "      <td>10.0</td>\n",
       "      <td>1.0</td>\n",
       "      <td>983277.0</td>\n",
       "      <td>12.0</td>\n",
       "      <td>14400.0</td>\n",
       "      <td>0</td>\n",
       "      <td>7</td>\n",
       "      <td>7</td>\n",
       "      <td>3</td>\n",
       "      <td>0.011654</td>\n",
       "    </tr>\n",
       "    <tr>\n",
       "      <th>4</th>\n",
       "      <td>1006</td>\n",
       "      <td>7.23</td>\n",
       "      <td>1.29</td>\n",
       "      <td>8.2</td>\n",
       "      <td>-3.8</td>\n",
       "      <td>8.0</td>\n",
       "      <td>9.0</td>\n",
       "      <td>38.0</td>\n",
       "      <td>3500.0</td>\n",
       "      <td>2.0</td>\n",
       "      <td>...</td>\n",
       "      <td>10.0</td>\n",
       "      <td>1.0</td>\n",
       "      <td>983485.0</td>\n",
       "      <td>2.0</td>\n",
       "      <td>14400.0</td>\n",
       "      <td>0</td>\n",
       "      <td>3</td>\n",
       "      <td>2</td>\n",
       "      <td>0</td>\n",
       "      <td>0.254895</td>\n",
       "    </tr>\n",
       "  </tbody>\n",
       "</table>\n",
       "<p>5 rows × 34 columns</p>\n",
       "</div>"
      ],
      "text/plain": [
       "   patient    pH  BDecf  pCO2    BE  Apgar1  Apgar5  Gest. weeks  Weight(g)  \\\n",
       "0     1001  7.14   8.14   7.7 -10.5     6.0     8.0         37.0     2660.0   \n",
       "1     1002  7.00   7.92  12.0 -12.0     8.0     8.0         41.0     2900.0   \n",
       "2     1003  7.20   3.03   8.3  -5.6     7.0     9.0         40.0     3770.0   \n",
       "3     1004  7.30   5.19   5.5  -6.4     8.0     9.0         41.0     3370.0   \n",
       "4     1006  7.23   1.29   8.2  -3.8     8.0     9.0         38.0     3500.0   \n",
       "\n",
       "   Sex  ...  II.stage  Deliv. type      dbID  Rec. type  Pos. II.st.  target  \\\n",
       "0  2.0  ...      20.0          1.0  974204.0        1.0      14400.0       2   \n",
       "1  2.0  ...      20.0          1.0  975666.0        1.0      14400.0       3   \n",
       "2  1.0  ...      15.0          1.0  982315.0        1.0      14400.0       0   \n",
       "3  1.0  ...      10.0          1.0  983277.0       12.0      14400.0       0   \n",
       "4  2.0  ...      10.0          1.0  983485.0        2.0      14400.0       0   \n",
       "\n",
       "   test_fold  test_fold_ph  fold  missing_part  \n",
       "0          9             6     0      0.145265  \n",
       "1          7             8     4      0.097337  \n",
       "2          5             2     0      0.183472  \n",
       "3          7             7     3      0.011654  \n",
       "4          3             2     0      0.254895  \n",
       "\n",
       "[5 rows x 34 columns]"
      ]
     },
     "execution_count": 23,
     "metadata": {},
     "output_type": "execute_result"
    }
   ],
   "source": [
    "df.head()"
   ]
  },
  {
   "cell_type": "code",
   "execution_count": 24,
   "metadata": {},
   "outputs": [
    {
     "data": {
      "text/plain": [
       "count    388.000000\n",
       "mean       1.992268\n",
       "std        1.415106\n",
       "min        0.000000\n",
       "25%        1.000000\n",
       "50%        2.000000\n",
       "75%        3.000000\n",
       "max        4.000000\n",
       "Name: fold, dtype: float64"
      ]
     },
     "execution_count": 24,
     "metadata": {},
     "output_type": "execute_result"
    }
   ],
   "source": [
    "df['fold'].describe()"
   ]
  },
  {
   "cell_type": "code",
   "execution_count": 25,
   "metadata": {},
   "outputs": [
    {
     "data": {
      "text/plain": [
       "(310, 78)"
      ]
     },
     "execution_count": 25,
     "metadata": {},
     "output_type": "execute_result"
    }
   ],
   "source": [
    "fold = 0\n",
    "train_patients = df_train['patient'][df_train['fold'] != fold].values\n",
    "train_targets = df_train['target'][df_train['fold'] != fold].values\n",
    "val_patients = df_train['patient'][df_train['fold'] == fold].values\n",
    "val_targets = df_train['target'][df_train['fold'] == fold].values\n",
    "len(train_patients), len(val_patients)"
   ]
  },
  {
   "cell_type": "code",
   "execution_count": 26,
   "metadata": {},
   "outputs": [
    {
     "data": {
      "text/plain": [
       "({0, 1, 2, 3, 4}, {0, 1, 2, 3, 4})"
      ]
     },
     "execution_count": 26,
     "metadata": {},
     "output_type": "execute_result"
    }
   ],
   "source": [
    "set(train_targets), set(val_targets)"
   ]
  },
  {
   "cell_type": "code",
   "execution_count": 27,
   "metadata": {},
   "outputs": [
    {
     "name": "stdout",
     "output_type": "stream",
     "text": [
      "[1234 1208 1038 1004 1010 1206 1212 1156 1142 1399] [0 0 0 0 0 0 0 3 0 0]\n"
     ]
    }
   ],
   "source": [
    "print(train_patients[:10], train_targets[:10])"
   ]
  },
  {
   "cell_type": "code",
   "execution_count": 28,
   "metadata": {},
   "outputs": [
    {
     "data": {
      "text/plain": [
       "0"
      ]
     },
     "execution_count": 28,
     "metadata": {},
     "output_type": "execute_result"
    }
   ],
   "source": [
    "df_train['target'][df_train['patient'] == 1399] .values[0]"
   ]
  },
  {
   "cell_type": "code",
   "execution_count": 29,
   "metadata": {},
   "outputs": [
    {
     "data": {
      "text/plain": [
       "(310, 78)"
      ]
     },
     "execution_count": 29,
     "metadata": {},
     "output_type": "execute_result"
    }
   ],
   "source": [
    "len(train_targets), len(val_targets)"
   ]
  },
  {
   "cell_type": "code",
   "execution_count": 30,
   "metadata": {},
   "outputs": [
    {
     "data": {
      "text/plain": [
       "array([2, 3, 0, 1, 4], dtype=int64)"
      ]
     },
     "execution_count": 30,
     "metadata": {},
     "output_type": "execute_result"
    }
   ],
   "source": [
    "df.target.unique()"
   ]
  },
  {
   "cell_type": "code",
   "execution_count": 31,
   "metadata": {},
   "outputs": [
    {
     "data": {
      "text/plain": [
       "(array([0, 1, 2, 3, 4], dtype=int64), array([0, 1, 2, 3, 4], dtype=int64))"
      ]
     },
     "execution_count": 31,
     "metadata": {},
     "output_type": "execute_result"
    }
   ],
   "source": [
    "np.unique(train_targets), np.unique(val_targets)"
   ]
  },
  {
   "cell_type": "code",
   "execution_count": 32,
   "metadata": {},
   "outputs": [],
   "source": [
    "num = 101\n",
    "patient = train_patients[num]"
   ]
  },
  {
   "cell_type": "code",
   "execution_count": 35,
   "metadata": {},
   "outputs": [
    {
     "data": {
      "image/png": "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\n",
      "text/plain": [
       "<Figure size 1080x576 with 2 Axes>"
      ]
     },
     "metadata": {
      "needs_background": "light"
     },
     "output_type": "display_data"
    }
   ],
   "source": [
    "fhr, uc, time, y = load_ctg_npy(DATA_PATH, patient, batch_size = 20)\n",
    "fig = plot_ctg(fhr[0], uc[0], patient_num = patient)  "
   ]
  },
  {
   "cell_type": "code",
   "execution_count": 36,
   "metadata": {},
   "outputs": [
    {
     "data": {
      "text/plain": [
       "((20, 300), (20, 300), (1, 20))"
      ]
     },
     "execution_count": 36,
     "metadata": {},
     "output_type": "execute_result"
    }
   ],
   "source": [
    "fhr.shape, uc.shape, y.shape"
   ]
  },
  {
   "cell_type": "code",
   "execution_count": 37,
   "metadata": {},
   "outputs": [
    {
     "data": {
      "text/plain": [
       "array([0, 0, 0, 0, 0, 0, 0, 0, 0, 0, 0, 0, 0, 0, 0, 0, 0, 0, 0, 0],\n",
       "      dtype=int64)"
      ]
     },
     "execution_count": 37,
     "metadata": {},
     "output_type": "execute_result"
    }
   ],
   "source": [
    "targets = np.array([train_targets[num]]*len(fhr))\n",
    "targets"
   ]
  },
  {
   "cell_type": "code",
   "execution_count": 38,
   "metadata": {},
   "outputs": [],
   "source": [
    "from src.training.prepare_inputs import combine_ctg_data, combine_ctg_targets, reshape_ctg, get_one_hot, normalize_signal"
   ]
  },
  {
   "cell_type": "code",
   "execution_count": 39,
   "metadata": {},
   "outputs": [],
   "source": [
    "DEBUG = True\n",
    "BATCH_SIZE = 1 if DEBUG else 10    "
   ]
  },
  {
   "cell_type": "code",
   "execution_count": 40,
   "metadata": {},
   "outputs": [
    {
     "name": "stdout",
     "output_type": "stream",
     "text": [
      "fhr:  (310, 300, 1) , y:  (310,)\n",
      "(310, 5)\n",
      "[[1. 0. 0. 0. 0.]\n",
      " [1. 0. 0. 0. 0.]\n",
      " [1. 0. 0. 0. 0.]\n",
      " [1. 0. 0. 0. 0.]\n",
      " [1. 0. 0. 0. 0.]\n",
      " [1. 0. 0. 0. 0.]\n",
      " [1. 0. 0. 0. 0.]\n",
      " [0. 0. 0. 1. 0.]\n",
      " [1. 0. 0. 0. 0.]\n",
      " [1. 0. 0. 0. 0.]]\n"
     ]
    }
   ],
   "source": [
    "# load train data\n",
    "fhr, uc, y = combine_ctg_targets(DATA_PATH, train_patients, train_targets, batch_size = BATCH_SIZE)\n",
    "fhr, uc = reshape_ctg(fhr, uc)\n",
    "print('fhr: ', fhr.shape, ', y: ', y.shape)\n",
    "# one-hot encoding\n",
    "y_one_hot = get_one_hot(train_targets, nb_classes=5)\n",
    "print(y_one_hot.shape)\n",
    "print(y_one_hot[:10])"
   ]
  },
  {
   "cell_type": "code",
   "execution_count": 41,
   "metadata": {},
   "outputs": [
    {
     "name": "stdout",
     "output_type": "stream",
     "text": [
      "fhr val:  (78, 300, 1) , y:  (78,)\n",
      "(78, 5)\n"
     ]
    }
   ],
   "source": [
    "# load validation data\n",
    "fhr_v, uc_v, y_v = combine_ctg_targets(DATA_PATH, val_patients, val_targets, batch_size = BATCH_SIZE)\n",
    "fhr_v, uc_v = reshape_ctg(fhr_v, uc_v)\n",
    "print('fhr val: ', fhr_v.shape, ', y: ', y_v.shape)\n",
    "# one-hot encoding\n",
    "y_val_one_hot = get_one_hot(val_targets, nb_classes=5)\n",
    "print(y_val_one_hot.shape)"
   ]
  },
  {
   "cell_type": "code",
   "execution_count": 42,
   "metadata": {},
   "outputs": [
    {
     "ename": "ModuleNotFoundError",
     "evalue": "No module named 'metric_callbacks'",
     "output_type": "error",
     "traceback": [
      "\u001b[1;31m---------------------------------------------------------------------------\u001b[0m",
      "\u001b[1;31mModuleNotFoundError\u001b[0m                       Traceback (most recent call last)",
      "\u001b[1;32m<ipython-input-42-c4442918b097>\u001b[0m in \u001b[0;36m<module>\u001b[1;34m\u001b[0m\n\u001b[0;32m      9\u001b[0m \u001b[1;32mfrom\u001b[0m \u001b[0mkeras\u001b[0m\u001b[1;33m.\u001b[0m\u001b[0mmodels\u001b[0m \u001b[1;32mimport\u001b[0m \u001b[0mModel\u001b[0m\u001b[1;33m,\u001b[0m \u001b[0mmodel_from_json\u001b[0m\u001b[1;33m\u001b[0m\u001b[1;33m\u001b[0m\u001b[0m\n\u001b[0;32m     10\u001b[0m \u001b[1;32mfrom\u001b[0m \u001b[0mkeras\u001b[0m\u001b[1;33m.\u001b[0m\u001b[0mcallbacks\u001b[0m \u001b[1;32mimport\u001b[0m \u001b[0mCSVLogger\u001b[0m\u001b[1;33m,\u001b[0m \u001b[0mEarlyStopping\u001b[0m\u001b[1;33m,\u001b[0m \u001b[0mModelCheckpoint\u001b[0m\u001b[1;33m,\u001b[0m \u001b[0mTensorBoard\u001b[0m\u001b[1;33m,\u001b[0m \u001b[0mReduceLROnPlateau\u001b[0m\u001b[1;33m\u001b[0m\u001b[1;33m\u001b[0m\u001b[0m\n\u001b[1;32m---> 11\u001b[1;33m \u001b[1;32mfrom\u001b[0m \u001b[0mmetric_callbacks\u001b[0m \u001b[1;32mimport\u001b[0m \u001b[0mRocAucScore\u001b[0m\u001b[1;33m,\u001b[0m \u001b[0mPrecision\u001b[0m\u001b[1;33m\u001b[0m\u001b[1;33m\u001b[0m\u001b[0m\n\u001b[0m",
      "\u001b[1;31mModuleNotFoundError\u001b[0m: No module named 'metric_callbacks'"
     ]
    }
   ],
   "source": [
    "import tensorflow as tf\n",
    "from tensorflow import keras\n",
    "from tensorflow.keras import layers, Model\n",
    "from tensorflow.keras.layers import (Activation, Add, AveragePooling1D,\n",
    "                          BatchNormalization, Concatenate, Conv1D, Dense,\n",
    "                          Dropout, Flatten, GlobalAveragePooling1D,\n",
    "                          GlobalMaxPool1D, Input, Lambda, MaxPool1D, MaxPooling1D,\n",
    "                          concatenate)\n",
    "from keras.models import Model, model_from_json\n",
    "from keras.callbacks import CSVLogger, EarlyStopping, ModelCheckpoint, TensorBoard, ReduceLROnPlateau\n",
    "from metric_callbacks import RocAucScore, Precision"
   ]
  },
  {
   "cell_type": "code",
   "execution_count": 714,
   "metadata": {},
   "outputs": [],
   "source": [
    "model = FCN_10_model(num_classes = 5, input_shape = (300, 1), num_filters = 32, kernel_size = 3, \n",
    "                pool_size = 4, dropout = 0.0, activation = 'softmax')"
   ]
  },
  {
   "cell_type": "code",
   "execution_count": 715,
   "metadata": {},
   "outputs": [
    {
     "name": "stdout",
     "output_type": "stream",
     "text": [
      "Model: \"model_51\"\n",
      "_________________________________________________________________\n",
      "Layer (type)                 Output Shape              Param #   \n",
      "=================================================================\n",
      "input_a (InputLayer)         [(None, 300, 1)]          0         \n",
      "_________________________________________________________________\n",
      "rescaling_56 (Rescaling)     (None, 300, 1)            0         \n",
      "_________________________________________________________________\n",
      "conv1d_626 (Conv1D)          (None, 298, 32)           128       \n",
      "_________________________________________________________________\n",
      "batch_normalization_580 (Bat (None, 298, 32)           128       \n",
      "_________________________________________________________________\n",
      "activation_580 (Activation)  (None, 298, 32)           0         \n",
      "_________________________________________________________________\n",
      "conv1d_627 (Conv1D)          (None, 296, 32)           3104      \n",
      "_________________________________________________________________\n",
      "batch_normalization_581 (Bat (None, 296, 32)           128       \n",
      "_________________________________________________________________\n",
      "activation_581 (Activation)  (None, 296, 32)           0         \n",
      "_________________________________________________________________\n",
      "max_pooling1d_232 (MaxPoolin (None, 147, 32)           0         \n",
      "_________________________________________________________________\n",
      "dropout_190 (Dropout)        (None, 147, 32)           0         \n",
      "_________________________________________________________________\n",
      "conv1d_628 (Conv1D)          (None, 145, 32)           3104      \n",
      "_________________________________________________________________\n",
      "batch_normalization_582 (Bat (None, 145, 32)           128       \n",
      "_________________________________________________________________\n",
      "activation_582 (Activation)  (None, 145, 32)           0         \n",
      "_________________________________________________________________\n",
      "conv1d_629 (Conv1D)          (None, 143, 32)           3104      \n",
      "_________________________________________________________________\n",
      "batch_normalization_583 (Bat (None, 143, 32)           128       \n",
      "_________________________________________________________________\n",
      "activation_583 (Activation)  (None, 143, 32)           0         \n",
      "_________________________________________________________________\n",
      "max_pooling1d_233 (MaxPoolin (None, 70, 32)            0         \n",
      "_________________________________________________________________\n",
      "dropout_191 (Dropout)        (None, 70, 32)            0         \n",
      "_________________________________________________________________\n",
      "conv1d_630 (Conv1D)          (None, 68, 32)            3104      \n",
      "_________________________________________________________________\n",
      "batch_normalization_584 (Bat (None, 68, 32)            128       \n",
      "_________________________________________________________________\n",
      "activation_584 (Activation)  (None, 68, 32)            0         \n",
      "_________________________________________________________________\n",
      "conv1d_631 (Conv1D)          (None, 66, 32)            3104      \n",
      "_________________________________________________________________\n",
      "batch_normalization_585 (Bat (None, 66, 32)            128       \n",
      "_________________________________________________________________\n",
      "activation_585 (Activation)  (None, 66, 32)            0         \n",
      "_________________________________________________________________\n",
      "max_pooling1d_234 (MaxPoolin (None, 32, 32)            0         \n",
      "_________________________________________________________________\n",
      "dropout_192 (Dropout)        (None, 32, 32)            0         \n",
      "_________________________________________________________________\n",
      "conv1d_632 (Conv1D)          (None, 30, 32)            3104      \n",
      "_________________________________________________________________\n",
      "batch_normalization_586 (Bat (None, 30, 32)            128       \n",
      "_________________________________________________________________\n",
      "activation_586 (Activation)  (None, 30, 32)            0         \n",
      "_________________________________________________________________\n",
      "conv1d_633 (Conv1D)          (None, 28, 32)            3104      \n",
      "_________________________________________________________________\n",
      "batch_normalization_587 (Bat (None, 28, 32)            128       \n",
      "_________________________________________________________________\n",
      "activation_587 (Activation)  (None, 28, 32)            0         \n",
      "_________________________________________________________________\n",
      "max_pooling1d_235 (MaxPoolin (None, 13, 32)            0         \n",
      "_________________________________________________________________\n",
      "dropout_193 (Dropout)        (None, 13, 32)            0         \n",
      "_________________________________________________________________\n",
      "conv1d_634 (Conv1D)          (None, 11, 32)            3104      \n",
      "_________________________________________________________________\n",
      "batch_normalization_588 (Bat (None, 11, 32)            128       \n",
      "_________________________________________________________________\n",
      "activation_588 (Activation)  (None, 11, 32)            0         \n",
      "_________________________________________________________________\n",
      "conv1d_635 (Conv1D)          (None, 9, 5)              485       \n",
      "_________________________________________________________________\n",
      "batch_normalization_589 (Bat (None, 9, 5)              20        \n",
      "_________________________________________________________________\n",
      "activation_589 (Activation)  (None, 9, 5)              0         \n",
      "_________________________________________________________________\n",
      "dropout_194 (Dropout)        (None, 9, 5)              0         \n",
      "_________________________________________________________________\n",
      "global_average_pooling1d_69  (None, 5)                 0         \n",
      "_________________________________________________________________\n",
      "output (Activation)          (None, 5)                 0         \n",
      "=================================================================\n",
      "Total params: 26,617\n",
      "Trainable params: 26,031\n",
      "Non-trainable params: 586\n",
      "_________________________________________________________________\n",
      "None\n"
     ]
    }
   ],
   "source": [
    "print(model.summary())"
   ]
  },
  {
   "cell_type": "code",
   "execution_count": 716,
   "metadata": {},
   "outputs": [],
   "source": [
    "learning_rate = 1e-3"
   ]
  },
  {
   "cell_type": "code",
   "execution_count": 717,
   "metadata": {},
   "outputs": [],
   "source": [
    "# optimizers\n",
    "optimizer = keras.optimizers.Adam(lr=learning_rate)\n",
    "#optimizer = keras.optimizers.SGD(lr=learning_rate, decay=1e-6, momentum=0.9, nesterov=True)\n",
    "#optimizer = keras.optimizers.RMSprop()\n",
    "# losses\n",
    "loss = 'categorical_crossentropy' # for softmax\n",
    "#loss = 'binary_crossentropy' # for sigmoid   "
   ]
  },
  {
   "cell_type": "code",
   "execution_count": 718,
   "metadata": {},
   "outputs": [],
   "source": [
    "net = FullyConvNet(\n",
    "        num_classes = 5, \n",
    "        num_labels = 1,\n",
    "        input_length = 300,       \n",
    "        num_filters = 32, \n",
    "        kernel_size = 5, \n",
    "        pool_size = 4,\n",
    "        dropout = None,\n",
    "        l2_reg = 0.0,\n",
    "        num_blocks = 4\n",
    ")        "
   ]
  },
  {
   "cell_type": "code",
   "execution_count": 719,
   "metadata": {},
   "outputs": [],
   "source": [
    "model3 = net.build_model()"
   ]
  },
  {
   "cell_type": "code",
   "execution_count": 720,
   "metadata": {},
   "outputs": [
    {
     "name": "stdout",
     "output_type": "stream",
     "text": [
      "Model: \"model_52\"\n",
      "__________________________________________________________________________________________________\n",
      "Layer (type)                    Output Shape         Param #     Connected to                     \n",
      "==================================================================================================\n",
      "input_a (InputLayer)            [(None, 300, 1)]     0                                            \n",
      "__________________________________________________________________________________________________\n",
      "rescaling_57 (Rescaling)        (None, 300, 1)       0           input_a[0][0]                    \n",
      "__________________________________________________________________________________________________\n",
      "conv1d_636 (Conv1D)             (None, 296, 32)      192         rescaling_57[0][0]               \n",
      "__________________________________________________________________________________________________\n",
      "batch_normalization_590 (BatchN (None, 296, 32)      128         conv1d_636[0][0]                 \n",
      "__________________________________________________________________________________________________\n",
      "activation_590 (Activation)     (None, 296, 32)      0           batch_normalization_590[0][0]    \n",
      "__________________________________________________________________________________________________\n",
      "conv1d_637 (Conv1D)             (None, 292, 32)      5152        activation_590[0][0]             \n",
      "__________________________________________________________________________________________________\n",
      "batch_normalization_591 (BatchN (None, 292, 32)      128         conv1d_637[0][0]                 \n",
      "__________________________________________________________________________________________________\n",
      "activation_591 (Activation)     (None, 292, 32)      0           batch_normalization_591[0][0]    \n",
      "__________________________________________________________________________________________________\n",
      "max_pooling1d_236 (MaxPooling1D (None, 145, 32)      0           activation_591[0][0]             \n",
      "__________________________________________________________________________________________________\n",
      "conv1d_638 (Conv1D)             (None, 141, 32)      5152        max_pooling1d_236[0][0]          \n",
      "__________________________________________________________________________________________________\n",
      "batch_normalization_592 (BatchN (None, 141, 32)      128         conv1d_638[0][0]                 \n",
      "__________________________________________________________________________________________________\n",
      "activation_592 (Activation)     (None, 141, 32)      0           batch_normalization_592[0][0]    \n",
      "__________________________________________________________________________________________________\n",
      "conv1d_639 (Conv1D)             (None, 137, 32)      5152        activation_592[0][0]             \n",
      "__________________________________________________________________________________________________\n",
      "batch_normalization_593 (BatchN (None, 137, 32)      128         conv1d_639[0][0]                 \n",
      "__________________________________________________________________________________________________\n",
      "activation_593 (Activation)     (None, 137, 32)      0           batch_normalization_593[0][0]    \n",
      "__________________________________________________________________________________________________\n",
      "max_pooling1d_237 (MaxPooling1D (None, 67, 32)       0           activation_593[0][0]             \n",
      "__________________________________________________________________________________________________\n",
      "conv1d_640 (Conv1D)             (None, 63, 32)       5152        max_pooling1d_237[0][0]          \n",
      "__________________________________________________________________________________________________\n",
      "batch_normalization_594 (BatchN (None, 63, 32)       128         conv1d_640[0][0]                 \n",
      "__________________________________________________________________________________________________\n",
      "activation_594 (Activation)     (None, 63, 32)       0           batch_normalization_594[0][0]    \n",
      "__________________________________________________________________________________________________\n",
      "conv1d_641 (Conv1D)             (None, 59, 32)       5152        activation_594[0][0]             \n",
      "__________________________________________________________________________________________________\n",
      "batch_normalization_595 (BatchN (None, 59, 32)       128         conv1d_641[0][0]                 \n",
      "__________________________________________________________________________________________________\n",
      "activation_595 (Activation)     (None, 59, 32)       0           batch_normalization_595[0][0]    \n",
      "__________________________________________________________________________________________________\n",
      "max_pooling1d_238 (MaxPooling1D (None, 28, 32)       0           activation_595[0][0]             \n",
      "__________________________________________________________________________________________________\n",
      "conv1d_642 (Conv1D)             (None, 24, 32)       5152        max_pooling1d_238[0][0]          \n",
      "__________________________________________________________________________________________________\n",
      "batch_normalization_596 (BatchN (None, 24, 32)       128         conv1d_642[0][0]                 \n",
      "__________________________________________________________________________________________________\n",
      "activation_596 (Activation)     (None, 24, 32)       0           batch_normalization_596[0][0]    \n",
      "__________________________________________________________________________________________________\n",
      "conv1d_643 (Conv1D)             (None, 20, 32)       5152        activation_596[0][0]             \n",
      "__________________________________________________________________________________________________\n",
      "batch_normalization_597 (BatchN (None, 20, 32)       128         conv1d_643[0][0]                 \n",
      "__________________________________________________________________________________________________\n",
      "activation_597 (Activation)     (None, 20, 32)       0           batch_normalization_597[0][0]    \n",
      "__________________________________________________________________________________________________\n",
      "max_pooling1d_239 (MaxPooling1D (None, 9, 32)        0           activation_597[0][0]             \n",
      "__________________________________________________________________________________________________\n",
      "conv1d_644 (Conv1D)             (None, 5, 32)        5152        max_pooling1d_239[0][0]          \n",
      "__________________________________________________________________________________________________\n",
      "conv1d_646 (Conv1D)             (None, 5, 32)        5152        max_pooling1d_239[0][0]          \n",
      "__________________________________________________________________________________________________\n",
      "conv1d_648 (Conv1D)             (None, 5, 32)        5152        max_pooling1d_239[0][0]          \n",
      "__________________________________________________________________________________________________\n",
      "batch_normalization_598 (BatchN (None, 5, 32)        128         conv1d_644[0][0]                 \n",
      "__________________________________________________________________________________________________\n",
      "batch_normalization_599 (BatchN (None, 5, 32)        128         conv1d_646[0][0]                 \n",
      "__________________________________________________________________________________________________\n",
      "batch_normalization_600 (BatchN (None, 5, 32)        128         conv1d_648[0][0]                 \n",
      "__________________________________________________________________________________________________\n",
      "activation_598 (Activation)     (None, 5, 32)        0           batch_normalization_598[0][0]    \n",
      "__________________________________________________________________________________________________\n",
      "activation_599 (Activation)     (None, 5, 32)        0           batch_normalization_599[0][0]    \n",
      "__________________________________________________________________________________________________\n",
      "activation_600 (Activation)     (None, 5, 32)        0           batch_normalization_600[0][0]    \n",
      "__________________________________________________________________________________________________\n",
      "conv1d_645 (Conv1D)             (None, 1, 5)         805         activation_598[0][0]             \n",
      "__________________________________________________________________________________________________\n",
      "conv1d_647 (Conv1D)             (None, 1, 5)         805         activation_599[0][0]             \n",
      "__________________________________________________________________________________________________\n",
      "conv1d_649 (Conv1D)             (None, 1, 3)         483         activation_600[0][0]             \n",
      "__________________________________________________________________________________________________\n",
      "global_average_pooling1d_70 (Gl (None, 5)            0           conv1d_645[0][0]                 \n",
      "__________________________________________________________________________________________________\n",
      "global_average_pooling1d_71 (Gl (None, 5)            0           conv1d_647[0][0]                 \n",
      "__________________________________________________________________________________________________\n",
      "global_average_pooling1d_72 (Gl (None, 3)            0           conv1d_649[0][0]                 \n",
      "__________________________________________________________________________________________________\n",
      "output_apgar1 (Activation)      (None, 5)            0           global_average_pooling1d_70[0][0]\n",
      "__________________________________________________________________________________________________\n",
      "output_apgar2 (Activation)      (None, 5)            0           global_average_pooling1d_71[0][0]\n",
      "__________________________________________________________________________________________________\n",
      "output_outcome (Activation)     (None, 3)            0           global_average_pooling1d_72[0][0]\n",
      "==================================================================================================\n",
      "Total params: 55,213\n",
      "Trainable params: 54,509\n",
      "Non-trainable params: 704\n",
      "__________________________________________________________________________________________________\n",
      "None\n"
     ]
    }
   ],
   "source": [
    "print(model3.summary())"
   ]
  },
  {
   "cell_type": "code",
   "execution_count": 463,
   "metadata": {},
   "outputs": [
    {
     "name": "stdout",
     "output_type": "stream",
     "text": [
      "Failed to import pydot. You must install pydot and graphviz for `pydotprint` to work.\n"
     ]
    }
   ],
   "source": [
    "tf.keras.utils.plot_model(\n",
    "    model, to_file='model.png', show_shapes=False, show_layer_names=True,\n",
    "    rankdir='TB', expand_nested=False, dpi=96\n",
    ")"
   ]
  },
  {
   "cell_type": "code",
   "execution_count": 677,
   "metadata": {},
   "outputs": [],
   "source": [
    "from keras import backend as K\n",
    "#https://datascience.stackexchange.com/questions/45165/how-to-get-accuracy-f1-precision-and-recall-for-a-keras-model\n",
    "\n",
    "def recall(y_true, y_pred):    \n",
    "    true_positives = K.sum(K.round(K.clip(y_true * y_pred, 0, 1)))\n",
    "    possible_positives = K.sum(K.round(K.clip(y_true, 0, 1)))\n",
    "    recall = true_positives / (possible_positives + K.epsilon())\n",
    "    return recall\n",
    "\n",
    "def precision(y_true, y_pred):\n",
    "    true_positives = K.sum(K.round(K.clip(y_true * y_pred, 0, 1)))\n",
    "    predicted_positives = K.sum(K.round(K.clip(y_pred, 0, 1)))\n",
    "    precision = true_positives / (predicted_positives + K.epsilon())\n",
    "    return precision\n",
    "\n",
    "def f1(y_true, y_pred):\n",
    "    precision = precision_m(y_true, y_pred)\n",
    "    recall = recall_m(y_true, y_pred)\n",
    "    return 2*((precision*recall)/(precision+recall+K.epsilon()))"
   ]
  },
  {
   "cell_type": "code",
   "execution_count": 678,
   "metadata": {},
   "outputs": [],
   "source": [
    "#!pip install wandb"
   ]
  },
  {
   "cell_type": "code",
   "execution_count": 679,
   "metadata": {},
   "outputs": [],
   "source": [
    "import wandb\n",
    "from wandb.keras import WandbCallback"
   ]
  },
  {
   "cell_type": "code",
   "execution_count": 681,
   "metadata": {},
   "outputs": [
    {
     "data": {
      "text/plain": [
       "((310, 5), (78, 5))"
      ]
     },
     "execution_count": 681,
     "metadata": {},
     "output_type": "execute_result"
    }
   ],
   "source": [
    "y_train,  y_val = y_one_hot, y_val_one_hot\n",
    "y_train.shape, y_val.shape"
   ]
  },
  {
   "cell_type": "code",
   "execution_count": 682,
   "metadata": {},
   "outputs": [
    {
     "data": {
      "text/plain": [
       "((310, 300, 1), (78, 300, 1))"
      ]
     },
     "execution_count": 682,
     "metadata": {},
     "output_type": "execute_result"
    }
   ],
   "source": [
    "x_train = normalize_signal(fhr, smean = 135, srange = 80)\n",
    "x_val = normalize_signal(fhr_v, smean = 135, srange = 80)\n",
    "x_train.shape,  x_val.shape"
   ]
  },
  {
   "cell_type": "code",
   "execution_count": 683,
   "metadata": {},
   "outputs": [
    {
     "data": {
      "image/png": "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\n",
      "text/plain": [
       "<Figure size 1080x576 with 2 Axes>"
      ]
     },
     "metadata": {
      "needs_background": "light"
     },
     "output_type": "display_data"
    }
   ],
   "source": [
    "fig = plot_ctg(x_train[55], uc[0], patient_num = patient)"
   ]
  },
  {
   "cell_type": "code",
   "execution_count": 684,
   "metadata": {},
   "outputs": [],
   "source": [
    "PARAMS = {\n",
    "    batch_size: 32,\n",
    "    epochs: 15,\n",
    "    model_name: 'model_1',\n",
    "    patience: 5,\n",
    "    factor: 0.2,\n",
    "    min_lr: 1e-6   \n",
    "}"
   ]
  },
  {
   "cell_type": "code",
   "execution_count": 685,
   "metadata": {},
   "outputs": [],
   "source": [
    "batch_size = 32\n",
    "epochs = 15\n",
    "class_weight = {0: 1, 1: 12}\n",
    "model_name = 'model_1'\n",
    "history_path = f'../../output/tensorboard/{model_name}'\n",
    "checkpoints_dir = f'../../output/checkpoints/{model_name}'\n",
    "logs_dir = f'../../output/logs/{model_name}'\n",
    "os.makedirs(logs_dir, exist_ok = True)\n",
    "os.makedirs(checkpoints_dir, exist_ok = True)\n",
    "patience=5\n",
    "factor = 0.2\n",
    "min_lr=1e-6\n",
    "fold = 0"
   ]
  },
  {
   "cell_type": "code",
   "execution_count": 686,
   "metadata": {},
   "outputs": [
    {
     "data": {
      "text/html": [
       "\n",
       "                Logging results to <a href=\"https://wandb.com\" target=\"_blank\">Weights & Biases</a> <a href=\"https://docs.wandb.com/integrations/jupyter.html\" target=\"_blank\">(Documentation)</a>.<br/>\n",
       "                Project page: <a href=\"https://app.wandb.ai/tati/my-project\" target=\"_blank\">https://app.wandb.ai/tati/my-project</a><br/>\n",
       "                Run page: <a href=\"https://app.wandb.ai/tati/my-project/runs/1tiv5tsc\" target=\"_blank\">https://app.wandb.ai/tati/my-project/runs/1tiv5tsc</a><br/>\n",
       "            "
      ],
      "text/plain": [
       "<IPython.core.display.HTML object>"
      ]
     },
     "metadata": {},
     "output_type": "display_data"
    },
    {
     "data": {
      "text/plain": [
       "W&B Run: https://app.wandb.ai/tati/my-project/runs/1tiv5tsc"
      ]
     },
     "execution_count": 686,
     "metadata": {},
     "output_type": "execute_result"
    }
   ],
   "source": [
    "wandb.init(project=\"experiment\")"
   ]
  },
  {
   "cell_type": "code",
   "execution_count": 687,
   "metadata": {},
   "outputs": [],
   "source": [
    "# 2. Save model inputs and hyperparameters\n",
    "cfg = wandb.config\n",
    "cfg.learning_rate = 0.001\n",
    "cfg.batch_size = 32\n",
    "cfg.epochs = 15\n",
    "cfg.model_name = 'model_1'\n",
    "cfg.patience = 5\n",
    "cfg.factor = 0.2\n",
    "cfg.min_lr = 1e-6"
   ]
  },
  {
   "cell_type": "code",
   "execution_count": 688,
   "metadata": {},
   "outputs": [
    {
     "ename": "ImportError",
     "evalue": "cannot import name 'RocAucScore' from 'src.training.AUC_Tanya' (..\\src\\training\\AUC_Tanya.py)",
     "output_type": "error",
     "traceback": [
      "\u001b[1;31m---------------------------------------------------------------------------\u001b[0m",
      "\u001b[1;31mImportError\u001b[0m                               Traceback (most recent call last)",
      "\u001b[1;32m<ipython-input-688-d1c8ac9ff617>\u001b[0m in \u001b[0;36m<module>\u001b[1;34m\u001b[0m\n\u001b[1;32m----> 1\u001b[1;33m \u001b[1;32mfrom\u001b[0m \u001b[0msrc\u001b[0m\u001b[1;33m.\u001b[0m\u001b[0mtraining\u001b[0m\u001b[1;33m.\u001b[0m\u001b[0mAUC_Tanya\u001b[0m \u001b[1;32mimport\u001b[0m \u001b[0mRocAucScore\u001b[0m\u001b[1;33m\u001b[0m\u001b[1;33m\u001b[0m\u001b[0m\n\u001b[0m",
      "\u001b[1;31mImportError\u001b[0m: cannot import name 'RocAucScore' from 'src.training.AUC_Tanya' (..\\src\\training\\AUC_Tanya.py)"
     ]
    }
   ],
   "source": [
    "from src.training.AUC_Tanya import RocAucScore"
   ]
  },
  {
   "cell_type": "code",
   "execution_count": 731,
   "metadata": {},
   "outputs": [],
   "source": [
    "# add callbacks\n",
    "aucs = IntervalEvaluation(train_data=(x_train, y_train), validation_data=(x_val, y_val), interval=1)\n",
    "#aucs = RocAucScore(train_data=(x_train, y_train), validation_data=(x_val, y_val), interval=1)\n",
    "reduce_lr = ReduceLROnPlateau(monitor='val_loss', factor=factor,\n",
    "                              patience=patience, min_lr=min_lr)\n",
    "save_model = ModelCheckpoint(\n",
    "    filepath=checkpoints_dir + 'weights{epoch:02d}_{val_loss:.2f}.hdf5',    \n",
    "    monitor='val_loss',\n",
    "    mode='min',\n",
    "    save_weights_only=False,\n",
    "    )\n",
    "   \n",
    "callbacks = [aucs, \n",
    "             reduce_lr,\n",
    "             save_model,\n",
    "             CSVLogger(f'history_{model_name}.csv'),\n",
    "             TensorBoard(log_dir=history_path),\n",
    "             EarlyStopping(monitor='val_loss', patience = 10),\n",
    "             WandbCallback(),\n",
    "            ]"
   ]
  },
  {
   "cell_type": "code",
   "execution_count": 732,
   "metadata": {},
   "outputs": [],
   "source": [
    "model.compile(loss=loss, optimizer=optimizer, metrics = [recall, precision, f1])"
   ]
  },
  {
   "cell_type": "code",
   "execution_count": 733,
   "metadata": {},
   "outputs": [
    {
     "name": "stdout",
     "output_type": "stream",
     "text": [
      "Epoch 1/15\n"
     ]
    },
    {
     "ename": "ValueError",
     "evalue": "in user code:\n\n    C:\\Users\\Tanya\\anaconda3\\lib\\site-packages\\tensorflow\\python\\keras\\engine\\training.py:571 train_function  *\n        outputs = self.distribute_strategy.run(\n    C:\\Users\\Tanya\\anaconda3\\lib\\site-packages\\tensorflow\\python\\distribute\\distribute_lib.py:951 run  **\n        return self._extended.call_for_each_replica(fn, args=args, kwargs=kwargs)\n    C:\\Users\\Tanya\\anaconda3\\lib\\site-packages\\tensorflow\\python\\distribute\\distribute_lib.py:2290 call_for_each_replica\n        return self._call_for_each_replica(fn, args, kwargs)\n    C:\\Users\\Tanya\\anaconda3\\lib\\site-packages\\tensorflow\\python\\distribute\\distribute_lib.py:2649 _call_for_each_replica\n        return fn(*args, **kwargs)\n    C:\\Users\\Tanya\\anaconda3\\lib\\site-packages\\tensorflow\\python\\keras\\engine\\training.py:533 train_step  **\n        y, y_pred, sample_weight, regularization_losses=self.losses)\n    C:\\Users\\Tanya\\anaconda3\\lib\\site-packages\\tensorflow\\python\\keras\\engine\\compile_utils.py:187 __call__\n        self._build(y_pred)\n    C:\\Users\\Tanya\\anaconda3\\lib\\site-packages\\tensorflow\\python\\keras\\engine\\compile_utils.py:140 _build\n        self._losses = nest.map_structure(self._get_loss_object, self._losses)\n    C:\\Users\\Tanya\\anaconda3\\lib\\site-packages\\tensorflow\\python\\util\\nest.py:617 map_structure\n        structure[0], [func(*x) for x in entries],\n    C:\\Users\\Tanya\\anaconda3\\lib\\site-packages\\tensorflow\\python\\util\\nest.py:617 <listcomp>\n        structure[0], [func(*x) for x in entries],\n    C:\\Users\\Tanya\\anaconda3\\lib\\site-packages\\tensorflow\\python\\keras\\engine\\compile_utils.py:264 _get_loss_object\n        loss = losses_mod.get(loss)\n    C:\\Users\\Tanya\\anaconda3\\lib\\site-packages\\tensorflow\\python\\keras\\losses.py:1864 get\n        'loss function identifier:', identifier)\n\n    ValueError: ('Could not interpret loss function identifier:', 1.6094387769699097)\n",
     "output_type": "error",
     "traceback": [
      "\u001b[1;31m---------------------------------------------------------------------------\u001b[0m",
      "\u001b[1;31mValueError\u001b[0m                                Traceback (most recent call last)",
      "\u001b[1;32m<ipython-input-733-7a717410b2c3>\u001b[0m in \u001b[0;36m<module>\u001b[1;34m\u001b[0m\n\u001b[0;32m      1\u001b[0m model_runner = model.fit(x_train, y_train, validation_data=(x_val, y_val), \n\u001b[0;32m      2\u001b[0m                          \u001b[0mbatch_size\u001b[0m \u001b[1;33m=\u001b[0m \u001b[1;36m128\u001b[0m\u001b[1;33m,\u001b[0m \u001b[0mepochs\u001b[0m\u001b[1;33m=\u001b[0m\u001b[0mepochs\u001b[0m\u001b[1;33m,\u001b[0m \u001b[0mverbose\u001b[0m\u001b[1;33m=\u001b[0m\u001b[1;32mTrue\u001b[0m\u001b[1;33m,\u001b[0m\u001b[1;33m\u001b[0m\u001b[1;33m\u001b[0m\u001b[0m\n\u001b[1;32m----> 3\u001b[1;33m                          callbacks=callbacks)\n\u001b[0m",
      "\u001b[1;32m~\\anaconda3\\lib\\site-packages\\tensorflow\\python\\keras\\engine\\training.py\u001b[0m in \u001b[0;36m_method_wrapper\u001b[1;34m(self, *args, **kwargs)\u001b[0m\n\u001b[0;32m     64\u001b[0m   \u001b[1;32mdef\u001b[0m \u001b[0m_method_wrapper\u001b[0m\u001b[1;33m(\u001b[0m\u001b[0mself\u001b[0m\u001b[1;33m,\u001b[0m \u001b[1;33m*\u001b[0m\u001b[0margs\u001b[0m\u001b[1;33m,\u001b[0m \u001b[1;33m**\u001b[0m\u001b[0mkwargs\u001b[0m\u001b[1;33m)\u001b[0m\u001b[1;33m:\u001b[0m\u001b[1;33m\u001b[0m\u001b[1;33m\u001b[0m\u001b[0m\n\u001b[0;32m     65\u001b[0m     \u001b[1;32mif\u001b[0m \u001b[1;32mnot\u001b[0m \u001b[0mself\u001b[0m\u001b[1;33m.\u001b[0m\u001b[0m_in_multi_worker_mode\u001b[0m\u001b[1;33m(\u001b[0m\u001b[1;33m)\u001b[0m\u001b[1;33m:\u001b[0m  \u001b[1;31m# pylint: disable=protected-access\u001b[0m\u001b[1;33m\u001b[0m\u001b[1;33m\u001b[0m\u001b[0m\n\u001b[1;32m---> 66\u001b[1;33m       \u001b[1;32mreturn\u001b[0m \u001b[0mmethod\u001b[0m\u001b[1;33m(\u001b[0m\u001b[0mself\u001b[0m\u001b[1;33m,\u001b[0m \u001b[1;33m*\u001b[0m\u001b[0margs\u001b[0m\u001b[1;33m,\u001b[0m \u001b[1;33m**\u001b[0m\u001b[0mkwargs\u001b[0m\u001b[1;33m)\u001b[0m\u001b[1;33m\u001b[0m\u001b[1;33m\u001b[0m\u001b[0m\n\u001b[0m\u001b[0;32m     67\u001b[0m \u001b[1;33m\u001b[0m\u001b[0m\n\u001b[0;32m     68\u001b[0m     \u001b[1;31m# Running inside `run_distribute_coordinator` already.\u001b[0m\u001b[1;33m\u001b[0m\u001b[1;33m\u001b[0m\u001b[1;33m\u001b[0m\u001b[0m\n",
      "\u001b[1;32m~\\anaconda3\\lib\\site-packages\\tensorflow\\python\\keras\\engine\\training.py\u001b[0m in \u001b[0;36mfit\u001b[1;34m(self, x, y, batch_size, epochs, verbose, callbacks, validation_split, validation_data, shuffle, class_weight, sample_weight, initial_epoch, steps_per_epoch, validation_steps, validation_batch_size, validation_freq, max_queue_size, workers, use_multiprocessing)\u001b[0m\n\u001b[0;32m    846\u001b[0m                 batch_size=batch_size):\n\u001b[0;32m    847\u001b[0m               \u001b[0mcallbacks\u001b[0m\u001b[1;33m.\u001b[0m\u001b[0mon_train_batch_begin\u001b[0m\u001b[1;33m(\u001b[0m\u001b[0mstep\u001b[0m\u001b[1;33m)\u001b[0m\u001b[1;33m\u001b[0m\u001b[1;33m\u001b[0m\u001b[0m\n\u001b[1;32m--> 848\u001b[1;33m               \u001b[0mtmp_logs\u001b[0m \u001b[1;33m=\u001b[0m \u001b[0mtrain_function\u001b[0m\u001b[1;33m(\u001b[0m\u001b[0miterator\u001b[0m\u001b[1;33m)\u001b[0m\u001b[1;33m\u001b[0m\u001b[1;33m\u001b[0m\u001b[0m\n\u001b[0m\u001b[0;32m    849\u001b[0m               \u001b[1;31m# Catch OutOfRangeError for Datasets of unknown size.\u001b[0m\u001b[1;33m\u001b[0m\u001b[1;33m\u001b[0m\u001b[1;33m\u001b[0m\u001b[0m\n\u001b[0;32m    850\u001b[0m               \u001b[1;31m# This blocks until the batch has finished executing.\u001b[0m\u001b[1;33m\u001b[0m\u001b[1;33m\u001b[0m\u001b[1;33m\u001b[0m\u001b[0m\n",
      "\u001b[1;32m~\\anaconda3\\lib\\site-packages\\tensorflow\\python\\eager\\def_function.py\u001b[0m in \u001b[0;36m__call__\u001b[1;34m(self, *args, **kwds)\u001b[0m\n\u001b[0;32m    578\u001b[0m         \u001b[0mxla_context\u001b[0m\u001b[1;33m.\u001b[0m\u001b[0mExit\u001b[0m\u001b[1;33m(\u001b[0m\u001b[1;33m)\u001b[0m\u001b[1;33m\u001b[0m\u001b[1;33m\u001b[0m\u001b[0m\n\u001b[0;32m    579\u001b[0m     \u001b[1;32melse\u001b[0m\u001b[1;33m:\u001b[0m\u001b[1;33m\u001b[0m\u001b[1;33m\u001b[0m\u001b[0m\n\u001b[1;32m--> 580\u001b[1;33m       \u001b[0mresult\u001b[0m \u001b[1;33m=\u001b[0m \u001b[0mself\u001b[0m\u001b[1;33m.\u001b[0m\u001b[0m_call\u001b[0m\u001b[1;33m(\u001b[0m\u001b[1;33m*\u001b[0m\u001b[0margs\u001b[0m\u001b[1;33m,\u001b[0m \u001b[1;33m**\u001b[0m\u001b[0mkwds\u001b[0m\u001b[1;33m)\u001b[0m\u001b[1;33m\u001b[0m\u001b[1;33m\u001b[0m\u001b[0m\n\u001b[0m\u001b[0;32m    581\u001b[0m \u001b[1;33m\u001b[0m\u001b[0m\n\u001b[0;32m    582\u001b[0m     \u001b[1;32mif\u001b[0m \u001b[0mtracing_count\u001b[0m \u001b[1;33m==\u001b[0m \u001b[0mself\u001b[0m\u001b[1;33m.\u001b[0m\u001b[0m_get_tracing_count\u001b[0m\u001b[1;33m(\u001b[0m\u001b[1;33m)\u001b[0m\u001b[1;33m:\u001b[0m\u001b[1;33m\u001b[0m\u001b[1;33m\u001b[0m\u001b[0m\n",
      "\u001b[1;32m~\\anaconda3\\lib\\site-packages\\tensorflow\\python\\eager\\def_function.py\u001b[0m in \u001b[0;36m_call\u001b[1;34m(self, *args, **kwds)\u001b[0m\n\u001b[0;32m    625\u001b[0m       \u001b[1;31m# This is the first call of __call__, so we have to initialize.\u001b[0m\u001b[1;33m\u001b[0m\u001b[1;33m\u001b[0m\u001b[1;33m\u001b[0m\u001b[0m\n\u001b[0;32m    626\u001b[0m       \u001b[0minitializers\u001b[0m \u001b[1;33m=\u001b[0m \u001b[1;33m[\u001b[0m\u001b[1;33m]\u001b[0m\u001b[1;33m\u001b[0m\u001b[1;33m\u001b[0m\u001b[0m\n\u001b[1;32m--> 627\u001b[1;33m       \u001b[0mself\u001b[0m\u001b[1;33m.\u001b[0m\u001b[0m_initialize\u001b[0m\u001b[1;33m(\u001b[0m\u001b[0margs\u001b[0m\u001b[1;33m,\u001b[0m \u001b[0mkwds\u001b[0m\u001b[1;33m,\u001b[0m \u001b[0madd_initializers_to\u001b[0m\u001b[1;33m=\u001b[0m\u001b[0minitializers\u001b[0m\u001b[1;33m)\u001b[0m\u001b[1;33m\u001b[0m\u001b[1;33m\u001b[0m\u001b[0m\n\u001b[0m\u001b[0;32m    628\u001b[0m     \u001b[1;32mfinally\u001b[0m\u001b[1;33m:\u001b[0m\u001b[1;33m\u001b[0m\u001b[1;33m\u001b[0m\u001b[0m\n\u001b[0;32m    629\u001b[0m       \u001b[1;31m# At this point we know that the initialization is complete (or less\u001b[0m\u001b[1;33m\u001b[0m\u001b[1;33m\u001b[0m\u001b[1;33m\u001b[0m\u001b[0m\n",
      "\u001b[1;32m~\\anaconda3\\lib\\site-packages\\tensorflow\\python\\eager\\def_function.py\u001b[0m in \u001b[0;36m_initialize\u001b[1;34m(self, args, kwds, add_initializers_to)\u001b[0m\n\u001b[0;32m    504\u001b[0m     self._concrete_stateful_fn = (\n\u001b[0;32m    505\u001b[0m         self._stateful_fn._get_concrete_function_internal_garbage_collected(  # pylint: disable=protected-access\n\u001b[1;32m--> 506\u001b[1;33m             *args, **kwds))\n\u001b[0m\u001b[0;32m    507\u001b[0m \u001b[1;33m\u001b[0m\u001b[0m\n\u001b[0;32m    508\u001b[0m     \u001b[1;32mdef\u001b[0m \u001b[0minvalid_creator_scope\u001b[0m\u001b[1;33m(\u001b[0m\u001b[1;33m*\u001b[0m\u001b[0munused_args\u001b[0m\u001b[1;33m,\u001b[0m \u001b[1;33m**\u001b[0m\u001b[0munused_kwds\u001b[0m\u001b[1;33m)\u001b[0m\u001b[1;33m:\u001b[0m\u001b[1;33m\u001b[0m\u001b[1;33m\u001b[0m\u001b[0m\n",
      "\u001b[1;32m~\\anaconda3\\lib\\site-packages\\tensorflow\\python\\eager\\function.py\u001b[0m in \u001b[0;36m_get_concrete_function_internal_garbage_collected\u001b[1;34m(self, *args, **kwargs)\u001b[0m\n\u001b[0;32m   2444\u001b[0m       \u001b[0margs\u001b[0m\u001b[1;33m,\u001b[0m \u001b[0mkwargs\u001b[0m \u001b[1;33m=\u001b[0m \u001b[1;32mNone\u001b[0m\u001b[1;33m,\u001b[0m \u001b[1;32mNone\u001b[0m\u001b[1;33m\u001b[0m\u001b[1;33m\u001b[0m\u001b[0m\n\u001b[0;32m   2445\u001b[0m     \u001b[1;32mwith\u001b[0m \u001b[0mself\u001b[0m\u001b[1;33m.\u001b[0m\u001b[0m_lock\u001b[0m\u001b[1;33m:\u001b[0m\u001b[1;33m\u001b[0m\u001b[1;33m\u001b[0m\u001b[0m\n\u001b[1;32m-> 2446\u001b[1;33m       \u001b[0mgraph_function\u001b[0m\u001b[1;33m,\u001b[0m \u001b[0m_\u001b[0m\u001b[1;33m,\u001b[0m \u001b[0m_\u001b[0m \u001b[1;33m=\u001b[0m \u001b[0mself\u001b[0m\u001b[1;33m.\u001b[0m\u001b[0m_maybe_define_function\u001b[0m\u001b[1;33m(\u001b[0m\u001b[0margs\u001b[0m\u001b[1;33m,\u001b[0m \u001b[0mkwargs\u001b[0m\u001b[1;33m)\u001b[0m\u001b[1;33m\u001b[0m\u001b[1;33m\u001b[0m\u001b[0m\n\u001b[0m\u001b[0;32m   2447\u001b[0m     \u001b[1;32mreturn\u001b[0m \u001b[0mgraph_function\u001b[0m\u001b[1;33m\u001b[0m\u001b[1;33m\u001b[0m\u001b[0m\n\u001b[0;32m   2448\u001b[0m \u001b[1;33m\u001b[0m\u001b[0m\n",
      "\u001b[1;32m~\\anaconda3\\lib\\site-packages\\tensorflow\\python\\eager\\function.py\u001b[0m in \u001b[0;36m_maybe_define_function\u001b[1;34m(self, args, kwargs)\u001b[0m\n\u001b[0;32m   2775\u001b[0m \u001b[1;33m\u001b[0m\u001b[0m\n\u001b[0;32m   2776\u001b[0m       \u001b[0mself\u001b[0m\u001b[1;33m.\u001b[0m\u001b[0m_function_cache\u001b[0m\u001b[1;33m.\u001b[0m\u001b[0mmissed\u001b[0m\u001b[1;33m.\u001b[0m\u001b[0madd\u001b[0m\u001b[1;33m(\u001b[0m\u001b[0mcall_context_key\u001b[0m\u001b[1;33m)\u001b[0m\u001b[1;33m\u001b[0m\u001b[1;33m\u001b[0m\u001b[0m\n\u001b[1;32m-> 2777\u001b[1;33m       \u001b[0mgraph_function\u001b[0m \u001b[1;33m=\u001b[0m \u001b[0mself\u001b[0m\u001b[1;33m.\u001b[0m\u001b[0m_create_graph_function\u001b[0m\u001b[1;33m(\u001b[0m\u001b[0margs\u001b[0m\u001b[1;33m,\u001b[0m \u001b[0mkwargs\u001b[0m\u001b[1;33m)\u001b[0m\u001b[1;33m\u001b[0m\u001b[1;33m\u001b[0m\u001b[0m\n\u001b[0m\u001b[0;32m   2778\u001b[0m       \u001b[0mself\u001b[0m\u001b[1;33m.\u001b[0m\u001b[0m_function_cache\u001b[0m\u001b[1;33m.\u001b[0m\u001b[0mprimary\u001b[0m\u001b[1;33m[\u001b[0m\u001b[0mcache_key\u001b[0m\u001b[1;33m]\u001b[0m \u001b[1;33m=\u001b[0m \u001b[0mgraph_function\u001b[0m\u001b[1;33m\u001b[0m\u001b[1;33m\u001b[0m\u001b[0m\n\u001b[0;32m   2779\u001b[0m       \u001b[1;32mreturn\u001b[0m \u001b[0mgraph_function\u001b[0m\u001b[1;33m,\u001b[0m \u001b[0margs\u001b[0m\u001b[1;33m,\u001b[0m \u001b[0mkwargs\u001b[0m\u001b[1;33m\u001b[0m\u001b[1;33m\u001b[0m\u001b[0m\n",
      "\u001b[1;32m~\\anaconda3\\lib\\site-packages\\tensorflow\\python\\eager\\function.py\u001b[0m in \u001b[0;36m_create_graph_function\u001b[1;34m(self, args, kwargs, override_flat_arg_shapes)\u001b[0m\n\u001b[0;32m   2665\u001b[0m             \u001b[0marg_names\u001b[0m\u001b[1;33m=\u001b[0m\u001b[0marg_names\u001b[0m\u001b[1;33m,\u001b[0m\u001b[1;33m\u001b[0m\u001b[1;33m\u001b[0m\u001b[0m\n\u001b[0;32m   2666\u001b[0m             \u001b[0moverride_flat_arg_shapes\u001b[0m\u001b[1;33m=\u001b[0m\u001b[0moverride_flat_arg_shapes\u001b[0m\u001b[1;33m,\u001b[0m\u001b[1;33m\u001b[0m\u001b[1;33m\u001b[0m\u001b[0m\n\u001b[1;32m-> 2667\u001b[1;33m             capture_by_value=self._capture_by_value),\n\u001b[0m\u001b[0;32m   2668\u001b[0m         \u001b[0mself\u001b[0m\u001b[1;33m.\u001b[0m\u001b[0m_function_attributes\u001b[0m\u001b[1;33m,\u001b[0m\u001b[1;33m\u001b[0m\u001b[1;33m\u001b[0m\u001b[0m\n\u001b[0;32m   2669\u001b[0m         \u001b[1;31m# Tell the ConcreteFunction to clean up its graph once it goes out of\u001b[0m\u001b[1;33m\u001b[0m\u001b[1;33m\u001b[0m\u001b[1;33m\u001b[0m\u001b[0m\n",
      "\u001b[1;32m~\\anaconda3\\lib\\site-packages\\tensorflow\\python\\framework\\func_graph.py\u001b[0m in \u001b[0;36mfunc_graph_from_py_func\u001b[1;34m(name, python_func, args, kwargs, signature, func_graph, autograph, autograph_options, add_control_dependencies, arg_names, op_return_value, collections, capture_by_value, override_flat_arg_shapes)\u001b[0m\n\u001b[0;32m    979\u001b[0m         \u001b[0m_\u001b[0m\u001b[1;33m,\u001b[0m \u001b[0moriginal_func\u001b[0m \u001b[1;33m=\u001b[0m \u001b[0mtf_decorator\u001b[0m\u001b[1;33m.\u001b[0m\u001b[0munwrap\u001b[0m\u001b[1;33m(\u001b[0m\u001b[0mpython_func\u001b[0m\u001b[1;33m)\u001b[0m\u001b[1;33m\u001b[0m\u001b[1;33m\u001b[0m\u001b[0m\n\u001b[0;32m    980\u001b[0m \u001b[1;33m\u001b[0m\u001b[0m\n\u001b[1;32m--> 981\u001b[1;33m       \u001b[0mfunc_outputs\u001b[0m \u001b[1;33m=\u001b[0m \u001b[0mpython_func\u001b[0m\u001b[1;33m(\u001b[0m\u001b[1;33m*\u001b[0m\u001b[0mfunc_args\u001b[0m\u001b[1;33m,\u001b[0m \u001b[1;33m**\u001b[0m\u001b[0mfunc_kwargs\u001b[0m\u001b[1;33m)\u001b[0m\u001b[1;33m\u001b[0m\u001b[1;33m\u001b[0m\u001b[0m\n\u001b[0m\u001b[0;32m    982\u001b[0m \u001b[1;33m\u001b[0m\u001b[0m\n\u001b[0;32m    983\u001b[0m       \u001b[1;31m# invariant: `func_outputs` contains only Tensors, CompositeTensors,\u001b[0m\u001b[1;33m\u001b[0m\u001b[1;33m\u001b[0m\u001b[1;33m\u001b[0m\u001b[0m\n",
      "\u001b[1;32m~\\anaconda3\\lib\\site-packages\\tensorflow\\python\\eager\\def_function.py\u001b[0m in \u001b[0;36mwrapped_fn\u001b[1;34m(*args, **kwds)\u001b[0m\n\u001b[0;32m    439\u001b[0m         \u001b[1;31m# __wrapped__ allows AutoGraph to swap in a converted function. We give\u001b[0m\u001b[1;33m\u001b[0m\u001b[1;33m\u001b[0m\u001b[1;33m\u001b[0m\u001b[0m\n\u001b[0;32m    440\u001b[0m         \u001b[1;31m# the function a weak reference to itself to avoid a reference cycle.\u001b[0m\u001b[1;33m\u001b[0m\u001b[1;33m\u001b[0m\u001b[1;33m\u001b[0m\u001b[0m\n\u001b[1;32m--> 441\u001b[1;33m         \u001b[1;32mreturn\u001b[0m \u001b[0mweak_wrapped_fn\u001b[0m\u001b[1;33m(\u001b[0m\u001b[1;33m)\u001b[0m\u001b[1;33m.\u001b[0m\u001b[0m__wrapped__\u001b[0m\u001b[1;33m(\u001b[0m\u001b[1;33m*\u001b[0m\u001b[0margs\u001b[0m\u001b[1;33m,\u001b[0m \u001b[1;33m**\u001b[0m\u001b[0mkwds\u001b[0m\u001b[1;33m)\u001b[0m\u001b[1;33m\u001b[0m\u001b[1;33m\u001b[0m\u001b[0m\n\u001b[0m\u001b[0;32m    442\u001b[0m     \u001b[0mweak_wrapped_fn\u001b[0m \u001b[1;33m=\u001b[0m \u001b[0mweakref\u001b[0m\u001b[1;33m.\u001b[0m\u001b[0mref\u001b[0m\u001b[1;33m(\u001b[0m\u001b[0mwrapped_fn\u001b[0m\u001b[1;33m)\u001b[0m\u001b[1;33m\u001b[0m\u001b[1;33m\u001b[0m\u001b[0m\n\u001b[0;32m    443\u001b[0m \u001b[1;33m\u001b[0m\u001b[0m\n",
      "\u001b[1;32m~\\anaconda3\\lib\\site-packages\\tensorflow\\python\\framework\\func_graph.py\u001b[0m in \u001b[0;36mwrapper\u001b[1;34m(*args, **kwargs)\u001b[0m\n\u001b[0;32m    966\u001b[0m           \u001b[1;32mexcept\u001b[0m \u001b[0mException\u001b[0m \u001b[1;32mas\u001b[0m \u001b[0me\u001b[0m\u001b[1;33m:\u001b[0m  \u001b[1;31m# pylint:disable=broad-except\u001b[0m\u001b[1;33m\u001b[0m\u001b[1;33m\u001b[0m\u001b[0m\n\u001b[0;32m    967\u001b[0m             \u001b[1;32mif\u001b[0m \u001b[0mhasattr\u001b[0m\u001b[1;33m(\u001b[0m\u001b[0me\u001b[0m\u001b[1;33m,\u001b[0m \u001b[1;34m\"ag_error_metadata\"\u001b[0m\u001b[1;33m)\u001b[0m\u001b[1;33m:\u001b[0m\u001b[1;33m\u001b[0m\u001b[1;33m\u001b[0m\u001b[0m\n\u001b[1;32m--> 968\u001b[1;33m               \u001b[1;32mraise\u001b[0m \u001b[0me\u001b[0m\u001b[1;33m.\u001b[0m\u001b[0mag_error_metadata\u001b[0m\u001b[1;33m.\u001b[0m\u001b[0mto_exception\u001b[0m\u001b[1;33m(\u001b[0m\u001b[0me\u001b[0m\u001b[1;33m)\u001b[0m\u001b[1;33m\u001b[0m\u001b[1;33m\u001b[0m\u001b[0m\n\u001b[0m\u001b[0;32m    969\u001b[0m             \u001b[1;32melse\u001b[0m\u001b[1;33m:\u001b[0m\u001b[1;33m\u001b[0m\u001b[1;33m\u001b[0m\u001b[0m\n\u001b[0;32m    970\u001b[0m               \u001b[1;32mraise\u001b[0m\u001b[1;33m\u001b[0m\u001b[1;33m\u001b[0m\u001b[0m\n",
      "\u001b[1;31mValueError\u001b[0m: in user code:\n\n    C:\\Users\\Tanya\\anaconda3\\lib\\site-packages\\tensorflow\\python\\keras\\engine\\training.py:571 train_function  *\n        outputs = self.distribute_strategy.run(\n    C:\\Users\\Tanya\\anaconda3\\lib\\site-packages\\tensorflow\\python\\distribute\\distribute_lib.py:951 run  **\n        return self._extended.call_for_each_replica(fn, args=args, kwargs=kwargs)\n    C:\\Users\\Tanya\\anaconda3\\lib\\site-packages\\tensorflow\\python\\distribute\\distribute_lib.py:2290 call_for_each_replica\n        return self._call_for_each_replica(fn, args, kwargs)\n    C:\\Users\\Tanya\\anaconda3\\lib\\site-packages\\tensorflow\\python\\distribute\\distribute_lib.py:2649 _call_for_each_replica\n        return fn(*args, **kwargs)\n    C:\\Users\\Tanya\\anaconda3\\lib\\site-packages\\tensorflow\\python\\keras\\engine\\training.py:533 train_step  **\n        y, y_pred, sample_weight, regularization_losses=self.losses)\n    C:\\Users\\Tanya\\anaconda3\\lib\\site-packages\\tensorflow\\python\\keras\\engine\\compile_utils.py:187 __call__\n        self._build(y_pred)\n    C:\\Users\\Tanya\\anaconda3\\lib\\site-packages\\tensorflow\\python\\keras\\engine\\compile_utils.py:140 _build\n        self._losses = nest.map_structure(self._get_loss_object, self._losses)\n    C:\\Users\\Tanya\\anaconda3\\lib\\site-packages\\tensorflow\\python\\util\\nest.py:617 map_structure\n        structure[0], [func(*x) for x in entries],\n    C:\\Users\\Tanya\\anaconda3\\lib\\site-packages\\tensorflow\\python\\util\\nest.py:617 <listcomp>\n        structure[0], [func(*x) for x in entries],\n    C:\\Users\\Tanya\\anaconda3\\lib\\site-packages\\tensorflow\\python\\keras\\engine\\compile_utils.py:264 _get_loss_object\n        loss = losses_mod.get(loss)\n    C:\\Users\\Tanya\\anaconda3\\lib\\site-packages\\tensorflow\\python\\keras\\losses.py:1864 get\n        'loss function identifier:', identifier)\n\n    ValueError: ('Could not interpret loss function identifier:', 1.6094387769699097)\n"
     ]
    }
   ],
   "source": [
    "model_runner = model.fit(x_train, y_train, validation_data=(x_val, y_val), \n",
    "                         batch_size = 128, epochs=epochs, verbose=True,\n",
    "                         callbacks=callbacks)"
   ]
  },
  {
   "cell_type": "code",
   "execution_count": 729,
   "metadata": {},
   "outputs": [],
   "source": [
    "# evaluate model\n",
    "val = model.evaluate(x_val, y_val, batch_size=batch_size, verbose=0) "
   ]
  },
  {
   "cell_type": "code",
   "execution_count": 730,
   "metadata": {},
   "outputs": [
    {
     "name": "stdout",
     "output_type": "stream",
     "text": [
      "[1.6094387769699097, 0.0, 0.0, 0.0]\n"
     ]
    }
   ],
   "source": [
    "print(loss)"
   ]
  },
  {
   "cell_type": "code",
   "execution_count": null,
   "metadata": {},
   "outputs": [],
   "source": []
  },
  {
   "cell_type": "code",
   "execution_count": null,
   "metadata": {},
   "outputs": [],
   "source": [
    "# Iterate over the batches of a dataset.\n",
    "for x, y in dataset:\n",
    "    # Open a GradientTape.\n",
    "    with tf.GradientTape() as tape:\n",
    "        # Forward pass\n",
    "        logits = model(x)\n",
    "        # Loss value for this batch.\n",
    "        loss_value = loss_fn(y, logits)\n",
    "\n",
    "    # Get gradients of loss wrt the weights.\n",
    "    gradients = tape.gradient(loss_value, model.trainable_weights)\n",
    "\n",
    "    # Update the weights of the model.\n",
    "    optimizer.apply_gradients(zip(gradients, model.trainable_weights))"
   ]
  },
  {
   "cell_type": "code",
   "execution_count": null,
   "metadata": {},
   "outputs": [],
   "source": []
  },
  {
   "cell_type": "code",
   "execution_count": null,
   "metadata": {},
   "outputs": [],
   "source": []
  },
  {
   "cell_type": "code",
   "execution_count": null,
   "metadata": {},
   "outputs": [],
   "source": []
  },
  {
   "cell_type": "code",
   "execution_count": null,
   "metadata": {},
   "outputs": [],
   "source": []
  }
 ],
 "metadata": {
  "kernelspec": {
   "display_name": "Python 3",
   "language": "python",
   "name": "python3"
  },
  "language_info": {
   "codemirror_mode": {
    "name": "ipython",
    "version": 3
   },
   "file_extension": ".py",
   "mimetype": "text/x-python",
   "name": "python",
   "nbconvert_exporter": "python",
   "pygments_lexer": "ipython3",
   "version": "3.7.6"
  }
 },
 "nbformat": 4,
 "nbformat_minor": 4
}
